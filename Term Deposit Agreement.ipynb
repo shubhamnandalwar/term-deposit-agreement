{
 "cells": [
  {
   "cell_type": "code",
   "execution_count": 111,
   "id": "b0d130a1",
   "metadata": {},
   "outputs": [],
   "source": [
    "import pandas as pd\n",
    "import numpy as np\n",
    "import seaborn as sns\n",
    "import matplotlib.pyplot as plt\n",
    "from sklearn.linear_model import LogisticRegression\n",
    "import warnings\n",
    "warnings.filterwarnings(\"ignore\")\n",
    "\n",
    "\n",
    "from sklearn.linear_model import LogisticRegression\n",
    "from sklearn.neighbors import KNeighborsClassifier\n",
    "from sklearn.tree import DecisionTreeClassifier\n",
    "from sklearn.ensemble import RandomForestClassifier\n",
    "from sklearn.ensemble import AdaBoostClassifier\n",
    "from sklearn.naive_bayes import GaussianNB\n",
    "from sklearn.svm import SVC\n",
    "\n",
    "from sklearn.model_selection import train_test_split,GridSearchCV,RandomizedSearchCV\n",
    "from sklearn.preprocessing import MinMaxScaler,StandardScaler\n",
    "from sklearn.metrics import confusion_matrix,classification_report,accuracy_score\n",
    "\n",
    "import pickle\n",
    "import os"
   ]
  },
  {
   "cell_type": "markdown",
   "id": "d8d4269c",
   "metadata": {},
   "source": [
    "# problem statement"
   ]
  },
  {
   "cell_type": "code",
   "execution_count": null,
   "id": "d50a8cb5",
   "metadata": {},
   "outputs": [],
   "source": [
    "predicting the customers who can sign the term deposit agreement with the bank"
   ]
  },
  {
   "cell_type": "markdown",
   "id": "d3d16aac",
   "metadata": {},
   "source": [
    "# data gathering"
   ]
  },
  {
   "cell_type": "code",
   "execution_count": 6,
   "id": "89042c8f",
   "metadata": {},
   "outputs": [
    {
     "data": {
      "text/html": [
       "<div>\n",
       "<style scoped>\n",
       "    .dataframe tbody tr th:only-of-type {\n",
       "        vertical-align: middle;\n",
       "    }\n",
       "\n",
       "    .dataframe tbody tr th {\n",
       "        vertical-align: top;\n",
       "    }\n",
       "\n",
       "    .dataframe thead th {\n",
       "        text-align: right;\n",
       "    }\n",
       "</style>\n",
       "<table border=\"1\" class=\"dataframe\">\n",
       "  <thead>\n",
       "    <tr style=\"text-align: right;\">\n",
       "      <th></th>\n",
       "      <th>Unnamed: 0</th>\n",
       "      <th>age</th>\n",
       "      <th>job</th>\n",
       "      <th>marital</th>\n",
       "      <th>education</th>\n",
       "      <th>default</th>\n",
       "      <th>balance</th>\n",
       "      <th>housing</th>\n",
       "      <th>loan</th>\n",
       "      <th>contact</th>\n",
       "      <th>day</th>\n",
       "      <th>month</th>\n",
       "      <th>duration</th>\n",
       "      <th>campaign</th>\n",
       "      <th>pdays</th>\n",
       "      <th>previous</th>\n",
       "      <th>poutcome</th>\n",
       "      <th>y</th>\n",
       "    </tr>\n",
       "  </thead>\n",
       "  <tbody>\n",
       "    <tr>\n",
       "      <th>0</th>\n",
       "      <td>0</td>\n",
       "      <td>58</td>\n",
       "      <td>\"management\"</td>\n",
       "      <td>\"married\"</td>\n",
       "      <td>\"tertiary\"</td>\n",
       "      <td>\"no\"</td>\n",
       "      <td>2143</td>\n",
       "      <td>\"yes\"</td>\n",
       "      <td>\"no\"</td>\n",
       "      <td>\"unknown\"</td>\n",
       "      <td>5</td>\n",
       "      <td>\"may\"</td>\n",
       "      <td>261</td>\n",
       "      <td>1</td>\n",
       "      <td>-1</td>\n",
       "      <td>0</td>\n",
       "      <td>\"unknown\"</td>\n",
       "      <td>\"no\"</td>\n",
       "    </tr>\n",
       "    <tr>\n",
       "      <th>1</th>\n",
       "      <td>1</td>\n",
       "      <td>44</td>\n",
       "      <td>\"technician\"</td>\n",
       "      <td>\"single\"</td>\n",
       "      <td>\"secondary\"</td>\n",
       "      <td>\"no\"</td>\n",
       "      <td>29</td>\n",
       "      <td>\"yes\"</td>\n",
       "      <td>\"no\"</td>\n",
       "      <td>\"unknown\"</td>\n",
       "      <td>5</td>\n",
       "      <td>\"may\"</td>\n",
       "      <td>151</td>\n",
       "      <td>1</td>\n",
       "      <td>-1</td>\n",
       "      <td>0</td>\n",
       "      <td>\"unknown\"</td>\n",
       "      <td>\"no\"</td>\n",
       "    </tr>\n",
       "    <tr>\n",
       "      <th>2</th>\n",
       "      <td>2</td>\n",
       "      <td>33</td>\n",
       "      <td>\"entrepreneur\"</td>\n",
       "      <td>\"married\"</td>\n",
       "      <td>\"secondary\"</td>\n",
       "      <td>\"no\"</td>\n",
       "      <td>2</td>\n",
       "      <td>\"yes\"</td>\n",
       "      <td>\"yes\"</td>\n",
       "      <td>\"unknown\"</td>\n",
       "      <td>5</td>\n",
       "      <td>\"may\"</td>\n",
       "      <td>76</td>\n",
       "      <td>1</td>\n",
       "      <td>-1</td>\n",
       "      <td>0</td>\n",
       "      <td>\"unknown\"</td>\n",
       "      <td>\"no\"</td>\n",
       "    </tr>\n",
       "    <tr>\n",
       "      <th>3</th>\n",
       "      <td>3</td>\n",
       "      <td>47</td>\n",
       "      <td>\"blue-collar\"</td>\n",
       "      <td>\"married\"</td>\n",
       "      <td>\"unknown\"</td>\n",
       "      <td>\"no\"</td>\n",
       "      <td>1506</td>\n",
       "      <td>\"yes\"</td>\n",
       "      <td>\"no\"</td>\n",
       "      <td>\"unknown\"</td>\n",
       "      <td>5</td>\n",
       "      <td>\"may\"</td>\n",
       "      <td>92</td>\n",
       "      <td>1</td>\n",
       "      <td>-1</td>\n",
       "      <td>0</td>\n",
       "      <td>\"unknown\"</td>\n",
       "      <td>\"no\"</td>\n",
       "    </tr>\n",
       "    <tr>\n",
       "      <th>4</th>\n",
       "      <td>4</td>\n",
       "      <td>33</td>\n",
       "      <td>\"unknown\"</td>\n",
       "      <td>\"single\"</td>\n",
       "      <td>\"unknown\"</td>\n",
       "      <td>\"no\"</td>\n",
       "      <td>1</td>\n",
       "      <td>\"no\"</td>\n",
       "      <td>\"no\"</td>\n",
       "      <td>\"unknown\"</td>\n",
       "      <td>5</td>\n",
       "      <td>\"may\"</td>\n",
       "      <td>198</td>\n",
       "      <td>1</td>\n",
       "      <td>-1</td>\n",
       "      <td>0</td>\n",
       "      <td>\"unknown\"</td>\n",
       "      <td>\"no\"</td>\n",
       "    </tr>\n",
       "    <tr>\n",
       "      <th>...</th>\n",
       "      <td>...</td>\n",
       "      <td>...</td>\n",
       "      <td>...</td>\n",
       "      <td>...</td>\n",
       "      <td>...</td>\n",
       "      <td>...</td>\n",
       "      <td>...</td>\n",
       "      <td>...</td>\n",
       "      <td>...</td>\n",
       "      <td>...</td>\n",
       "      <td>...</td>\n",
       "      <td>...</td>\n",
       "      <td>...</td>\n",
       "      <td>...</td>\n",
       "      <td>...</td>\n",
       "      <td>...</td>\n",
       "      <td>...</td>\n",
       "      <td>...</td>\n",
       "    </tr>\n",
       "    <tr>\n",
       "      <th>45206</th>\n",
       "      <td>45206</td>\n",
       "      <td>51</td>\n",
       "      <td>\"technician\"</td>\n",
       "      <td>\"married\"</td>\n",
       "      <td>\"tertiary\"</td>\n",
       "      <td>\"no\"</td>\n",
       "      <td>825</td>\n",
       "      <td>\"no\"</td>\n",
       "      <td>\"no\"</td>\n",
       "      <td>\"cellular\"</td>\n",
       "      <td>17</td>\n",
       "      <td>\"nov\"</td>\n",
       "      <td>977</td>\n",
       "      <td>3</td>\n",
       "      <td>-1</td>\n",
       "      <td>0</td>\n",
       "      <td>\"unknown\"</td>\n",
       "      <td>\"yes\"</td>\n",
       "    </tr>\n",
       "    <tr>\n",
       "      <th>45207</th>\n",
       "      <td>45207</td>\n",
       "      <td>71</td>\n",
       "      <td>\"retired\"</td>\n",
       "      <td>\"divorced\"</td>\n",
       "      <td>\"primary\"</td>\n",
       "      <td>\"no\"</td>\n",
       "      <td>1729</td>\n",
       "      <td>\"no\"</td>\n",
       "      <td>\"no\"</td>\n",
       "      <td>\"cellular\"</td>\n",
       "      <td>17</td>\n",
       "      <td>\"nov\"</td>\n",
       "      <td>456</td>\n",
       "      <td>2</td>\n",
       "      <td>-1</td>\n",
       "      <td>0</td>\n",
       "      <td>\"unknown\"</td>\n",
       "      <td>\"yes\"</td>\n",
       "    </tr>\n",
       "    <tr>\n",
       "      <th>45208</th>\n",
       "      <td>45208</td>\n",
       "      <td>72</td>\n",
       "      <td>\"retired\"</td>\n",
       "      <td>\"married\"</td>\n",
       "      <td>\"secondary\"</td>\n",
       "      <td>\"no\"</td>\n",
       "      <td>5715</td>\n",
       "      <td>\"no\"</td>\n",
       "      <td>\"no\"</td>\n",
       "      <td>\"cellular\"</td>\n",
       "      <td>17</td>\n",
       "      <td>\"nov\"</td>\n",
       "      <td>1127</td>\n",
       "      <td>5</td>\n",
       "      <td>184</td>\n",
       "      <td>3</td>\n",
       "      <td>\"success\"</td>\n",
       "      <td>\"yes\"</td>\n",
       "    </tr>\n",
       "    <tr>\n",
       "      <th>45209</th>\n",
       "      <td>45209</td>\n",
       "      <td>57</td>\n",
       "      <td>\"blue-collar\"</td>\n",
       "      <td>\"married\"</td>\n",
       "      <td>\"secondary\"</td>\n",
       "      <td>\"no\"</td>\n",
       "      <td>668</td>\n",
       "      <td>\"no\"</td>\n",
       "      <td>\"no\"</td>\n",
       "      <td>\"telephone\"</td>\n",
       "      <td>17</td>\n",
       "      <td>\"nov\"</td>\n",
       "      <td>508</td>\n",
       "      <td>4</td>\n",
       "      <td>-1</td>\n",
       "      <td>0</td>\n",
       "      <td>\"unknown\"</td>\n",
       "      <td>\"no\"</td>\n",
       "    </tr>\n",
       "    <tr>\n",
       "      <th>45210</th>\n",
       "      <td>45210</td>\n",
       "      <td>37</td>\n",
       "      <td>\"entrepreneur\"</td>\n",
       "      <td>\"married\"</td>\n",
       "      <td>\"secondary\"</td>\n",
       "      <td>\"no\"</td>\n",
       "      <td>2971</td>\n",
       "      <td>\"no\"</td>\n",
       "      <td>\"no\"</td>\n",
       "      <td>\"cellular\"</td>\n",
       "      <td>17</td>\n",
       "      <td>\"nov\"</td>\n",
       "      <td>361</td>\n",
       "      <td>2</td>\n",
       "      <td>188</td>\n",
       "      <td>11</td>\n",
       "      <td>\"other\"</td>\n",
       "      <td>\"no\"</td>\n",
       "    </tr>\n",
       "  </tbody>\n",
       "</table>\n",
       "<p>45211 rows × 18 columns</p>\n",
       "</div>"
      ],
      "text/plain": [
       "       Unnamed: 0  age             job     marital    education default  \\\n",
       "0               0   58    \"management\"   \"married\"   \"tertiary\"    \"no\"   \n",
       "1               1   44    \"technician\"    \"single\"  \"secondary\"    \"no\"   \n",
       "2               2   33  \"entrepreneur\"   \"married\"  \"secondary\"    \"no\"   \n",
       "3               3   47   \"blue-collar\"   \"married\"    \"unknown\"    \"no\"   \n",
       "4               4   33       \"unknown\"    \"single\"    \"unknown\"    \"no\"   \n",
       "...           ...  ...             ...         ...          ...     ...   \n",
       "45206       45206   51    \"technician\"   \"married\"   \"tertiary\"    \"no\"   \n",
       "45207       45207   71       \"retired\"  \"divorced\"    \"primary\"    \"no\"   \n",
       "45208       45208   72       \"retired\"   \"married\"  \"secondary\"    \"no\"   \n",
       "45209       45209   57   \"blue-collar\"   \"married\"  \"secondary\"    \"no\"   \n",
       "45210       45210   37  \"entrepreneur\"   \"married\"  \"secondary\"    \"no\"   \n",
       "\n",
       "       balance housing   loan      contact  day  month  duration  campaign  \\\n",
       "0         2143   \"yes\"   \"no\"    \"unknown\"    5  \"may\"       261         1   \n",
       "1           29   \"yes\"   \"no\"    \"unknown\"    5  \"may\"       151         1   \n",
       "2            2   \"yes\"  \"yes\"    \"unknown\"    5  \"may\"        76         1   \n",
       "3         1506   \"yes\"   \"no\"    \"unknown\"    5  \"may\"        92         1   \n",
       "4            1    \"no\"   \"no\"    \"unknown\"    5  \"may\"       198         1   \n",
       "...        ...     ...    ...          ...  ...    ...       ...       ...   \n",
       "45206      825    \"no\"   \"no\"   \"cellular\"   17  \"nov\"       977         3   \n",
       "45207     1729    \"no\"   \"no\"   \"cellular\"   17  \"nov\"       456         2   \n",
       "45208     5715    \"no\"   \"no\"   \"cellular\"   17  \"nov\"      1127         5   \n",
       "45209      668    \"no\"   \"no\"  \"telephone\"   17  \"nov\"       508         4   \n",
       "45210     2971    \"no\"   \"no\"   \"cellular\"   17  \"nov\"       361         2   \n",
       "\n",
       "       pdays  previous   poutcome      y  \n",
       "0         -1         0  \"unknown\"   \"no\"  \n",
       "1         -1         0  \"unknown\"   \"no\"  \n",
       "2         -1         0  \"unknown\"   \"no\"  \n",
       "3         -1         0  \"unknown\"   \"no\"  \n",
       "4         -1         0  \"unknown\"   \"no\"  \n",
       "...      ...       ...        ...    ...  \n",
       "45206     -1         0  \"unknown\"  \"yes\"  \n",
       "45207     -1         0  \"unknown\"  \"yes\"  \n",
       "45208    184         3  \"success\"  \"yes\"  \n",
       "45209     -1         0  \"unknown\"   \"no\"  \n",
       "45210    188        11    \"other\"   \"no\"  \n",
       "\n",
       "[45211 rows x 18 columns]"
      ]
     },
     "execution_count": 6,
     "metadata": {},
     "output_type": "execute_result"
    }
   ],
   "source": [
    "df=pd.read_csv(\"bank.csv\")\n",
    "df"
   ]
  },
  {
   "cell_type": "code",
   "execution_count": 7,
   "id": "fd1bd9aa",
   "metadata": {},
   "outputs": [
    {
     "data": {
      "text/plain": [
       "Index(['Unnamed: 0', 'age', 'job', 'marital', 'education', 'default',\n",
       "       'balance', 'housing', 'loan', 'contact', 'day', 'month', 'duration',\n",
       "       'campaign', 'pdays', 'previous', 'poutcome', 'y'],\n",
       "      dtype='object')"
      ]
     },
     "execution_count": 7,
     "metadata": {},
     "output_type": "execute_result"
    }
   ],
   "source": [
    "df.columns"
   ]
  },
  {
   "cell_type": "code",
   "execution_count": 8,
   "id": "ac7c7c71",
   "metadata": {},
   "outputs": [],
   "source": [
    "df=df.drop(\"Unnamed: 0\",axis=1)"
   ]
  },
  {
   "cell_type": "code",
   "execution_count": 9,
   "id": "75600929",
   "metadata": {},
   "outputs": [
    {
     "data": {
      "text/plain": [
       "(45211, 17)"
      ]
     },
     "execution_count": 9,
     "metadata": {},
     "output_type": "execute_result"
    }
   ],
   "source": [
    "df.shape"
   ]
  },
  {
   "cell_type": "code",
   "execution_count": 10,
   "id": "64685865",
   "metadata": {},
   "outputs": [
    {
     "data": {
      "text/plain": [
       "age          0.0\n",
       "job          0.0\n",
       "marital      0.0\n",
       "education    0.0\n",
       "default      0.0\n",
       "balance      0.0\n",
       "housing      0.0\n",
       "loan         0.0\n",
       "contact      0.0\n",
       "day          0.0\n",
       "month        0.0\n",
       "duration     0.0\n",
       "campaign     0.0\n",
       "pdays        0.0\n",
       "previous     0.0\n",
       "poutcome     0.0\n",
       "y            0.0\n",
       "dtype: float64"
      ]
     },
     "execution_count": 10,
     "metadata": {},
     "output_type": "execute_result"
    }
   ],
   "source": [
    "df.isna().mean()*100"
   ]
  },
  {
   "cell_type": "code",
   "execution_count": 11,
   "id": "6e73bffc",
   "metadata": {},
   "outputs": [
    {
     "data": {
      "text/html": [
       "<div>\n",
       "<style scoped>\n",
       "    .dataframe tbody tr th:only-of-type {\n",
       "        vertical-align: middle;\n",
       "    }\n",
       "\n",
       "    .dataframe tbody tr th {\n",
       "        vertical-align: top;\n",
       "    }\n",
       "\n",
       "    .dataframe thead th {\n",
       "        text-align: right;\n",
       "    }\n",
       "</style>\n",
       "<table border=\"1\" class=\"dataframe\">\n",
       "  <thead>\n",
       "    <tr style=\"text-align: right;\">\n",
       "      <th></th>\n",
       "      <th>age</th>\n",
       "      <th>balance</th>\n",
       "      <th>day</th>\n",
       "      <th>duration</th>\n",
       "      <th>campaign</th>\n",
       "      <th>pdays</th>\n",
       "      <th>previous</th>\n",
       "    </tr>\n",
       "  </thead>\n",
       "  <tbody>\n",
       "    <tr>\n",
       "      <th>count</th>\n",
       "      <td>45211.000000</td>\n",
       "      <td>45211.000000</td>\n",
       "      <td>45211.000000</td>\n",
       "      <td>45211.000000</td>\n",
       "      <td>45211.000000</td>\n",
       "      <td>45211.000000</td>\n",
       "      <td>45211.000000</td>\n",
       "    </tr>\n",
       "    <tr>\n",
       "      <th>mean</th>\n",
       "      <td>40.936210</td>\n",
       "      <td>1362.272058</td>\n",
       "      <td>15.806419</td>\n",
       "      <td>258.163080</td>\n",
       "      <td>2.763841</td>\n",
       "      <td>40.197828</td>\n",
       "      <td>0.580323</td>\n",
       "    </tr>\n",
       "    <tr>\n",
       "      <th>std</th>\n",
       "      <td>10.618762</td>\n",
       "      <td>3044.765829</td>\n",
       "      <td>8.322476</td>\n",
       "      <td>257.527812</td>\n",
       "      <td>3.098021</td>\n",
       "      <td>100.128746</td>\n",
       "      <td>2.303441</td>\n",
       "    </tr>\n",
       "    <tr>\n",
       "      <th>min</th>\n",
       "      <td>18.000000</td>\n",
       "      <td>-8019.000000</td>\n",
       "      <td>1.000000</td>\n",
       "      <td>0.000000</td>\n",
       "      <td>1.000000</td>\n",
       "      <td>-1.000000</td>\n",
       "      <td>0.000000</td>\n",
       "    </tr>\n",
       "    <tr>\n",
       "      <th>25%</th>\n",
       "      <td>33.000000</td>\n",
       "      <td>72.000000</td>\n",
       "      <td>8.000000</td>\n",
       "      <td>103.000000</td>\n",
       "      <td>1.000000</td>\n",
       "      <td>-1.000000</td>\n",
       "      <td>0.000000</td>\n",
       "    </tr>\n",
       "    <tr>\n",
       "      <th>50%</th>\n",
       "      <td>39.000000</td>\n",
       "      <td>448.000000</td>\n",
       "      <td>16.000000</td>\n",
       "      <td>180.000000</td>\n",
       "      <td>2.000000</td>\n",
       "      <td>-1.000000</td>\n",
       "      <td>0.000000</td>\n",
       "    </tr>\n",
       "    <tr>\n",
       "      <th>75%</th>\n",
       "      <td>48.000000</td>\n",
       "      <td>1428.000000</td>\n",
       "      <td>21.000000</td>\n",
       "      <td>319.000000</td>\n",
       "      <td>3.000000</td>\n",
       "      <td>-1.000000</td>\n",
       "      <td>0.000000</td>\n",
       "    </tr>\n",
       "    <tr>\n",
       "      <th>max</th>\n",
       "      <td>95.000000</td>\n",
       "      <td>102127.000000</td>\n",
       "      <td>31.000000</td>\n",
       "      <td>4918.000000</td>\n",
       "      <td>63.000000</td>\n",
       "      <td>871.000000</td>\n",
       "      <td>275.000000</td>\n",
       "    </tr>\n",
       "  </tbody>\n",
       "</table>\n",
       "</div>"
      ],
      "text/plain": [
       "                age        balance           day      duration      campaign  \\\n",
       "count  45211.000000   45211.000000  45211.000000  45211.000000  45211.000000   \n",
       "mean      40.936210    1362.272058     15.806419    258.163080      2.763841   \n",
       "std       10.618762    3044.765829      8.322476    257.527812      3.098021   \n",
       "min       18.000000   -8019.000000      1.000000      0.000000      1.000000   \n",
       "25%       33.000000      72.000000      8.000000    103.000000      1.000000   \n",
       "50%       39.000000     448.000000     16.000000    180.000000      2.000000   \n",
       "75%       48.000000    1428.000000     21.000000    319.000000      3.000000   \n",
       "max       95.000000  102127.000000     31.000000   4918.000000     63.000000   \n",
       "\n",
       "              pdays      previous  \n",
       "count  45211.000000  45211.000000  \n",
       "mean      40.197828      0.580323  \n",
       "std      100.128746      2.303441  \n",
       "min       -1.000000      0.000000  \n",
       "25%       -1.000000      0.000000  \n",
       "50%       -1.000000      0.000000  \n",
       "75%       -1.000000      0.000000  \n",
       "max      871.000000    275.000000  "
      ]
     },
     "execution_count": 11,
     "metadata": {},
     "output_type": "execute_result"
    }
   ],
   "source": [
    "df.describe()"
   ]
  },
  {
   "cell_type": "code",
   "execution_count": 12,
   "id": "cb224ea3",
   "metadata": {},
   "outputs": [
    {
     "name": "stdout",
     "output_type": "stream",
     "text": [
      "<class 'pandas.core.frame.DataFrame'>\n",
      "RangeIndex: 45211 entries, 0 to 45210\n",
      "Data columns (total 17 columns):\n",
      " #   Column     Non-Null Count  Dtype \n",
      "---  ------     --------------  ----- \n",
      " 0   age        45211 non-null  int64 \n",
      " 1   job        45211 non-null  object\n",
      " 2   marital    45211 non-null  object\n",
      " 3   education  45211 non-null  object\n",
      " 4   default    45211 non-null  object\n",
      " 5   balance    45211 non-null  int64 \n",
      " 6   housing    45211 non-null  object\n",
      " 7   loan       45211 non-null  object\n",
      " 8   contact    45211 non-null  object\n",
      " 9   day        45211 non-null  int64 \n",
      " 10  month      45211 non-null  object\n",
      " 11  duration   45211 non-null  int64 \n",
      " 12  campaign   45211 non-null  int64 \n",
      " 13  pdays      45211 non-null  int64 \n",
      " 14  previous   45211 non-null  int64 \n",
      " 15  poutcome   45211 non-null  object\n",
      " 16  y          45211 non-null  object\n",
      "dtypes: int64(7), object(10)\n",
      "memory usage: 5.9+ MB\n"
     ]
    }
   ],
   "source": [
    "df.info()"
   ]
  },
  {
   "cell_type": "markdown",
   "id": "ef918522",
   "metadata": {},
   "source": [
    "# EDA"
   ]
  },
  {
   "cell_type": "code",
   "execution_count": 13,
   "id": "a65d146a",
   "metadata": {},
   "outputs": [
    {
     "data": {
      "text/plain": [
       "<AxesSubplot:xlabel='age', ylabel='job'>"
      ]
     },
     "execution_count": 13,
     "metadata": {},
     "output_type": "execute_result"
    },
    {
     "data": {
      "image/png": "[encoded data removed]",
      "text/plain": [
       "<Figure size 432x288 with 1 Axes>"
      ]
     },
     "metadata": {
      "needs_background": "light"
     },
     "output_type": "display_data"
    }
   ],
   "source": [
    "sns.barplot(x=df.age,y=df.job,data=df,palette=\"spring_r\")\n",
    "\n",
    "#now we know that what is the profession of people in a particualr range of age\n",
    "\n",
    "#if age is under 30 then the he/she is a student\n",
    "# if age is greter than 50  then the he/she is a retired person."
   ]
  },
  {
   "cell_type": "code",
   "execution_count": 14,
   "id": "e789f1cb",
   "metadata": {},
   "outputs": [
    {
     "data": {
      "text/plain": [
       "<AxesSubplot:xlabel='education', ylabel='age'>"
      ]
     },
     "execution_count": 14,
     "metadata": {},
     "output_type": "execute_result"
    },
    {
     "data": {
      "image/png": "[encoded data removed]",
      "text/plain": [
       "<Figure size 432x288 with 1 Axes>"
      ]
     },
     "metadata": {
      "needs_background": "light"
     },
     "output_type": "display_data"
    }
   ],
   "source": [
    "sns.barplot(x=df.education,y=df.age,data=df,palette=\"prism\")\n",
    "\n",
    "#most of the people only completed there primary education and all of them's age is above 40"
   ]
  },
  {
   "cell_type": "code",
   "execution_count": 15,
   "id": "d154d92d",
   "metadata": {},
   "outputs": [
    {
     "data": {
      "text/plain": [
       "<AxesSubplot:xlabel='y', ylabel='age'>"
      ]
     },
     "execution_count": 15,
     "metadata": {},
     "output_type": "execute_result"
    },
    {
     "data": {
      "image/png": "[encoded data removed]",
      "text/plain": [
       "<Figure size 432x288 with 1 Axes>"
      ]
     },
     "metadata": {
      "needs_background": "light"
     },
     "output_type": "display_data"
    }
   ],
   "source": [
    "sns.barplot(x=df.y,y=df.age,data=df,palette=\"prism\")\n"
   ]
  },
  {
   "cell_type": "markdown",
   "id": "6f4cac80",
   "metadata": {},
   "source": [
    "# df[\"age\"]"
   ]
  },
  {
   "cell_type": "code",
   "execution_count": 16,
   "id": "c715e7a8",
   "metadata": {},
   "outputs": [
    {
     "data": {
      "text/plain": [
       "77"
      ]
     },
     "execution_count": 16,
     "metadata": {},
     "output_type": "execute_result"
    }
   ],
   "source": [
    "df.age.nunique()"
   ]
  },
  {
   "cell_type": "code",
   "execution_count": 17,
   "id": "920b0dcc",
   "metadata": {},
   "outputs": [
    {
     "data": {
      "text/plain": [
       "<AxesSubplot:xlabel='age'>"
      ]
     },
     "execution_count": 17,
     "metadata": {},
     "output_type": "execute_result"
    },
    {
     "data": {
      "image/png": "[encoded data removed]",
      "text/plain": [
       "<Figure size 432x288 with 1 Axes>"
      ]
     },
     "metadata": {
      "needs_background": "light"
     },
     "output_type": "display_data"
    }
   ],
   "source": [
    "sns.boxplot(df.age)"
   ]
  },
  {
   "cell_type": "raw",
   "id": "792d6b96",
   "metadata": {},
   "source": [
    "we need to minimize the outliers\n",
    "\n",
    "so there are some methods by using we can handle the outliers\n",
    "\n",
    "by using following methods we can detect outliers\n",
    "1.z_score\n",
    "2.iqr\n",
    "3.boxplot\n",
    "\n",
    "by using following mtheods we can handle outliers\n",
    "1.imputation technique\n",
    "    mean\n",
    "    median\n",
    "    mode\n",
    "    min\n",
    "    max\n",
    "    zero\n",
    "    \n",
    "2.transform technique\n",
    "    log  # not impacted by otliers\n",
    "    sqrt\n",
    "    cbrt\n",
    "    reciprocal\n",
    "    normalization (0 to 1)\n",
    "    standardization (-3 to 3)\n",
    "    \n",
    "3.deleting obseravations"
   ]
  },
  {
   "cell_type": "code",
   "execution_count": 18,
   "id": "65246586",
   "metadata": {},
   "outputs": [],
   "source": [
    "# here we are going to use iqr upper tail value to handle the outliers\n",
    "q1=df.age.quantile(q=0.25)\n",
    "q3=df.age.quantile(q=0.75)\n",
    "iqr=q3-q1\n",
    "lowertail=q1-1.5*iqr\n",
    "uppertail=q3+1.5*iqr"
   ]
  },
  {
   "cell_type": "code",
   "execution_count": 19,
   "id": "9f7174d1",
   "metadata": {},
   "outputs": [],
   "source": [
    "def hand_out(data):\n",
    "    if data>uppertail:\n",
    "        return uppertail\n",
    "    else:\n",
    "        return data"
   ]
  },
  {
   "cell_type": "code",
   "execution_count": 20,
   "id": "a40e6df1",
   "metadata": {},
   "outputs": [
    {
     "data": {
      "text/plain": [
       "0        58.0\n",
       "1        44.0\n",
       "2        33.0\n",
       "3        47.0\n",
       "4        33.0\n",
       "         ... \n",
       "45206    51.0\n",
       "45207    70.5\n",
       "45208    70.5\n",
       "45209    57.0\n",
       "45210    37.0\n",
       "Name: age, Length: 45211, dtype: float64"
      ]
     },
     "execution_count": 20,
     "metadata": {},
     "output_type": "execute_result"
    }
   ],
   "source": [
    "df.age=df.age.apply(hand_out)\n",
    "df.age"
   ]
  },
  {
   "cell_type": "code",
   "execution_count": 21,
   "id": "997b9215",
   "metadata": {},
   "outputs": [
    {
     "data": {
      "text/plain": [
       "<AxesSubplot:xlabel='age'>"
      ]
     },
     "execution_count": 21,
     "metadata": {},
     "output_type": "execute_result"
    },
    {
     "data": {
      "image/png": "[encoded data removed]",
      "text/plain": [
       "<Figure size 432x288 with 1 Axes>"
      ]
     },
     "metadata": {
      "needs_background": "light"
     },
     "output_type": "display_data"
    }
   ],
   "source": [
    "sns.boxplot(df.age)"
   ]
  },
  {
   "cell_type": "markdown",
   "id": "f6ba798a",
   "metadata": {},
   "source": [
    "# df[\"job\"]"
   ]
  },
  {
   "cell_type": "code",
   "execution_count": 22,
   "id": "d573561b",
   "metadata": {},
   "outputs": [
    {
     "data": {
      "text/plain": [
       "array(['\"management\"', '\"technician\"', '\"entrepreneur\"', '\"blue-collar\"',\n",
       "       '\"unknown\"', '\"retired\"', '\"admin.\"', '\"services\"',\n",
       "       '\"self-employed\"', '\"unemployed\"', '\"housemaid\"', '\"student\"'],\n",
       "      dtype=object)"
      ]
     },
     "execution_count": 22,
     "metadata": {},
     "output_type": "execute_result"
    }
   ],
   "source": [
    "df.job.unique()"
   ]
  },
  {
   "cell_type": "code",
   "execution_count": 23,
   "id": "81f5a24a",
   "metadata": {},
   "outputs": [
    {
     "data": {
      "text/plain": [
       "12"
      ]
     },
     "execution_count": 23,
     "metadata": {},
     "output_type": "execute_result"
    }
   ],
   "source": [
    "df.job.nunique()"
   ]
  },
  {
   "cell_type": "code",
   "execution_count": 24,
   "id": "5257d574",
   "metadata": {},
   "outputs": [
    {
     "data": {
      "text/plain": [
       "\"blue-collar\"      9732\n",
       "\"management\"       9458\n",
       "\"technician\"       7597\n",
       "\"admin.\"           5171\n",
       "\"services\"         4154\n",
       "\"retired\"          2264\n",
       "\"self-employed\"    1579\n",
       "\"entrepreneur\"     1487\n",
       "\"unemployed\"       1303\n",
       "\"housemaid\"        1240\n",
       "\"student\"           938\n",
       "\"unknown\"           288\n",
       "Name: job, dtype: int64"
      ]
     },
     "execution_count": 24,
     "metadata": {},
     "output_type": "execute_result"
    }
   ],
   "source": [
    "df.job.value_counts()"
   ]
  },
  {
   "cell_type": "raw",
   "id": "40789424",
   "metadata": {},
   "source": [
    "Ordinal Data:The categories having an inherit order (sequence)\n",
    "    High/Medium/Low \n",
    "    Education : High school, BE,ME, Phd\n",
    "        \n",
    ">>label encoding\n",
    "        \n",
    "Nominal Data:(The categories do not have an inherit order (sequence))\n",
    "    pune   0 \n",
    "    mumbai 1\n",
    "    delhi  2\n",
    "\n",
    ">> one hot encoding\n",
    "\n",
    "Nominal Data:(The categories do not have an inherit order (sequence)) so we use one hot encoding here"
   ]
  },
  {
   "cell_type": "code",
   "execution_count": 25,
   "id": "91d0379c",
   "metadata": {
    "scrolled": true
   },
   "outputs": [
    {
     "data": {
      "text/html": [
       "<div>\n",
       "<style scoped>\n",
       "    .dataframe tbody tr th:only-of-type {\n",
       "        vertical-align: middle;\n",
       "    }\n",
       "\n",
       "    .dataframe tbody tr th {\n",
       "        vertical-align: top;\n",
       "    }\n",
       "\n",
       "    .dataframe thead th {\n",
       "        text-align: right;\n",
       "    }\n",
       "</style>\n",
       "<table border=\"1\" class=\"dataframe\">\n",
       "  <thead>\n",
       "    <tr style=\"text-align: right;\">\n",
       "      <th></th>\n",
       "      <th>job_\"admin.\"</th>\n",
       "      <th>job_\"blue-collar\"</th>\n",
       "      <th>job_\"entrepreneur\"</th>\n",
       "      <th>job_\"housemaid\"</th>\n",
       "      <th>job_\"management\"</th>\n",
       "      <th>job_\"retired\"</th>\n",
       "      <th>job_\"self-employed\"</th>\n",
       "      <th>job_\"services\"</th>\n",
       "      <th>job_\"student\"</th>\n",
       "      <th>job_\"technician\"</th>\n",
       "      <th>job_\"unemployed\"</th>\n",
       "      <th>job_\"unknown\"</th>\n",
       "    </tr>\n",
       "  </thead>\n",
       "  <tbody>\n",
       "    <tr>\n",
       "      <th>0</th>\n",
       "      <td>0</td>\n",
       "      <td>0</td>\n",
       "      <td>0</td>\n",
       "      <td>0</td>\n",
       "      <td>1</td>\n",
       "      <td>0</td>\n",
       "      <td>0</td>\n",
       "      <td>0</td>\n",
       "      <td>0</td>\n",
       "      <td>0</td>\n",
       "      <td>0</td>\n",
       "      <td>0</td>\n",
       "    </tr>\n",
       "    <tr>\n",
       "      <th>1</th>\n",
       "      <td>0</td>\n",
       "      <td>0</td>\n",
       "      <td>0</td>\n",
       "      <td>0</td>\n",
       "      <td>0</td>\n",
       "      <td>0</td>\n",
       "      <td>0</td>\n",
       "      <td>0</td>\n",
       "      <td>0</td>\n",
       "      <td>1</td>\n",
       "      <td>0</td>\n",
       "      <td>0</td>\n",
       "    </tr>\n",
       "    <tr>\n",
       "      <th>2</th>\n",
       "      <td>0</td>\n",
       "      <td>0</td>\n",
       "      <td>1</td>\n",
       "      <td>0</td>\n",
       "      <td>0</td>\n",
       "      <td>0</td>\n",
       "      <td>0</td>\n",
       "      <td>0</td>\n",
       "      <td>0</td>\n",
       "      <td>0</td>\n",
       "      <td>0</td>\n",
       "      <td>0</td>\n",
       "    </tr>\n",
       "    <tr>\n",
       "      <th>3</th>\n",
       "      <td>0</td>\n",
       "      <td>1</td>\n",
       "      <td>0</td>\n",
       "      <td>0</td>\n",
       "      <td>0</td>\n",
       "      <td>0</td>\n",
       "      <td>0</td>\n",
       "      <td>0</td>\n",
       "      <td>0</td>\n",
       "      <td>0</td>\n",
       "      <td>0</td>\n",
       "      <td>0</td>\n",
       "    </tr>\n",
       "    <tr>\n",
       "      <th>4</th>\n",
       "      <td>0</td>\n",
       "      <td>0</td>\n",
       "      <td>0</td>\n",
       "      <td>0</td>\n",
       "      <td>0</td>\n",
       "      <td>0</td>\n",
       "      <td>0</td>\n",
       "      <td>0</td>\n",
       "      <td>0</td>\n",
       "      <td>0</td>\n",
       "      <td>0</td>\n",
       "      <td>1</td>\n",
       "    </tr>\n",
       "    <tr>\n",
       "      <th>...</th>\n",
       "      <td>...</td>\n",
       "      <td>...</td>\n",
       "      <td>...</td>\n",
       "      <td>...</td>\n",
       "      <td>...</td>\n",
       "      <td>...</td>\n",
       "      <td>...</td>\n",
       "      <td>...</td>\n",
       "      <td>...</td>\n",
       "      <td>...</td>\n",
       "      <td>...</td>\n",
       "      <td>...</td>\n",
       "    </tr>\n",
       "    <tr>\n",
       "      <th>45206</th>\n",
       "      <td>0</td>\n",
       "      <td>0</td>\n",
       "      <td>0</td>\n",
       "      <td>0</td>\n",
       "      <td>0</td>\n",
       "      <td>0</td>\n",
       "      <td>0</td>\n",
       "      <td>0</td>\n",
       "      <td>0</td>\n",
       "      <td>1</td>\n",
       "      <td>0</td>\n",
       "      <td>0</td>\n",
       "    </tr>\n",
       "    <tr>\n",
       "      <th>45207</th>\n",
       "      <td>0</td>\n",
       "      <td>0</td>\n",
       "      <td>0</td>\n",
       "      <td>0</td>\n",
       "      <td>0</td>\n",
       "      <td>1</td>\n",
       "      <td>0</td>\n",
       "      <td>0</td>\n",
       "      <td>0</td>\n",
       "      <td>0</td>\n",
       "      <td>0</td>\n",
       "      <td>0</td>\n",
       "    </tr>\n",
       "    <tr>\n",
       "      <th>45208</th>\n",
       "      <td>0</td>\n",
       "      <td>0</td>\n",
       "      <td>0</td>\n",
       "      <td>0</td>\n",
       "      <td>0</td>\n",
       "      <td>1</td>\n",
       "      <td>0</td>\n",
       "      <td>0</td>\n",
       "      <td>0</td>\n",
       "      <td>0</td>\n",
       "      <td>0</td>\n",
       "      <td>0</td>\n",
       "    </tr>\n",
       "    <tr>\n",
       "      <th>45209</th>\n",
       "      <td>0</td>\n",
       "      <td>1</td>\n",
       "      <td>0</td>\n",
       "      <td>0</td>\n",
       "      <td>0</td>\n",
       "      <td>0</td>\n",
       "      <td>0</td>\n",
       "      <td>0</td>\n",
       "      <td>0</td>\n",
       "      <td>0</td>\n",
       "      <td>0</td>\n",
       "      <td>0</td>\n",
       "    </tr>\n",
       "    <tr>\n",
       "      <th>45210</th>\n",
       "      <td>0</td>\n",
       "      <td>0</td>\n",
       "      <td>1</td>\n",
       "      <td>0</td>\n",
       "      <td>0</td>\n",
       "      <td>0</td>\n",
       "      <td>0</td>\n",
       "      <td>0</td>\n",
       "      <td>0</td>\n",
       "      <td>0</td>\n",
       "      <td>0</td>\n",
       "      <td>0</td>\n",
       "    </tr>\n",
       "  </tbody>\n",
       "</table>\n",
       "<p>45211 rows × 12 columns</p>\n",
       "</div>"
      ],
      "text/plain": [
       "       job_\"admin.\"  job_\"blue-collar\"  job_\"entrepreneur\"  job_\"housemaid\"  \\\n",
       "0                 0                  0                   0                0   \n",
       "1                 0                  0                   0                0   \n",
       "2                 0                  0                   1                0   \n",
       "3                 0                  1                   0                0   \n",
       "4                 0                  0                   0                0   \n",
       "...             ...                ...                 ...              ...   \n",
       "45206             0                  0                   0                0   \n",
       "45207             0                  0                   0                0   \n",
       "45208             0                  0                   0                0   \n",
       "45209             0                  1                   0                0   \n",
       "45210             0                  0                   1                0   \n",
       "\n",
       "       job_\"management\"  job_\"retired\"  job_\"self-employed\"  job_\"services\"  \\\n",
       "0                     1              0                    0               0   \n",
       "1                     0              0                    0               0   \n",
       "2                     0              0                    0               0   \n",
       "3                     0              0                    0               0   \n",
       "4                     0              0                    0               0   \n",
       "...                 ...            ...                  ...             ...   \n",
       "45206                 0              0                    0               0   \n",
       "45207                 0              1                    0               0   \n",
       "45208                 0              1                    0               0   \n",
       "45209                 0              0                    0               0   \n",
       "45210                 0              0                    0               0   \n",
       "\n",
       "       job_\"student\"  job_\"technician\"  job_\"unemployed\"  job_\"unknown\"  \n",
       "0                  0                 0                 0              0  \n",
       "1                  0                 1                 0              0  \n",
       "2                  0                 0                 0              0  \n",
       "3                  0                 0                 0              0  \n",
       "4                  0                 0                 0              1  \n",
       "...              ...               ...               ...            ...  \n",
       "45206              0                 1                 0              0  \n",
       "45207              0                 0                 0              0  \n",
       "45208              0                 0                 0              0  \n",
       "45209              0                 0                 0              0  \n",
       "45210              0                 0                 0              0  \n",
       "\n",
       "[45211 rows x 12 columns]"
      ]
     },
     "execution_count": 25,
     "metadata": {},
     "output_type": "execute_result"
    }
   ],
   "source": [
    "df_job=pd.get_dummies(df.job,prefix=\"job\")\n",
    "df_job"
   ]
  },
  {
   "cell_type": "markdown",
   "id": "0bae3008",
   "metadata": {},
   "source": [
    "# df[\"marital\"]"
   ]
  },
  {
   "cell_type": "code",
   "execution_count": 26,
   "id": "368427b8",
   "metadata": {},
   "outputs": [
    {
     "data": {
      "text/plain": [
       "array(['\"married\"', '\"single\"', '\"divorced\"'], dtype=object)"
      ]
     },
     "execution_count": 26,
     "metadata": {},
     "output_type": "execute_result"
    }
   ],
   "source": [
    "df[\"marital\"].unique()"
   ]
  },
  {
   "cell_type": "code",
   "execution_count": 27,
   "id": "02c9a1a4",
   "metadata": {},
   "outputs": [
    {
     "data": {
      "text/plain": [
       "{'\"married\"': 27214, '\"single\"': 12790, '\"divorced\"': 5207}"
      ]
     },
     "execution_count": 27,
     "metadata": {},
     "output_type": "execute_result"
    }
   ],
   "source": [
    "df[\"marital\"].value_counts().to_dict()"
   ]
  },
  {
   "cell_type": "code",
   "execution_count": 28,
   "id": "3b415755",
   "metadata": {},
   "outputs": [
    {
     "data": {
      "text/plain": [
       "0        1\n",
       "1        0\n",
       "2        1\n",
       "3        1\n",
       "4        0\n",
       "        ..\n",
       "45206    1\n",
       "45207    2\n",
       "45208    1\n",
       "45209    1\n",
       "45210    1\n",
       "Name: marital, Length: 45211, dtype: int64"
      ]
     },
     "execution_count": 28,
     "metadata": {},
     "output_type": "execute_result"
    }
   ],
   "source": [
    "df[\"marital\"].replace({'\"married\"': 1, '\"single\"': 0, '\"divorced\"':2},inplace=True)\n",
    "df[\"marital\"]"
   ]
  },
  {
   "cell_type": "markdown",
   "id": "8f80001d",
   "metadata": {},
   "source": [
    "# df[\"education\"]"
   ]
  },
  {
   "cell_type": "code",
   "execution_count": 29,
   "id": "f9ec7dd6",
   "metadata": {},
   "outputs": [
    {
     "data": {
      "text/plain": [
       "array(['\"tertiary\"', '\"secondary\"', '\"unknown\"', '\"primary\"'],\n",
       "      dtype=object)"
      ]
     },
     "execution_count": 29,
     "metadata": {},
     "output_type": "execute_result"
    }
   ],
   "source": [
    "df[\"education\"].unique()"
   ]
  },
  {
   "cell_type": "code",
   "execution_count": 30,
   "id": "f8322983",
   "metadata": {},
   "outputs": [
    {
     "data": {
      "text/plain": [
       "{'\"secondary\"': 23202,\n",
       " '\"tertiary\"': 13301,\n",
       " '\"primary\"': 6851,\n",
       " '\"unknown\"': 1857}"
      ]
     },
     "execution_count": 30,
     "metadata": {},
     "output_type": "execute_result"
    }
   ],
   "source": [
    "df[\"education\"].value_counts().to_dict()"
   ]
  },
  {
   "cell_type": "code",
   "execution_count": 31,
   "id": "6b2bc653",
   "metadata": {},
   "outputs": [],
   "source": [
    "df[\"education\"].replace({'\"secondary\"':2,\n",
    " '\"tertiary\"':3,\n",
    " '\"primary\"': 1,\n",
    " '\"unknown\"': 0},inplace=True)"
   ]
  },
  {
   "cell_type": "code",
   "execution_count": 32,
   "id": "8679b952",
   "metadata": {},
   "outputs": [
    {
     "data": {
      "text/plain": [
       "0        3\n",
       "1        2\n",
       "2        2\n",
       "3        0\n",
       "4        0\n",
       "        ..\n",
       "45206    3\n",
       "45207    1\n",
       "45208    2\n",
       "45209    2\n",
       "45210    2\n",
       "Name: education, Length: 45211, dtype: int64"
      ]
     },
     "execution_count": 32,
     "metadata": {},
     "output_type": "execute_result"
    }
   ],
   "source": [
    "df[\"education\"]"
   ]
  },
  {
   "cell_type": "markdown",
   "id": "3fd3c3a7",
   "metadata": {},
   "source": [
    "# df[\"default\"]"
   ]
  },
  {
   "cell_type": "code",
   "execution_count": 33,
   "id": "b18a9c87",
   "metadata": {},
   "outputs": [
    {
     "data": {
      "text/plain": [
       "array(['\"no\"', '\"yes\"'], dtype=object)"
      ]
     },
     "execution_count": 33,
     "metadata": {},
     "output_type": "execute_result"
    }
   ],
   "source": [
    "df[\"default\"].unique()"
   ]
  },
  {
   "cell_type": "code",
   "execution_count": 34,
   "id": "8f1dd804",
   "metadata": {},
   "outputs": [
    {
     "data": {
      "text/plain": [
       "{'\"no\"': 44396, '\"yes\"': 815}"
      ]
     },
     "execution_count": 34,
     "metadata": {},
     "output_type": "execute_result"
    }
   ],
   "source": [
    "df[\"default\"].value_counts().to_dict()"
   ]
  },
  {
   "cell_type": "code",
   "execution_count": 35,
   "id": "18ac1ca1",
   "metadata": {},
   "outputs": [
    {
     "data": {
      "text/plain": [
       "0        0\n",
       "1        0\n",
       "2        0\n",
       "3        0\n",
       "4        0\n",
       "        ..\n",
       "45206    0\n",
       "45207    0\n",
       "45208    0\n",
       "45209    0\n",
       "45210    0\n",
       "Name: default, Length: 45211, dtype: int64"
      ]
     },
     "execution_count": 35,
     "metadata": {},
     "output_type": "execute_result"
    }
   ],
   "source": [
    "df[\"default\"].replace({'\"no\"': 0, '\"yes\"': 1},inplace=True)\n",
    "df[\"default\"]"
   ]
  },
  {
   "cell_type": "markdown",
   "id": "b1cf29d0",
   "metadata": {},
   "source": [
    "# df[\"balance\"]"
   ]
  },
  {
   "cell_type": "code",
   "execution_count": 36,
   "id": "35d20f1a",
   "metadata": {},
   "outputs": [
    {
     "data": {
      "text/plain": [
       "7168"
      ]
     },
     "execution_count": 36,
     "metadata": {},
     "output_type": "execute_result"
    }
   ],
   "source": [
    "df[\"balance\"].nunique()"
   ]
  },
  {
   "cell_type": "code",
   "execution_count": 37,
   "id": "6c707fb0",
   "metadata": {},
   "outputs": [
    {
     "data": {
      "text/plain": [
       "<AxesSubplot:xlabel='balance'>"
      ]
     },
     "execution_count": 37,
     "metadata": {},
     "output_type": "execute_result"
    },
    {
     "data": {
      "image/png": "[encoded data removed]",
      "text/plain": [
       "<Figure size 432x288 with 1 Axes>"
      ]
     },
     "metadata": {
      "needs_background": "light"
     },
     "output_type": "display_data"
    }
   ],
   "source": [
    "sns.boxplot(df[\"balance\"])"
   ]
  },
  {
   "cell_type": "code",
   "execution_count": 38,
   "id": "b08ee686",
   "metadata": {},
   "outputs": [
    {
     "data": {
      "text/plain": [
       "0        12.892606\n",
       "1         3.072317\n",
       "2         1.259921\n",
       "3        11.462385\n",
       "4         1.000000\n",
       "           ...    \n",
       "45206     9.378887\n",
       "45207    12.002314\n",
       "45208    17.878816\n",
       "45209     8.741625\n",
       "45210    14.375873\n",
       "Name: balance, Length: 45211, dtype: float64"
      ]
     },
     "execution_count": 38,
     "metadata": {},
     "output_type": "execute_result"
    }
   ],
   "source": [
    "# we will use cbrt transformation here\n",
    "\n",
    "df.balance=np.cbrt(df.balance)\n",
    "df.balance"
   ]
  },
  {
   "cell_type": "code",
   "execution_count": 39,
   "id": "8d88636b",
   "metadata": {},
   "outputs": [
    {
     "data": {
      "text/plain": [
       "<AxesSubplot:xlabel='balance'>"
      ]
     },
     "execution_count": 39,
     "metadata": {},
     "output_type": "execute_result"
    },
    {
     "data": {
      "image/png": "[encoded data removed]",
      "text/plain": [
       "<Figure size 432x288 with 1 Axes>"
      ]
     },
     "metadata": {
      "needs_background": "light"
     },
     "output_type": "display_data"
    }
   ],
   "source": [
    "sns.boxplot(df[\"balance\"])"
   ]
  },
  {
   "cell_type": "markdown",
   "id": "e4e3fe1e",
   "metadata": {},
   "source": [
    "# df[\"housing\"]"
   ]
  },
  {
   "cell_type": "code",
   "execution_count": 40,
   "id": "162ceb88",
   "metadata": {},
   "outputs": [
    {
     "data": {
      "text/plain": [
       "array(['\"yes\"', '\"no\"'], dtype=object)"
      ]
     },
     "execution_count": 40,
     "metadata": {},
     "output_type": "execute_result"
    }
   ],
   "source": [
    "df[\"housing\"].unique()"
   ]
  },
  {
   "cell_type": "code",
   "execution_count": 41,
   "id": "dde42f4e",
   "metadata": {},
   "outputs": [
    {
     "data": {
      "text/plain": [
       "{'\"yes\"': 25130, '\"no\"': 20081}"
      ]
     },
     "execution_count": 41,
     "metadata": {},
     "output_type": "execute_result"
    }
   ],
   "source": [
    "df[\"housing\"].value_counts().to_dict()"
   ]
  },
  {
   "cell_type": "code",
   "execution_count": 42,
   "id": "5c48e0fe",
   "metadata": {},
   "outputs": [
    {
     "data": {
      "text/plain": [
       "0        1\n",
       "1        1\n",
       "2        1\n",
       "3        1\n",
       "4        0\n",
       "        ..\n",
       "45206    0\n",
       "45207    0\n",
       "45208    0\n",
       "45209    0\n",
       "45210    0\n",
       "Name: housing, Length: 45211, dtype: int64"
      ]
     },
     "execution_count": 42,
     "metadata": {},
     "output_type": "execute_result"
    }
   ],
   "source": [
    "df[\"housing\"].replace({'\"yes\"': 1, '\"no\"':0},inplace=True)\n",
    "df[\"housing\"]"
   ]
  },
  {
   "cell_type": "markdown",
   "id": "28bb9d99",
   "metadata": {},
   "source": [
    "# df[\"loan\"]"
   ]
  },
  {
   "cell_type": "code",
   "execution_count": 43,
   "id": "558e3ea0",
   "metadata": {},
   "outputs": [
    {
     "data": {
      "text/plain": [
       "array(['\"no\"', '\"yes\"'], dtype=object)"
      ]
     },
     "execution_count": 43,
     "metadata": {},
     "output_type": "execute_result"
    }
   ],
   "source": [
    "df[\"loan\"].unique()"
   ]
  },
  {
   "cell_type": "code",
   "execution_count": 44,
   "id": "35d690e2",
   "metadata": {},
   "outputs": [
    {
     "data": {
      "text/plain": [
       "{'\"no\"': 37967, '\"yes\"': 7244}"
      ]
     },
     "execution_count": 44,
     "metadata": {},
     "output_type": "execute_result"
    }
   ],
   "source": [
    "df[\"loan\"].value_counts().to_dict()"
   ]
  },
  {
   "cell_type": "code",
   "execution_count": 45,
   "id": "21a9fcc6",
   "metadata": {},
   "outputs": [
    {
     "data": {
      "text/plain": [
       "0        0\n",
       "1        0\n",
       "2        1\n",
       "3        0\n",
       "4        0\n",
       "        ..\n",
       "45206    0\n",
       "45207    0\n",
       "45208    0\n",
       "45209    0\n",
       "45210    0\n",
       "Name: loan, Length: 45211, dtype: int64"
      ]
     },
     "execution_count": 45,
     "metadata": {},
     "output_type": "execute_result"
    }
   ],
   "source": [
    "df[\"loan\"].replace({'\"no\"': 0, '\"yes\"': 1},inplace=True)\n",
    "df[\"loan\"]"
   ]
  },
  {
   "cell_type": "markdown",
   "id": "7355e2db",
   "metadata": {},
   "source": [
    "# df[\"contact\"]"
   ]
  },
  {
   "cell_type": "code",
   "execution_count": 46,
   "id": "e739dd80",
   "metadata": {},
   "outputs": [
    {
     "data": {
      "text/plain": [
       "array(['\"unknown\"', '\"cellular\"', '\"telephone\"'], dtype=object)"
      ]
     },
     "execution_count": 46,
     "metadata": {},
     "output_type": "execute_result"
    }
   ],
   "source": [
    "df[\"contact\"].unique()"
   ]
  },
  {
   "cell_type": "code",
   "execution_count": 47,
   "id": "358bcef6",
   "metadata": {},
   "outputs": [
    {
     "data": {
      "text/plain": [
       "{'\"cellular\"': 29285, '\"unknown\"': 13020, '\"telephone\"': 2906}"
      ]
     },
     "execution_count": 47,
     "metadata": {},
     "output_type": "execute_result"
    }
   ],
   "source": [
    "df[\"contact\"].value_counts().to_dict()"
   ]
  },
  {
   "cell_type": "code",
   "execution_count": 48,
   "id": "14a789d4",
   "metadata": {},
   "outputs": [
    {
     "data": {
      "text/plain": [
       "0        0\n",
       "1        0\n",
       "2        0\n",
       "3        0\n",
       "4        0\n",
       "        ..\n",
       "45206    2\n",
       "45207    2\n",
       "45208    2\n",
       "45209    1\n",
       "45210    2\n",
       "Name: contact, Length: 45211, dtype: int64"
      ]
     },
     "execution_count": 48,
     "metadata": {},
     "output_type": "execute_result"
    }
   ],
   "source": [
    "df[\"contact\"].replace({'\"cellular\"': 2, '\"unknown\"': 0, '\"telephone\"': 1},inplace=True)\n",
    "df[\"contact\"]"
   ]
  },
  {
   "cell_type": "markdown",
   "id": "f70b8805",
   "metadata": {},
   "source": [
    "# df[\"day\"]"
   ]
  },
  {
   "cell_type": "code",
   "execution_count": 49,
   "id": "848512c4",
   "metadata": {},
   "outputs": [
    {
     "data": {
      "text/plain": [
       "array([ 5,  6,  7,  8,  9, 12, 13, 14, 15, 16, 19, 20, 21, 23, 26, 27, 28,\n",
       "       29, 30,  2,  3,  4, 11, 17, 18, 24, 25,  1, 10, 22, 31],\n",
       "      dtype=int64)"
      ]
     },
     "execution_count": 49,
     "metadata": {},
     "output_type": "execute_result"
    }
   ],
   "source": [
    "df[\"day\"].unique()"
   ]
  },
  {
   "cell_type": "code",
   "execution_count": 50,
   "id": "2214745a",
   "metadata": {},
   "outputs": [
    {
     "data": {
      "text/plain": [
       "<AxesSubplot:xlabel='day'>"
      ]
     },
     "execution_count": 50,
     "metadata": {},
     "output_type": "execute_result"
    },
    {
     "data": {
      "image/png": "[encoded data removed]",
      "text/plain": [
       "<Figure size 432x288 with 1 Axes>"
      ]
     },
     "metadata": {
      "needs_background": "light"
     },
     "output_type": "display_data"
    }
   ],
   "source": [
    "sns.boxplot(df.day)"
   ]
  },
  {
   "cell_type": "markdown",
   "id": "8c65da3b",
   "metadata": {},
   "source": [
    "# df[\"month\"]"
   ]
  },
  {
   "cell_type": "code",
   "execution_count": 51,
   "id": "73d30e6b",
   "metadata": {},
   "outputs": [
    {
     "data": {
      "text/plain": [
       "array(['\"may\"', '\"jun\"', '\"jul\"', '\"aug\"', '\"oct\"', '\"nov\"', '\"dec\"',\n",
       "       '\"jan\"', '\"feb\"', '\"mar\"', '\"apr\"', '\"sep\"'], dtype=object)"
      ]
     },
     "execution_count": 51,
     "metadata": {},
     "output_type": "execute_result"
    }
   ],
   "source": [
    "df[\"month\"].unique()"
   ]
  },
  {
   "cell_type": "code",
   "execution_count": 52,
   "id": "7f0cb3bd",
   "metadata": {},
   "outputs": [
    {
     "data": {
      "text/plain": [
       "{'\"may\"': 13766,\n",
       " '\"jul\"': 6895,\n",
       " '\"aug\"': 6247,\n",
       " '\"jun\"': 5341,\n",
       " '\"nov\"': 3970,\n",
       " '\"apr\"': 2932,\n",
       " '\"feb\"': 2649,\n",
       " '\"jan\"': 1403,\n",
       " '\"oct\"': 738,\n",
       " '\"sep\"': 579,\n",
       " '\"mar\"': 477,\n",
       " '\"dec\"': 214}"
      ]
     },
     "execution_count": 52,
     "metadata": {},
     "output_type": "execute_result"
    }
   ],
   "source": [
    "df[\"month\"].value_counts().to_dict()"
   ]
  },
  {
   "cell_type": "code",
   "execution_count": 53,
   "id": "0405e08a",
   "metadata": {},
   "outputs": [
    {
     "data": {
      "text/plain": [
       "0         5\n",
       "1         5\n",
       "2         5\n",
       "3         5\n",
       "4         5\n",
       "         ..\n",
       "45206    11\n",
       "45207    11\n",
       "45208    11\n",
       "45209    11\n",
       "45210    11\n",
       "Name: month, Length: 45211, dtype: int64"
      ]
     },
     "execution_count": 53,
     "metadata": {},
     "output_type": "execute_result"
    }
   ],
   "source": [
    "df[\"month\"].replace({'\"may\"': 5,\n",
    " '\"jul\"': 7,\n",
    " '\"aug\"': 8,\n",
    " '\"jun\"': 6,\n",
    " '\"nov\"': 11,\n",
    " '\"apr\"': 4,\n",
    " '\"feb\"': 2,\n",
    " '\"jan\"': 1,\n",
    " '\"oct\"': 10,\n",
    " '\"sep\"': 9,\n",
    " '\"mar\"': 3,\n",
    " '\"dec\"': 12},inplace=True)\n",
    "df[\"month\"]"
   ]
  },
  {
   "cell_type": "markdown",
   "id": "cc77b99a",
   "metadata": {},
   "source": [
    "# df[\"duration\"]"
   ]
  },
  {
   "cell_type": "code",
   "execution_count": 54,
   "id": "d0777eeb",
   "metadata": {},
   "outputs": [
    {
     "data": {
      "text/plain": [
       "1573"
      ]
     },
     "execution_count": 54,
     "metadata": {},
     "output_type": "execute_result"
    }
   ],
   "source": [
    "df[\"duration\"].nunique()"
   ]
  },
  {
   "cell_type": "code",
   "execution_count": 55,
   "id": "157913b0",
   "metadata": {},
   "outputs": [
    {
     "data": {
      "text/plain": [
       "{124: 188,\n",
       " 90: 184,\n",
       " 89: 177,\n",
       " 104: 175,\n",
       " 122: 175,\n",
       " 114: 175,\n",
       " 136: 174,\n",
       " 139: 174,\n",
       " 112: 174,\n",
       " 121: 173,\n",
       " 88: 170,\n",
       " 119: 170,\n",
       " 91: 170,\n",
       " 103: 169,\n",
       " 123: 168,\n",
       " 92: 168,\n",
       " 97: 168,\n",
       " 113: 166,\n",
       " 81: 166,\n",
       " 85: 166,\n",
       " 111: 166,\n",
       " 73: 166,\n",
       " 108: 165,\n",
       " 125: 165,\n",
       " 106: 165,\n",
       " 82: 165,\n",
       " 80: 164,\n",
       " 101: 163,\n",
       " 126: 163,\n",
       " 87: 163,\n",
       " 71: 162,\n",
       " 98: 162,\n",
       " 150: 161,\n",
       " 72: 161,\n",
       " 110: 161,\n",
       " 102: 160,\n",
       " 135: 160,\n",
       " 76: 160,\n",
       " 166: 159,\n",
       " 100: 159,\n",
       " 157: 157,\n",
       " 151: 157,\n",
       " 158: 156,\n",
       " 109: 156,\n",
       " 95: 156,\n",
       " 93: 155,\n",
       " 67: 155,\n",
       " 96: 155,\n",
       " 77: 155,\n",
       " 78: 154,\n",
       " 128: 154,\n",
       " 127: 154,\n",
       " 144: 154,\n",
       " 140: 153,\n",
       " 134: 152,\n",
       " 99: 152,\n",
       " 143: 151,\n",
       " 133: 151,\n",
       " 105: 150,\n",
       " 117: 150,\n",
       " 74: 149,\n",
       " 148: 149,\n",
       " 94: 149,\n",
       " 159: 149,\n",
       " 147: 148,\n",
       " 129: 147,\n",
       " 75: 147,\n",
       " 130: 147,\n",
       " 65: 146,\n",
       " 138: 146,\n",
       " 156: 146,\n",
       " 160: 145,\n",
       " 83: 145,\n",
       " 68: 145,\n",
       " 131: 144,\n",
       " 107: 144,\n",
       " 155: 144,\n",
       " 86: 144,\n",
       " 63: 142,\n",
       " 115: 142,\n",
       " 153: 141,\n",
       " 132: 141,\n",
       " 154: 140,\n",
       " 145: 140,\n",
       " 70: 140,\n",
       " 84: 140,\n",
       " 168: 140,\n",
       " 164: 139,\n",
       " 152: 139,\n",
       " 185: 139,\n",
       " 118: 138,\n",
       " 161: 137,\n",
       " 149: 136,\n",
       " 120: 136,\n",
       " 116: 136,\n",
       " 79: 135,\n",
       " 172: 134,\n",
       " 175: 134,\n",
       " 69: 134,\n",
       " 163: 133,\n",
       " 178: 133,\n",
       " 64: 132,\n",
       " 58: 131,\n",
       " 165: 130,\n",
       " 59: 130,\n",
       " 173: 129,\n",
       " 171: 128,\n",
       " 141: 127,\n",
       " 61: 127,\n",
       " 167: 126,\n",
       " 174: 125,\n",
       " 146: 125,\n",
       " 176: 124,\n",
       " 181: 124,\n",
       " 137: 124,\n",
       " 193: 123,\n",
       " 56: 123,\n",
       " 180: 123,\n",
       " 142: 122,\n",
       " 66: 121,\n",
       " 200: 120,\n",
       " 169: 120,\n",
       " 179: 120,\n",
       " 57: 120,\n",
       " 198: 120,\n",
       " 187: 120,\n",
       " 188: 119,\n",
       " 226: 118,\n",
       " 55: 118,\n",
       " 201: 118,\n",
       " 162: 118,\n",
       " 184: 117,\n",
       " 51: 116,\n",
       " 211: 115,\n",
       " 197: 115,\n",
       " 189: 113,\n",
       " 170: 112,\n",
       " 50: 112,\n",
       " 177: 112,\n",
       " 210: 111,\n",
       " 182: 111,\n",
       " 192: 111,\n",
       " 207: 111,\n",
       " 203: 110,\n",
       " 62: 108,\n",
       " 206: 108,\n",
       " 217: 107,\n",
       " 60: 107,\n",
       " 54: 106,\n",
       " 199: 105,\n",
       " 204: 105,\n",
       " 53: 104,\n",
       " 219: 104,\n",
       " 214: 104,\n",
       " 183: 103,\n",
       " 215: 101,\n",
       " 222: 101,\n",
       " 191: 100,\n",
       " 202: 100,\n",
       " 52: 100,\n",
       " 208: 99,\n",
       " 239: 99,\n",
       " 195: 99,\n",
       " 212: 99,\n",
       " 190: 99,\n",
       " 48: 97,\n",
       " 194: 97,\n",
       " 11: 97,\n",
       " 221: 96,\n",
       " 43: 96,\n",
       " 220: 96,\n",
       " 49: 95,\n",
       " 240: 95,\n",
       " 44: 95,\n",
       " 216: 95,\n",
       " 209: 94,\n",
       " 227: 94,\n",
       " 18: 94,\n",
       " 236: 93,\n",
       " 245: 93,\n",
       " 196: 92,\n",
       " 205: 92,\n",
       " 225: 91,\n",
       " 232: 90,\n",
       " 36: 90,\n",
       " 231: 90,\n",
       " 213: 90,\n",
       " 268: 89,\n",
       " 247: 89,\n",
       " 41: 89,\n",
       " 244: 89,\n",
       " 224: 88,\n",
       " 255: 88,\n",
       " 16: 88,\n",
       " 230: 88,\n",
       " 13: 88,\n",
       " 229: 87,\n",
       " 22: 87,\n",
       " 251: 87,\n",
       " 238: 87,\n",
       " 42: 86,\n",
       " 243: 86,\n",
       " 250: 85,\n",
       " 15: 85,\n",
       " 8: 85,\n",
       " 246: 85,\n",
       " 186: 85,\n",
       " 241: 84,\n",
       " 46: 84,\n",
       " 14: 84,\n",
       " 218: 83,\n",
       " 248: 83,\n",
       " 20: 83,\n",
       " 45: 82,\n",
       " 253: 82,\n",
       " 17: 81,\n",
       " 47: 81,\n",
       " 228: 81,\n",
       " 233: 81,\n",
       " 252: 81,\n",
       " 12: 80,\n",
       " 223: 80,\n",
       " 249: 80,\n",
       " 29: 80,\n",
       " 24: 80,\n",
       " 21: 79,\n",
       " 237: 79,\n",
       " 257: 79,\n",
       " 25: 79,\n",
       " 262: 78,\n",
       " 37: 77,\n",
       " 23: 77,\n",
       " 272: 77,\n",
       " 260: 77,\n",
       " 9: 77,\n",
       " 267: 77,\n",
       " 254: 77,\n",
       " 265: 77,\n",
       " 259: 76,\n",
       " 256: 76,\n",
       " 39: 76,\n",
       " 10: 76,\n",
       " 258: 75,\n",
       " 7: 73,\n",
       " 34: 73,\n",
       " 261: 73,\n",
       " 266: 73,\n",
       " 40: 72,\n",
       " 234: 72,\n",
       " 273: 72,\n",
       " 282: 71,\n",
       " 27: 71,\n",
       " 283: 71,\n",
       " 297: 71,\n",
       " 301: 71,\n",
       " 19: 71,\n",
       " 270: 71,\n",
       " 305: 71,\n",
       " 263: 71,\n",
       " 26: 70,\n",
       " 235: 70,\n",
       " 281: 68,\n",
       " 280: 67,\n",
       " 271: 67,\n",
       " 293: 67,\n",
       " 285: 66,\n",
       " 242: 66,\n",
       " 264: 66,\n",
       " 35: 66,\n",
       " 306: 66,\n",
       " 290: 65,\n",
       " 277: 65,\n",
       " 295: 64,\n",
       " 30: 63,\n",
       " 276: 63,\n",
       " 326: 62,\n",
       " 288: 62,\n",
       " 294: 62,\n",
       " 323: 62,\n",
       " 38: 62,\n",
       " 298: 61,\n",
       " 318: 61,\n",
       " 269: 61,\n",
       " 278: 60,\n",
       " 317: 60,\n",
       " 296: 60,\n",
       " 275: 60,\n",
       " 291: 60,\n",
       " 309: 60,\n",
       " 322: 58,\n",
       " 274: 57,\n",
       " 31: 57,\n",
       " 324: 57,\n",
       " 345: 57,\n",
       " 33: 57,\n",
       " 287: 57,\n",
       " 314: 56,\n",
       " 289: 56,\n",
       " 339: 56,\n",
       " 333: 56,\n",
       " 300: 55,\n",
       " 286: 55,\n",
       " 28: 55,\n",
       " 342: 55,\n",
       " 32: 54,\n",
       " 284: 54,\n",
       " 304: 54,\n",
       " 329: 54,\n",
       " 299: 54,\n",
       " 319: 53,\n",
       " 316: 53,\n",
       " 340: 52,\n",
       " 360: 52,\n",
       " 332: 52,\n",
       " 279: 52,\n",
       " 311: 52,\n",
       " 313: 50,\n",
       " 361: 50,\n",
       " 292: 50,\n",
       " 328: 50,\n",
       " 327: 50,\n",
       " 335: 49,\n",
       " 302: 49,\n",
       " 344: 49,\n",
       " 358: 48,\n",
       " 352: 48,\n",
       " 312: 48,\n",
       " 350: 48,\n",
       " 347: 47,\n",
       " 362: 47,\n",
       " 341: 45,\n",
       " 364: 45,\n",
       " 6: 45,\n",
       " 343: 45,\n",
       " 359: 44,\n",
       " 315: 44,\n",
       " 399: 44,\n",
       " 320: 44,\n",
       " 353: 43,\n",
       " 308: 43,\n",
       " 379: 43,\n",
       " 303: 43,\n",
       " 346: 43,\n",
       " 325: 43,\n",
       " 354: 43,\n",
       " 363: 42,\n",
       " 371: 42,\n",
       " 377: 42,\n",
       " 394: 42,\n",
       " 321: 42,\n",
       " 400: 42,\n",
       " 336: 42,\n",
       " 331: 41,\n",
       " 369: 41,\n",
       " 445: 40,\n",
       " 390: 40,\n",
       " 337: 40,\n",
       " 348: 40,\n",
       " 386: 40,\n",
       " 307: 40,\n",
       " 392: 40,\n",
       " 310: 39,\n",
       " 406: 39,\n",
       " 388: 39,\n",
       " 370: 39,\n",
       " 330: 39,\n",
       " 404: 39,\n",
       " 420: 38,\n",
       " 393: 38,\n",
       " 378: 38,\n",
       " 366: 38,\n",
       " 349: 38,\n",
       " 334: 38,\n",
       " 374: 38,\n",
       " 376: 38,\n",
       " 396: 38,\n",
       " 355: 38,\n",
       " 389: 38,\n",
       " 401: 37,\n",
       " 357: 37,\n",
       " 383: 37,\n",
       " 384: 37,\n",
       " 408: 36,\n",
       " 351: 36,\n",
       " 427: 36,\n",
       " 338: 35,\n",
       " 412: 35,\n",
       " 5: 35,\n",
       " 446: 35,\n",
       " 385: 35,\n",
       " 365: 35,\n",
       " 422: 35,\n",
       " 375: 34,\n",
       " 409: 34,\n",
       " 411: 34,\n",
       " 381: 34,\n",
       " 387: 34,\n",
       " 432: 34,\n",
       " 407: 33,\n",
       " 395: 33,\n",
       " 380: 32,\n",
       " 431: 32,\n",
       " 367: 32,\n",
       " 382: 32,\n",
       " 449: 31,\n",
       " 391: 30,\n",
       " 414: 30,\n",
       " 397: 30,\n",
       " 425: 30,\n",
       " 372: 30,\n",
       " 368: 30,\n",
       " 485: 29,\n",
       " 464: 29,\n",
       " 373: 29,\n",
       " 405: 29,\n",
       " 415: 29,\n",
       " 460: 29,\n",
       " 356: 29,\n",
       " 504: 29,\n",
       " 442: 29,\n",
       " 428: 29,\n",
       " 465: 29,\n",
       " 419: 29,\n",
       " 429: 28,\n",
       " 479: 28,\n",
       " 472: 28,\n",
       " 417: 28,\n",
       " 398: 28,\n",
       " 455: 28,\n",
       " 475: 28,\n",
       " 462: 28,\n",
       " 418: 28,\n",
       " 467: 28,\n",
       " 413: 27,\n",
       " 437: 27,\n",
       " 471: 27,\n",
       " 410: 27,\n",
       " 456: 27,\n",
       " 426: 27,\n",
       " 421: 27,\n",
       " 452: 26,\n",
       " 470: 26,\n",
       " 433: 26,\n",
       " 483: 26,\n",
       " 543: 25,\n",
       " 416: 25,\n",
       " 520: 25,\n",
       " 423: 24,\n",
       " 439: 24,\n",
       " 604: 24,\n",
       " 435: 24,\n",
       " 466: 24,\n",
       " 515: 24,\n",
       " 531: 24,\n",
       " 438: 24,\n",
       " 489: 24,\n",
       " 430: 24,\n",
       " 473: 24,\n",
       " 528: 24,\n",
       " 498: 23,\n",
       " 436: 23,\n",
       " 500: 23,\n",
       " 554: 23,\n",
       " 532: 23,\n",
       " 402: 23,\n",
       " 454: 23,\n",
       " 493: 23,\n",
       " 574: 23,\n",
       " 536: 22,\n",
       " 509: 22,\n",
       " 453: 22,\n",
       " 541: 22,\n",
       " 459: 22,\n",
       " 523: 22,\n",
       " 463: 22,\n",
       " 443: 21,\n",
       " 451: 21,\n",
       " 444: 21,\n",
       " 491: 21,\n",
       " 517: 21,\n",
       " 461: 21,\n",
       " 447: 21,\n",
       " 480: 20,\n",
       " 503: 20,\n",
       " 448: 20,\n",
       " 518: 20,\n",
       " 544: 20,\n",
       " 492: 20,\n",
       " 514: 20,\n",
       " 530: 20,\n",
       " 482: 20,\n",
       " 490: 20,\n",
       " 474: 20,\n",
       " 477: 20,\n",
       " 611: 20,\n",
       " 457: 20,\n",
       " 441: 20,\n",
       " 501: 20,\n",
       " 494: 19,\n",
       " 513: 19,\n",
       " 424: 19,\n",
       " 487: 19,\n",
       " 524: 19,\n",
       " 579: 19,\n",
       " 502: 19,\n",
       " 508: 19,\n",
       " 507: 19,\n",
       " 562: 19,\n",
       " 476: 19,\n",
       " 559: 19,\n",
       " 633: 18,\n",
       " 551: 18,\n",
       " 526: 18,\n",
       " 510: 18,\n",
       " 495: 18,\n",
       " 618: 18,\n",
       " 458: 18,\n",
       " 434: 18,\n",
       " 565: 18,\n",
       " 486: 18,\n",
       " 506: 18,\n",
       " 403: 18,\n",
       " 450: 17,\n",
       " 542: 17,\n",
       " 534: 17,\n",
       " 638: 17,\n",
       " 529: 17,\n",
       " 563: 17,\n",
       " 553: 17,\n",
       " 481: 17,\n",
       " 535: 17,\n",
       " 576: 17,\n",
       " 511: 17,\n",
       " 577: 17,\n",
       " 676: 17,\n",
       " 585: 16,\n",
       " 478: 16,\n",
       " 605: 16,\n",
       " 537: 16,\n",
       " 570: 16,\n",
       " 567: 16,\n",
       " 588: 16,\n",
       " 521: 16,\n",
       " 488: 16,\n",
       " 546: 16,\n",
       " 625: 16,\n",
       " 632: 16,\n",
       " 590: 16,\n",
       " 623: 15,\n",
       " 622: 15,\n",
       " 522: 15,\n",
       " 606: 15,\n",
       " 645: 15,\n",
       " 558: 15,\n",
       " 700: 15,\n",
       " 609: 15,\n",
       " 641: 15,\n",
       " 744: 15,\n",
       " 608: 15,\n",
       " 578: 15,\n",
       " 484: 15,\n",
       " 566: 15,\n",
       " 4: 15,\n",
       " 561: 15,\n",
       " 564: 15,\n",
       " 607: 15,\n",
       " 519: 14,\n",
       " 549: 14,\n",
       " 630: 14,\n",
       " 624: 14,\n",
       " 527: 14,\n",
       " 469: 14,\n",
       " 612: 14,\n",
       " 661: 14,\n",
       " 580: 14,\n",
       " 603: 14,\n",
       " 569: 14,\n",
       " 651: 14,\n",
       " 525: 14,\n",
       " 589: 14,\n",
       " 582: 14,\n",
       " 512: 14,\n",
       " 597: 14,\n",
       " 591: 14,\n",
       " 440: 14,\n",
       " 548: 14,\n",
       " 468: 14,\n",
       " 593: 14,\n",
       " 690: 13,\n",
       " 667: 13,\n",
       " 652: 13,\n",
       " 686: 13,\n",
       " 636: 13,\n",
       " 788: 13,\n",
       " 552: 13,\n",
       " 699: 13,\n",
       " 650: 13,\n",
       " 505: 13,\n",
       " 722: 13,\n",
       " 644: 13,\n",
       " 619: 13,\n",
       " 714: 13,\n",
       " 599: 13,\n",
       " 728: 13,\n",
       " 499: 13,\n",
       " 692: 12,\n",
       " 556: 12,\n",
       " 560: 12,\n",
       " 539: 12,\n",
       " 643: 12,\n",
       " 629: 12,\n",
       " 696: 12,\n",
       " 550: 12,\n",
       " 600: 12,\n",
       " 547: 12,\n",
       " 583: 12,\n",
       " 545: 12,\n",
       " 654: 12,\n",
       " 730: 12,\n",
       " 497: 12,\n",
       " 587: 12,\n",
       " 568: 12,\n",
       " 712: 12,\n",
       " 496: 12,\n",
       " 637: 12,\n",
       " 709: 12,\n",
       " 595: 12,\n",
       " 586: 12,\n",
       " 808: 12,\n",
       " 674: 12,\n",
       " 691: 11,\n",
       " 614: 11,\n",
       " 673: 11,\n",
       " 665: 11,\n",
       " 533: 11,\n",
       " 662: 11,\n",
       " 620: 11,\n",
       " 516: 11,\n",
       " 698: 11,\n",
       " 705: 11,\n",
       " 653: 11,\n",
       " 538: 11,\n",
       " 657: 11,\n",
       " 601: 11,\n",
       " 615: 11,\n",
       " 716: 11,\n",
       " 659: 11,\n",
       " 635: 11,\n",
       " 787: 11,\n",
       " 617: 11,\n",
       " 584: 11,\n",
       " 835: 11,\n",
       " 761: 11,\n",
       " 572: 11,\n",
       " 882: 11,\n",
       " 592: 11,\n",
       " 634: 11,\n",
       " 540: 11,\n",
       " 706: 11,\n",
       " 668: 11,\n",
       " 720: 10,\n",
       " 984: 10,\n",
       " 678: 10,\n",
       " 703: 10,\n",
       " 642: 10,\n",
       " 738: 10,\n",
       " 695: 10,\n",
       " 680: 10,\n",
       " 649: 10,\n",
       " 764: 10,\n",
       " 664: 10,\n",
       " 626: 10,\n",
       " 895: 10,\n",
       " 596: 10,\n",
       " 658: 10,\n",
       " 666: 10,\n",
       " 718: 10,\n",
       " 639: 10,\n",
       " 693: 10,\n",
       " 610: 10,\n",
       " 616: 10,\n",
       " 640: 10,\n",
       " 557: 10,\n",
       " 754: 9,\n",
       " 775: 9,\n",
       " 648: 9,\n",
       " 725: 9,\n",
       " 613: 9,\n",
       " 627: 9,\n",
       " 729: 9,\n",
       " 829: 9,\n",
       " 628: 9,\n",
       " 800: 9,\n",
       " 679: 9,\n",
       " 844: 9,\n",
       " 594: 9,\n",
       " 663: 9,\n",
       " 733: 9,\n",
       " 834: 9,\n",
       " 781: 9,\n",
       " 747: 9,\n",
       " 767: 9,\n",
       " 757: 9,\n",
       " 768: 9,\n",
       " 746: 9,\n",
       " 742: 9,\n",
       " 671: 9,\n",
       " 717: 9,\n",
       " 575: 9,\n",
       " 763: 9,\n",
       " 796: 9,\n",
       " 771: 9,\n",
       " 660: 9,\n",
       " 935: 9,\n",
       " 631: 8,\n",
       " 602: 8,\n",
       " 837: 8,\n",
       " 772: 8,\n",
       " 952: 8,\n",
       " 740: 8,\n",
       " 682: 8,\n",
       " 924: 8,\n",
       " 687: 8,\n",
       " 581: 8,\n",
       " 670: 8,\n",
       " 750: 8,\n",
       " 766: 8,\n",
       " 702: 8,\n",
       " 655: 8,\n",
       " 968: 8,\n",
       " 656: 8,\n",
       " 697: 8,\n",
       " 704: 8,\n",
       " 736: 8,\n",
       " 774: 8,\n",
       " 555: 8,\n",
       " 1063: 8,\n",
       " 854: 8,\n",
       " 816: 8,\n",
       " 573: 8,\n",
       " 571: 8,\n",
       " 850: 8,\n",
       " 647: 8,\n",
       " 758: 8,\n",
       " 867: 8,\n",
       " 681: 8,\n",
       " 669: 8,\n",
       " 707: 8,\n",
       " 701: 8,\n",
       " 675: 8,\n",
       " 855: 7,\n",
       " 711: 7,\n",
       " 911: 7,\n",
       " 685: 7,\n",
       " 715: 7,\n",
       " 689: 7,\n",
       " 765: 7,\n",
       " 621: 7,\n",
       " 827: 7,\n",
       " 860: 7,\n",
       " 885: 7,\n",
       " 884: 7,\n",
       " 792: 7,\n",
       " 953: 7,\n",
       " 825: 7,\n",
       " 815: 7,\n",
       " 732: 7,\n",
       " 735: 7,\n",
       " 1032: 7,\n",
       " 762: 7,\n",
       " 753: 7,\n",
       " 813: 7,\n",
       " 799: 7,\n",
       " 786: 7,\n",
       " 646: 7,\n",
       " 598: 7,\n",
       " 723: 7,\n",
       " 836: 7,\n",
       " 824: 7,\n",
       " 820: 7,\n",
       " 1121: 6,\n",
       " 908: 6,\n",
       " 958: 6,\n",
       " 790: 6,\n",
       " 780: 6,\n",
       " 812: 6,\n",
       " 1156: 6,\n",
       " 902: 6,\n",
       " 1015: 6,\n",
       " 819: 6,\n",
       " 916: 6,\n",
       " 773: 6,\n",
       " 727: 6,\n",
       " 881: 6,\n",
       " 684: 6,\n",
       " 749: 6,\n",
       " 1130: 6,\n",
       " 833: 6,\n",
       " 713: 6,\n",
       " 901: 6,\n",
       " 851: 6,\n",
       " 873: 6,\n",
       " 1106: 6,\n",
       " 857: 6,\n",
       " 777: 6,\n",
       " 795: 6,\n",
       " 903: 6,\n",
       " 838: 6,\n",
       " 957: 6,\n",
       " 1036: 6,\n",
       " 739: 6,\n",
       " 734: 6,\n",
       " 875: 6,\n",
       " 1007: 6,\n",
       " 847: 6,\n",
       " 897: 6,\n",
       " 878: 6,\n",
       " 694: 6,\n",
       " 755: 6,\n",
       " 672: 6,\n",
       " 871: 6,\n",
       " 759: 6,\n",
       " 814: 6,\n",
       " 862: 6,\n",
       " 973: 6,\n",
       " 778: 5,\n",
       " 756: 5,\n",
       " 1002: 5,\n",
       " 1187: 5,\n",
       " 688: 5,\n",
       " 961: 5,\n",
       " 832: 5,\n",
       " 899: 5,\n",
       " 904: 5,\n",
       " 1181: 5,\n",
       " 801: 5,\n",
       " 942: 5,\n",
       " 748: 5,\n",
       " 1091: 5,\n",
       " 912: 5,\n",
       " 1101: 5,\n",
       " 726: 5,\n",
       " 849: 5,\n",
       " 951: 5,\n",
       " 805: 5,\n",
       " 1017: 5,\n",
       " 956: 5,\n",
       " 906: 5,\n",
       " 821: 5,\n",
       " 779: 5,\n",
       " 861: 5,\n",
       " 888: 5,\n",
       " 1080: 5,\n",
       " 784: 5,\n",
       " 810: 5,\n",
       " 776: 5,\n",
       " 955: 5,\n",
       " 856: 5,\n",
       " 1272: 5,\n",
       " 724: 5,\n",
       " 708: 5,\n",
       " 891: 5,\n",
       " 721: 5,\n",
       " 806: 5,\n",
       " 793: 5,\n",
       " 745: 5,\n",
       " 853: 5,\n",
       " 1034: 5,\n",
       " 893: 5,\n",
       " 922: 5,\n",
       " 1000: 5,\n",
       " 789: 5,\n",
       " 804: 5,\n",
       " 965: 5,\n",
       " 1030: 5,\n",
       " 731: 5,\n",
       " 809: 5,\n",
       " 920: 5,\n",
       " 803: 5,\n",
       " 1165: 5,\n",
       " 898: 5,\n",
       " 869: 5,\n",
       " 737: 5,\n",
       " 874: 5,\n",
       " 769: 5,\n",
       " 865: 5,\n",
       " 1013: 5,\n",
       " 841: 5,\n",
       " 1081: 5,\n",
       " 921: 5,\n",
       " 1064: 5,\n",
       " 798: 5,\n",
       " 770: 5,\n",
       " 918: 5,\n",
       " 783: 5,\n",
       " 925: 5,\n",
       " 1051: 5,\n",
       " 929: 5,\n",
       " 719: 5,\n",
       " 923: 5,\n",
       " 843: 5,\n",
       " 1241: 4,\n",
       " 751: 4,\n",
       " 1135: 4,\n",
       " 1056: 4,\n",
       " 802: 4,\n",
       " 1012: 4,\n",
       " 1092: 4,\n",
       " 1120: 4,\n",
       " 1297: 4,\n",
       " 846: 4,\n",
       " 1422: 4,\n",
       " 1161: 4,\n",
       " 683: 4,\n",
       " 1141: 4,\n",
       " 896: 4,\n",
       " 1242: 4,\n",
       " 741: 4,\n",
       " 1022: 4,\n",
       " 963: 4,\n",
       " 1060: 4,\n",
       " 818: 4,\n",
       " 1138: 4,\n",
       " 1126: 4,\n",
       " 1018: 4,\n",
       " 817: 4,\n",
       " 985: 4,\n",
       " 917: 4,\n",
       " 677: 4,\n",
       " 859: 4,\n",
       " 1009: 4,\n",
       " 1576: 4,\n",
       " 997: 4,\n",
       " 797: 4,\n",
       " 826: 4,\n",
       " 1143: 4,\n",
       " 1166: 4,\n",
       " 752: 4,\n",
       " 710: 4,\n",
       " 894: 4,\n",
       " 1173: 4,\n",
       " 1199: 4,\n",
       " 1259: 4,\n",
       " 1037: 4,\n",
       " 1011: 4,\n",
       " 1019: 4,\n",
       " 886: 4,\n",
       " 1206: 4,\n",
       " 1094: 4,\n",
       " 1182: 4,\n",
       " 937: 4,\n",
       " 3: 4,\n",
       " 930: 4,\n",
       " 858: 4,\n",
       " 1226: 4,\n",
       " 1044: 4,\n",
       " 1205: 4,\n",
       " 945: 4,\n",
       " 870: 4,\n",
       " 1062: 4,\n",
       " 811: 4,\n",
       " 1307: 4,\n",
       " 863: 4,\n",
       " 981: 4,\n",
       " 880: 4,\n",
       " 889: 4,\n",
       " 1134: 4,\n",
       " 794: 4,\n",
       " 944: 4,\n",
       " 919: 4,\n",
       " 1028: 4,\n",
       " 890: 4,\n",
       " 830: 4,\n",
       " 1001: 4,\n",
       " 828: 4,\n",
       " 845: 4,\n",
       " 1148: 4,\n",
       " 1184: 3,\n",
       " 1288: 3,\n",
       " 1579: 3,\n",
       " 939: 3,\n",
       " 1150: 3,\n",
       " 840: 3,\n",
       " 1360: 3,\n",
       " 1139: 3,\n",
       " 1039: 3,\n",
       " 1336: 3,\n",
       " 978: 3,\n",
       " 1164: 3,\n",
       " 1503: 3,\n",
       " 1467: 3,\n",
       " 1127: 3,\n",
       " 1057: 3,\n",
       " 1176: 3,\n",
       " 1042: 3,\n",
       " 910: 3,\n",
       " 1223: 3,\n",
       " 1329: 3,\n",
       " 1448: 3,\n",
       " 913: 3,\n",
       " ...}"
      ]
     },
     "execution_count": 55,
     "metadata": {},
     "output_type": "execute_result"
    }
   ],
   "source": [
    "df[\"duration\"].value_counts().to_dict()"
   ]
  },
  {
   "cell_type": "code",
   "execution_count": 56,
   "id": "a662aebe",
   "metadata": {},
   "outputs": [
    {
     "data": {
      "text/plain": [
       "<AxesSubplot:xlabel='duration'>"
      ]
     },
     "execution_count": 56,
     "metadata": {},
     "output_type": "execute_result"
    },
    {
     "data": {
      "image/png": "[encoded data removed]",
      "text/plain": [
       "<Figure size 432x288 with 1 Axes>"
      ]
     },
     "metadata": {
      "needs_background": "light"
     },
     "output_type": "display_data"
    }
   ],
   "source": [
    "sns.boxplot(df[\"duration\"])"
   ]
  },
  {
   "cell_type": "code",
   "execution_count": 57,
   "id": "b3842076",
   "metadata": {},
   "outputs": [],
   "source": [
    "q1=df[\"duration\"].quantile(q=0.25)\n",
    "q3=df[\"duration\"].quantile(q=0.75)\n",
    "iqr=q3-q1\n",
    "uppertail=q3+1.5*iqr\n",
    "lowertail=q1-1.5*iqr"
   ]
  },
  {
   "cell_type": "code",
   "execution_count": 58,
   "id": "23edb55f",
   "metadata": {},
   "outputs": [
    {
     "data": {
      "text/plain": [
       "0        261.0\n",
       "1        151.0\n",
       "2         76.0\n",
       "3         92.0\n",
       "4        198.0\n",
       "         ...  \n",
       "45206    643.0\n",
       "45207    456.0\n",
       "45208    643.0\n",
       "45209    508.0\n",
       "45210    361.0\n",
       "Name: duration, Length: 45211, dtype: float64"
      ]
     },
     "execution_count": 58,
     "metadata": {},
     "output_type": "execute_result"
    }
   ],
   "source": [
    "df[\"duration\"]=df[\"duration\"].apply(hand_out)\n",
    "df[\"duration\"]"
   ]
  },
  {
   "cell_type": "code",
   "execution_count": 59,
   "id": "457a744b",
   "metadata": {},
   "outputs": [
    {
     "data": {
      "text/plain": [
       "<AxesSubplot:xlabel='duration'>"
      ]
     },
     "execution_count": 59,
     "metadata": {},
     "output_type": "execute_result"
    },
    {
     "data": {
      "image/png": "[encoded data removed]",
      "text/plain": [
       "<Figure size 432x288 with 1 Axes>"
      ]
     },
     "metadata": {
      "needs_background": "light"
     },
     "output_type": "display_data"
    }
   ],
   "source": [
    "sns.boxplot(df[\"duration\"])"
   ]
  },
  {
   "cell_type": "markdown",
   "id": "44b815f7",
   "metadata": {},
   "source": [
    "# df[\"campaign\"]"
   ]
  },
  {
   "cell_type": "code",
   "execution_count": 60,
   "id": "b74c4748",
   "metadata": {
    "scrolled": false
   },
   "outputs": [
    {
     "data": {
      "text/plain": [
       "1     17544\n",
       "2     12505\n",
       "3      5521\n",
       "4      3522\n",
       "5      1764\n",
       "6      1291\n",
       "7       735\n",
       "8       540\n",
       "9       327\n",
       "10      266\n",
       "11      201\n",
       "12      155\n",
       "13      133\n",
       "14       93\n",
       "15       84\n",
       "16       79\n",
       "17       69\n",
       "18       51\n",
       "19       44\n",
       "20       43\n",
       "21       35\n",
       "22       23\n",
       "25       22\n",
       "23       22\n",
       "24       20\n",
       "29       16\n",
       "28       16\n",
       "26       13\n",
       "31       12\n",
       "27       10\n",
       "32        9\n",
       "30        8\n",
       "33        6\n",
       "34        5\n",
       "36        4\n",
       "35        4\n",
       "43        3\n",
       "38        3\n",
       "37        2\n",
       "50        2\n",
       "41        2\n",
       "46        1\n",
       "58        1\n",
       "55        1\n",
       "63        1\n",
       "51        1\n",
       "39        1\n",
       "44        1\n",
       "Name: campaign, dtype: int64"
      ]
     },
     "execution_count": 60,
     "metadata": {},
     "output_type": "execute_result"
    }
   ],
   "source": [
    "df[\"campaign\"].value_counts()"
   ]
  },
  {
   "cell_type": "code",
   "execution_count": 61,
   "id": "2b338acf",
   "metadata": {},
   "outputs": [
    {
     "data": {
      "text/plain": [
       "<AxesSubplot:xlabel='campaign'>"
      ]
     },
     "execution_count": 61,
     "metadata": {},
     "output_type": "execute_result"
    },
    {
     "data": {
      "image/png": "[encoded data removed]",
      "text/plain": [
       "<Figure size 432x288 with 1 Axes>"
      ]
     },
     "metadata": {
      "needs_background": "light"
     },
     "output_type": "display_data"
    }
   ],
   "source": [
    "sns.boxplot(df[\"campaign\"])"
   ]
  },
  {
   "cell_type": "code",
   "execution_count": 62,
   "id": "0b57be5c",
   "metadata": {},
   "outputs": [],
   "source": [
    "q1=df[\"campaign\"].quantile(q=0.25)\n",
    "q3=df[\"campaign\"].quantile(q=0.75)\n",
    "iqr=q3-q1\n",
    "uppertail=q3+1.5*iqr\n",
    "lowertail=q1-1.5*iqr"
   ]
  },
  {
   "cell_type": "code",
   "execution_count": 63,
   "id": "66a61d27",
   "metadata": {},
   "outputs": [],
   "source": [
    "df[\"campaign\"]=df[\"campaign\"].apply(hand_out)"
   ]
  },
  {
   "cell_type": "code",
   "execution_count": 64,
   "id": "8799a05b",
   "metadata": {},
   "outputs": [
    {
     "data": {
      "text/plain": [
       "<AxesSubplot:xlabel='campaign'>"
      ]
     },
     "execution_count": 64,
     "metadata": {},
     "output_type": "execute_result"
    },
    {
     "data": {
      "image/png": "[encoded data removed]",
      "text/plain": [
       "<Figure size 432x288 with 1 Axes>"
      ]
     },
     "metadata": {
      "needs_background": "light"
     },
     "output_type": "display_data"
    }
   ],
   "source": [
    "sns.boxplot(df[\"campaign\"])"
   ]
  },
  {
   "cell_type": "code",
   "execution_count": 65,
   "id": "a7c9bf15",
   "metadata": {},
   "outputs": [
    {
     "data": {
      "text/plain": [
       "1.0    17544\n",
       "2.0    12505\n",
       "3.0     5521\n",
       "6.0     4355\n",
       "4.0     3522\n",
       "5.0     1764\n",
       "Name: campaign, dtype: int64"
      ]
     },
     "execution_count": 65,
     "metadata": {},
     "output_type": "execute_result"
    }
   ],
   "source": [
    "df[\"campaign\"].value_counts()"
   ]
  },
  {
   "cell_type": "markdown",
   "id": "d09d5f46",
   "metadata": {},
   "source": [
    "# df[\"pdays\"]"
   ]
  },
  {
   "cell_type": "code",
   "execution_count": 66,
   "id": "b3ca0a0d",
   "metadata": {},
   "outputs": [
    {
     "data": {
      "text/plain": [
       "559"
      ]
     },
     "execution_count": 66,
     "metadata": {},
     "output_type": "execute_result"
    }
   ],
   "source": [
    "df[\"pdays\"].nunique()"
   ]
  },
  {
   "cell_type": "code",
   "execution_count": 67,
   "id": "71ebcf58",
   "metadata": {},
   "outputs": [
    {
     "data": {
      "text/plain": [
       "{-1: 36954,\n",
       " 182: 167,\n",
       " 92: 147,\n",
       " 91: 126,\n",
       " 183: 126,\n",
       " 181: 117,\n",
       " 370: 99,\n",
       " 184: 85,\n",
       " 364: 77,\n",
       " 95: 74,\n",
       " 350: 73,\n",
       " 94: 72,\n",
       " 175: 71,\n",
       " 185: 68,\n",
       " 93: 65,\n",
       " 343: 65,\n",
       " 188: 64,\n",
       " 186: 60,\n",
       " 189: 60,\n",
       " 174: 57,\n",
       " 349: 57,\n",
       " 96: 57,\n",
       " 363: 55,\n",
       " 90: 54,\n",
       " 97: 54,\n",
       " 196: 51,\n",
       " 365: 51,\n",
       " 368: 49,\n",
       " 357: 49,\n",
       " 98: 49,\n",
       " 342: 49,\n",
       " 345: 48,\n",
       " 351: 48,\n",
       " 178: 47,\n",
       " 367: 47,\n",
       " 347: 47,\n",
       " 190: 46,\n",
       " 195: 45,\n",
       " 356: 45,\n",
       " 104: 45,\n",
       " 99: 45,\n",
       " 180: 45,\n",
       " 172: 44,\n",
       " 371: 44,\n",
       " 344: 44,\n",
       " 150: 43,\n",
       " 170: 43,\n",
       " 87: 43,\n",
       " 179: 43,\n",
       " 187: 43,\n",
       " 169: 42,\n",
       " 176: 42,\n",
       " 105: 42,\n",
       " 167: 42,\n",
       " 352: 40,\n",
       " 355: 40,\n",
       " 360: 38,\n",
       " 168: 37,\n",
       " 2: 37,\n",
       " 272: 37,\n",
       " 336: 36,\n",
       " 359: 36,\n",
       " 358: 35,\n",
       " 346: 35,\n",
       " 265: 35,\n",
       " 102: 35,\n",
       " 173: 34,\n",
       " 171: 34,\n",
       " 361: 33,\n",
       " 252: 33,\n",
       " 330: 33,\n",
       " 369: 33,\n",
       " 113: 33,\n",
       " 177: 32,\n",
       " 85: 32,\n",
       " 264: 31,\n",
       " 119: 31,\n",
       " 301: 31,\n",
       " 259: 31,\n",
       " 287: 31,\n",
       " 332: 31,\n",
       " 192: 31,\n",
       " 270: 31,\n",
       " 337: 30,\n",
       " 100: 30,\n",
       " 366: 30,\n",
       " 89: 30,\n",
       " 266: 30,\n",
       " 101: 30,\n",
       " 258: 30,\n",
       " 326: 30,\n",
       " 362: 29,\n",
       " 111: 29,\n",
       " 322: 29,\n",
       " 271: 29,\n",
       " 274: 29,\n",
       " 88: 29,\n",
       " 148: 28,\n",
       " 191: 28,\n",
       " 340: 28,\n",
       " 110: 28,\n",
       " 300: 27,\n",
       " 84: 27,\n",
       " 86: 27,\n",
       " 197: 27,\n",
       " 335: 27,\n",
       " 267: 27,\n",
       " 273: 27,\n",
       " 154: 27,\n",
       " 339: 26,\n",
       " 253: 26,\n",
       " 348: 26,\n",
       " 329: 26,\n",
       " 262: 26,\n",
       " 353: 25,\n",
       " 8: 25,\n",
       " 245: 24,\n",
       " 334: 24,\n",
       " 323: 24,\n",
       " 152: 24,\n",
       " 103: 24,\n",
       " 268: 24,\n",
       " 127: 23,\n",
       " 147: 23,\n",
       " 331: 23,\n",
       " 106: 23,\n",
       " 325: 23,\n",
       " 133: 22,\n",
       " 149: 22,\n",
       " 247: 22,\n",
       " 126: 22,\n",
       " 254: 22,\n",
       " 260: 22,\n",
       " 193: 21,\n",
       " 263: 21,\n",
       " 298: 21,\n",
       " 261: 21,\n",
       " 83: 20,\n",
       " 328: 20,\n",
       " 281: 20,\n",
       " 120: 20,\n",
       " 166: 20,\n",
       " 165: 20,\n",
       " 109: 19,\n",
       " 112: 19,\n",
       " 294: 19,\n",
       " 204: 19,\n",
       " 251: 19,\n",
       " 151: 19,\n",
       " 199: 19,\n",
       " 269: 19,\n",
       " 293: 18,\n",
       " 321: 18,\n",
       " 202: 18,\n",
       " 341: 18,\n",
       " 164: 18,\n",
       " 131: 18,\n",
       " 205: 18,\n",
       " 80: 18,\n",
       " 280: 18,\n",
       " 140: 18,\n",
       " 295: 17,\n",
       " 123: 17,\n",
       " 317: 17,\n",
       " 208: 17,\n",
       " 333: 17,\n",
       " 244: 17,\n",
       " 256: 17,\n",
       " 354: 17,\n",
       " 200: 17,\n",
       " 153: 17,\n",
       " 124: 17,\n",
       " 304: 17,\n",
       " 319: 17,\n",
       " 324: 16,\n",
       " 285: 16,\n",
       " 246: 16,\n",
       " 241: 16,\n",
       " 338: 16,\n",
       " 276: 16,\n",
       " 275: 16,\n",
       " 318: 16,\n",
       " 146: 16,\n",
       " 288: 16,\n",
       " 297: 16,\n",
       " 278: 16,\n",
       " 1: 15,\n",
       " 79: 15,\n",
       " 194: 15,\n",
       " 316: 15,\n",
       " 198: 15,\n",
       " 279: 15,\n",
       " 206: 15,\n",
       " 136: 15,\n",
       " 160: 15,\n",
       " 286: 15,\n",
       " 135: 14,\n",
       " 78: 14,\n",
       " 117: 14,\n",
       " 305: 14,\n",
       " 299: 14,\n",
       " 327: 14,\n",
       " 248: 14,\n",
       " 374: 13,\n",
       " 307: 13,\n",
       " 161: 13,\n",
       " 130: 13,\n",
       " 306: 13,\n",
       " 107: 13,\n",
       " 238: 13,\n",
       " 315: 12,\n",
       " 139: 12,\n",
       " 303: 12,\n",
       " 122: 12,\n",
       " 156: 12,\n",
       " 314: 12,\n",
       " 114: 12,\n",
       " 141: 12,\n",
       " 129: 12,\n",
       " 9: 12,\n",
       " 108: 12,\n",
       " 209: 12,\n",
       " 116: 12,\n",
       " 115: 12,\n",
       " 201: 12,\n",
       " 250: 12,\n",
       " 231: 11,\n",
       " 82: 11,\n",
       " 309: 11,\n",
       " 210: 11,\n",
       " 213: 11,\n",
       " 203: 11,\n",
       " 5: 11,\n",
       " 81: 11,\n",
       " 155: 11,\n",
       " 296: 11,\n",
       " 234: 11,\n",
       " 308: 11,\n",
       " 163: 11,\n",
       " 145: 11,\n",
       " 302: 11,\n",
       " 239: 10,\n",
       " 292: 10,\n",
       " 373: 10,\n",
       " 77: 10,\n",
       " 212: 10,\n",
       " 157: 10,\n",
       " 255: 10,\n",
       " 134: 10,\n",
       " 6: 10,\n",
       " 282: 10,\n",
       " 391: 9,\n",
       " 28: 9,\n",
       " 144: 9,\n",
       " 223: 9,\n",
       " 207: 9,\n",
       " 14: 9,\n",
       " 216: 9,\n",
       " 118: 9,\n",
       " 277: 9,\n",
       " 138: 9,\n",
       " 257: 9,\n",
       " 121: 9,\n",
       " 63: 9,\n",
       " 211: 9,\n",
       " 57: 8,\n",
       " 312: 8,\n",
       " 291: 8,\n",
       " 137: 8,\n",
       " 35: 8,\n",
       " 64: 8,\n",
       " 372: 8,\n",
       " 162: 8,\n",
       " 227: 8,\n",
       " 242: 8,\n",
       " 224: 8,\n",
       " 249: 8,\n",
       " 228: 8,\n",
       " 50: 8,\n",
       " 320: 8,\n",
       " 240: 8,\n",
       " 159: 7,\n",
       " 284: 7,\n",
       " 283: 7,\n",
       " 125: 7,\n",
       " 70: 7,\n",
       " 158: 7,\n",
       " 40: 7,\n",
       " 230: 7,\n",
       " 289: 7,\n",
       " 75: 7,\n",
       " 60: 7,\n",
       " 7: 7,\n",
       " 12: 7,\n",
       " 310: 7,\n",
       " 243: 7,\n",
       " 225: 7,\n",
       " 128: 7,\n",
       " 74: 7,\n",
       " 311: 6,\n",
       " 461: 6,\n",
       " 71: 6,\n",
       " 386: 6,\n",
       " 143: 6,\n",
       " 67: 6,\n",
       " 214: 6,\n",
       " 385: 6,\n",
       " 237: 6,\n",
       " 221: 6,\n",
       " 229: 6,\n",
       " 132: 6,\n",
       " 217: 6,\n",
       " 412: 6,\n",
       " 142: 6,\n",
       " 13: 6,\n",
       " 10: 6,\n",
       " 56: 5,\n",
       " 62: 5,\n",
       " 378: 5,\n",
       " 389: 5,\n",
       " 235: 5,\n",
       " 232: 5,\n",
       " 233: 5,\n",
       " 313: 5,\n",
       " 290: 5,\n",
       " 215: 5,\n",
       " 41: 5,\n",
       " 31: 5,\n",
       " 73: 5,\n",
       " 430: 5,\n",
       " 76: 5,\n",
       " 555: 4,\n",
       " 69: 4,\n",
       " 388: 4,\n",
       " 17: 4,\n",
       " 68: 4,\n",
       " 392: 4,\n",
       " 21: 4,\n",
       " 521: 4,\n",
       " 462: 4,\n",
       " 236: 4,\n",
       " 36: 4,\n",
       " 48: 4,\n",
       " 61: 4,\n",
       " 37: 4,\n",
       " 463: 4,\n",
       " 478: 4,\n",
       " 27: 4,\n",
       " 222: 4,\n",
       " 55: 4,\n",
       " 384: 4,\n",
       " 226: 4,\n",
       " 15: 3,\n",
       " 394: 3,\n",
       " 459: 3,\n",
       " 457: 3,\n",
       " 58: 3,\n",
       " 381: 3,\n",
       " 53: 3,\n",
       " 455: 3,\n",
       " 490: 3,\n",
       " 377: 3,\n",
       " 433: 3,\n",
       " 42: 3,\n",
       " 44: 3,\n",
       " 219: 3,\n",
       " 66: 3,\n",
       " 22: 3,\n",
       " 29: 3,\n",
       " 38: 3,\n",
       " 49: 3,\n",
       " 390: 3,\n",
       " 458: 2,\n",
       " 426: 2,\n",
       " 779: 2,\n",
       " 561: 2,\n",
       " 616: 2,\n",
       " 446: 2,\n",
       " 792: 2,\n",
       " 19: 2,\n",
       " 431: 2,\n",
       " 435: 2,\n",
       " 4: 2,\n",
       " 33: 2,\n",
       " 387: 2,\n",
       " 515: 2,\n",
       " 52: 2,\n",
       " 518: 2,\n",
       " 436: 2,\n",
       " 376: 2,\n",
       " 491: 2,\n",
       " 651: 2,\n",
       " 456: 2,\n",
       " 415: 2,\n",
       " 524: 2,\n",
       " 450: 2,\n",
       " 399: 2,\n",
       " 504: 2,\n",
       " 687: 2,\n",
       " 39: 2,\n",
       " 557: 2,\n",
       " 414: 2,\n",
       " 460: 2,\n",
       " 398: 2,\n",
       " 24: 2,\n",
       " 427: 2,\n",
       " 469: 2,\n",
       " 535: 2,\n",
       " 474: 2,\n",
       " 220: 2,\n",
       " 34: 2,\n",
       " 379: 2,\n",
       " 422: 2,\n",
       " 410: 2,\n",
       " 43: 2,\n",
       " 442: 2,\n",
       " 20: 2,\n",
       " 46: 2,\n",
       " 375: 2,\n",
       " 503: 2,\n",
       " 72: 2,\n",
       " 440: 2,\n",
       " 393: 2,\n",
       " 479: 2,\n",
       " 59: 2,\n",
       " 397: 2,\n",
       " 464: 1,\n",
       " 493: 1,\n",
       " 579: 1,\n",
       " 680: 1,\n",
       " 547: 1,\n",
       " 760: 1,\n",
       " 805: 1,\n",
       " 466: 1,\n",
       " 465: 1,\n",
       " 775: 1,\n",
       " 828: 1,\n",
       " 492: 1,\n",
       " 717: 1,\n",
       " 419: 1,\n",
       " 550: 1,\n",
       " 871: 1,\n",
       " 542: 1,\n",
       " 470: 1,\n",
       " 472: 1,\n",
       " 543: 1,\n",
       " 761: 1,\n",
       " 437: 1,\n",
       " 3: 1,\n",
       " 782: 1,\n",
       " 728: 1,\n",
       " 541: 1,\n",
       " 562: 1,\n",
       " 656: 1,\n",
       " 432: 1,\n",
       " 508: 1,\n",
       " 484: 1,\n",
       " 420: 1,\n",
       " 784: 1,\n",
       " 603: 1,\n",
       " 526: 1,\n",
       " 774: 1,\n",
       " 772: 1,\n",
       " 690: 1,\n",
       " 831: 1,\n",
       " 489: 1,\n",
       " 486: 1,\n",
       " 409: 1,\n",
       " 444: 1,\n",
       " 485: 1,\n",
       " 808: 1,\n",
       " 589: 1,\n",
       " 842: 1,\n",
       " 594: 1,\n",
       " 771: 1,\n",
       " 850: 1,\n",
       " 528: 1,\n",
       " 854: 1,\n",
       " 778: 1,\n",
       " 587: 1,\n",
       " 500: 1,\n",
       " 769: 1,\n",
       " 826: 1,\n",
       " 838: 1,\n",
       " 804: 1,\n",
       " 749: 1,\n",
       " 655: 1,\n",
       " 25: 1,\n",
       " 32: 1,\n",
       " 674: 1,\n",
       " 445: 1,\n",
       " 218: 1,\n",
       " 380: 1,\n",
       " 45: 1,\n",
       " 495: 1,\n",
       " 520: 1,\n",
       " 511: 1,\n",
       " 536: 1,\n",
       " 544: 1,\n",
       " 421: 1,\n",
       " 558: 1,\n",
       " 553: 1,\n",
       " 30: 1,\n",
       " 592: 1,\n",
       " 467: 1,\n",
       " 585: 1,\n",
       " 476: 1,\n",
       " 54: 1,\n",
       " 477: 1,\n",
       " 475: 1,\n",
       " 401: 1,\n",
       " 428: 1,\n",
       " 454: 1,\n",
       " 403: 1,\n",
       " 47: 1,\n",
       " 51: 1,\n",
       " 383: 1,\n",
       " 382: 1,\n",
       " 18: 1,\n",
       " 434: 1,\n",
       " 405: 1,\n",
       " 395: 1,\n",
       " 65: 1,\n",
       " 480: 1,\n",
       " 667: 1,\n",
       " 413: 1,\n",
       " 529: 1,\n",
       " 514: 1,\n",
       " 417: 1,\n",
       " 424: 1,\n",
       " 776: 1,\n",
       " 396: 1,\n",
       " 683: 1,\n",
       " 439: 1,\n",
       " 626: 1,\n",
       " 407: 1,\n",
       " 532: 1,\n",
       " 481: 1,\n",
       " 791: 1,\n",
       " 701: 1,\n",
       " 531: 1,\n",
       " 745: 1,\n",
       " 756: 1,\n",
       " 411: 1,\n",
       " 586: 1,\n",
       " 416: 1,\n",
       " 578: 1,\n",
       " 425: 1,\n",
       " 686: 1,\n",
       " 404: 1,\n",
       " 551: 1,\n",
       " 670: 1,\n",
       " 26: 1,\n",
       " 633: 1,\n",
       " 449: 1,\n",
       " 452: 1,\n",
       " 648: 1,\n",
       " 595: 1,\n",
       " 530: 1}"
      ]
     },
     "execution_count": 67,
     "metadata": {},
     "output_type": "execute_result"
    }
   ],
   "source": [
    "df[\"pdays\"].value_counts().to_dict()"
   ]
  },
  {
   "cell_type": "code",
   "execution_count": 68,
   "id": "e0e77419",
   "metadata": {},
   "outputs": [],
   "source": [
    "df[\"pdays\"]=np.cbrt(df[\"pdays\"])"
   ]
  },
  {
   "cell_type": "code",
   "execution_count": 69,
   "id": "82b5788e",
   "metadata": {},
   "outputs": [
    {
     "data": {
      "text/plain": [
       "<AxesSubplot:xlabel='pdays'>"
      ]
     },
     "execution_count": 69,
     "metadata": {},
     "output_type": "execute_result"
    },
    {
     "data": {
      "image/png": "[encoded data removed]",
      "text/plain": [
       "<Figure size 432x288 with 1 Axes>"
      ]
     },
     "metadata": {
      "needs_background": "light"
     },
     "output_type": "display_data"
    }
   ],
   "source": [
    "sns.boxplot(df[\"pdays\"])"
   ]
  },
  {
   "cell_type": "code",
   "execution_count": 70,
   "id": "937b160f",
   "metadata": {},
   "outputs": [],
   "source": [
    "q1=df[\"pdays\"].quantile(q=0.25)\n",
    "q3=df[\"pdays\"].quantile(q=0.75)\n",
    "iqr=q3-q1\n",
    "lowertail=q1-1.5*iqr"
   ]
  },
  {
   "cell_type": "code",
   "execution_count": 71,
   "id": "91be13e9",
   "metadata": {},
   "outputs": [],
   "source": [
    "def hand_out_low(data):\n",
    "    if data<lowertail:\n",
    "        return lowertail\n",
    "    else:\n",
    "        return data"
   ]
  },
  {
   "cell_type": "code",
   "execution_count": 72,
   "id": "c570c62a",
   "metadata": {},
   "outputs": [],
   "source": [
    "df[\"pdays\"]=df[\"pdays\"].apply(hand_out_low)"
   ]
  },
  {
   "cell_type": "code",
   "execution_count": 73,
   "id": "bbd92903",
   "metadata": {},
   "outputs": [
    {
     "data": {
      "text/plain": [
       "<AxesSubplot:xlabel='pdays'>"
      ]
     },
     "execution_count": 73,
     "metadata": {},
     "output_type": "execute_result"
    },
    {
     "data": {
      "image/png": "[encoded data removed]",
      "text/plain": [
       "<Figure size 432x288 with 1 Axes>"
      ]
     },
     "metadata": {
      "needs_background": "light"
     },
     "output_type": "display_data"
    }
   ],
   "source": [
    "sns.boxplot(df[\"pdays\"])"
   ]
  },
  {
   "cell_type": "markdown",
   "id": "5af3c9be",
   "metadata": {},
   "source": [
    "# df[\"previous\"]"
   ]
  },
  {
   "cell_type": "code",
   "execution_count": 74,
   "id": "db21da63",
   "metadata": {},
   "outputs": [
    {
     "data": {
      "text/plain": [
       "0.5803233726305546"
      ]
     },
     "execution_count": 74,
     "metadata": {},
     "output_type": "execute_result"
    }
   ],
   "source": [
    "np.mean(df[\"previous\"])"
   ]
  },
  {
   "cell_type": "code",
   "execution_count": 75,
   "id": "a2c3a94e",
   "metadata": {},
   "outputs": [
    {
     "data": {
      "text/html": [
       "<div>\n",
       "<style scoped>\n",
       "    .dataframe tbody tr th:only-of-type {\n",
       "        vertical-align: middle;\n",
       "    }\n",
       "\n",
       "    .dataframe tbody tr th {\n",
       "        vertical-align: top;\n",
       "    }\n",
       "\n",
       "    .dataframe thead th {\n",
       "        text-align: right;\n",
       "    }\n",
       "</style>\n",
       "<table border=\"1\" class=\"dataframe\">\n",
       "  <thead>\n",
       "    <tr style=\"text-align: right;\">\n",
       "      <th></th>\n",
       "      <th>age</th>\n",
       "      <th>marital</th>\n",
       "      <th>education</th>\n",
       "      <th>default</th>\n",
       "      <th>balance</th>\n",
       "      <th>housing</th>\n",
       "      <th>loan</th>\n",
       "      <th>contact</th>\n",
       "      <th>day</th>\n",
       "      <th>month</th>\n",
       "      <th>duration</th>\n",
       "      <th>campaign</th>\n",
       "      <th>pdays</th>\n",
       "      <th>previous</th>\n",
       "    </tr>\n",
       "  </thead>\n",
       "  <tbody>\n",
       "    <tr>\n",
       "      <th>count</th>\n",
       "      <td>45211.000000</td>\n",
       "      <td>45211.000000</td>\n",
       "      <td>45211.000000</td>\n",
       "      <td>45211.000000</td>\n",
       "      <td>45211.000000</td>\n",
       "      <td>45211.000000</td>\n",
       "      <td>45211.000000</td>\n",
       "      <td>45211.000000</td>\n",
       "      <td>45211.000000</td>\n",
       "      <td>45211.000000</td>\n",
       "      <td>45211.000000</td>\n",
       "      <td>45211.000000</td>\n",
       "      <td>45211.000000</td>\n",
       "      <td>45211.000000</td>\n",
       "    </tr>\n",
       "    <tr>\n",
       "      <th>mean</th>\n",
       "      <td>40.868185</td>\n",
       "      <td>0.832275</td>\n",
       "      <td>2.060516</td>\n",
       "      <td>0.018027</td>\n",
       "      <td>7.455923</td>\n",
       "      <td>0.555838</td>\n",
       "      <td>0.160226</td>\n",
       "      <td>1.359758</td>\n",
       "      <td>15.806419</td>\n",
       "      <td>6.144655</td>\n",
       "      <td>234.939307</td>\n",
       "      <td>2.392228</td>\n",
       "      <td>0.253651</td>\n",
       "      <td>0.580323</td>\n",
       "    </tr>\n",
       "    <tr>\n",
       "      <th>std</th>\n",
       "      <td>10.394895</td>\n",
       "      <td>0.608230</td>\n",
       "      <td>0.778704</td>\n",
       "      <td>0.133049</td>\n",
       "      <td>6.585777</td>\n",
       "      <td>0.496878</td>\n",
       "      <td>0.366820</td>\n",
       "      <td>0.897951</td>\n",
       "      <td>8.322476</td>\n",
       "      <td>2.408034</td>\n",
       "      <td>176.749932</td>\n",
       "      <td>1.600111</td>\n",
       "      <td>2.699007</td>\n",
       "      <td>2.303441</td>\n",
       "    </tr>\n",
       "    <tr>\n",
       "      <th>min</th>\n",
       "      <td>18.000000</td>\n",
       "      <td>0.000000</td>\n",
       "      <td>0.000000</td>\n",
       "      <td>0.000000</td>\n",
       "      <td>-20.015821</td>\n",
       "      <td>0.000000</td>\n",
       "      <td>0.000000</td>\n",
       "      <td>0.000000</td>\n",
       "      <td>1.000000</td>\n",
       "      <td>1.000000</td>\n",
       "      <td>0.000000</td>\n",
       "      <td>1.000000</td>\n",
       "      <td>-1.000000</td>\n",
       "      <td>0.000000</td>\n",
       "    </tr>\n",
       "    <tr>\n",
       "      <th>25%</th>\n",
       "      <td>33.000000</td>\n",
       "      <td>0.000000</td>\n",
       "      <td>2.000000</td>\n",
       "      <td>0.000000</td>\n",
       "      <td>4.160168</td>\n",
       "      <td>0.000000</td>\n",
       "      <td>0.000000</td>\n",
       "      <td>0.000000</td>\n",
       "      <td>8.000000</td>\n",
       "      <td>5.000000</td>\n",
       "      <td>103.000000</td>\n",
       "      <td>1.000000</td>\n",
       "      <td>-1.000000</td>\n",
       "      <td>0.000000</td>\n",
       "    </tr>\n",
       "    <tr>\n",
       "      <th>50%</th>\n",
       "      <td>39.000000</td>\n",
       "      <td>1.000000</td>\n",
       "      <td>2.000000</td>\n",
       "      <td>0.000000</td>\n",
       "      <td>7.651725</td>\n",
       "      <td>1.000000</td>\n",
       "      <td>0.000000</td>\n",
       "      <td>2.000000</td>\n",
       "      <td>16.000000</td>\n",
       "      <td>6.000000</td>\n",
       "      <td>180.000000</td>\n",
       "      <td>2.000000</td>\n",
       "      <td>-1.000000</td>\n",
       "      <td>0.000000</td>\n",
       "    </tr>\n",
       "    <tr>\n",
       "      <th>75%</th>\n",
       "      <td>48.000000</td>\n",
       "      <td>1.000000</td>\n",
       "      <td>3.000000</td>\n",
       "      <td>0.000000</td>\n",
       "      <td>11.260977</td>\n",
       "      <td>1.000000</td>\n",
       "      <td>0.000000</td>\n",
       "      <td>2.000000</td>\n",
       "      <td>21.000000</td>\n",
       "      <td>8.000000</td>\n",
       "      <td>319.000000</td>\n",
       "      <td>3.000000</td>\n",
       "      <td>-1.000000</td>\n",
       "      <td>0.000000</td>\n",
       "    </tr>\n",
       "    <tr>\n",
       "      <th>max</th>\n",
       "      <td>70.500000</td>\n",
       "      <td>2.000000</td>\n",
       "      <td>3.000000</td>\n",
       "      <td>1.000000</td>\n",
       "      <td>46.742671</td>\n",
       "      <td>1.000000</td>\n",
       "      <td>1.000000</td>\n",
       "      <td>2.000000</td>\n",
       "      <td>31.000000</td>\n",
       "      <td>12.000000</td>\n",
       "      <td>643.000000</td>\n",
       "      <td>6.000000</td>\n",
       "      <td>9.550059</td>\n",
       "      <td>275.000000</td>\n",
       "    </tr>\n",
       "  </tbody>\n",
       "</table>\n",
       "</div>"
      ],
      "text/plain": [
       "                age       marital     education       default       balance  \\\n",
       "count  45211.000000  45211.000000  45211.000000  45211.000000  45211.000000   \n",
       "mean      40.868185      0.832275      2.060516      0.018027      7.455923   \n",
       "std       10.394895      0.608230      0.778704      0.133049      6.585777   \n",
       "min       18.000000      0.000000      0.000000      0.000000    -20.015821   \n",
       "25%       33.000000      0.000000      2.000000      0.000000      4.160168   \n",
       "50%       39.000000      1.000000      2.000000      0.000000      7.651725   \n",
       "75%       48.000000      1.000000      3.000000      0.000000     11.260977   \n",
       "max       70.500000      2.000000      3.000000      1.000000     46.742671   \n",
       "\n",
       "            housing          loan       contact           day         month  \\\n",
       "count  45211.000000  45211.000000  45211.000000  45211.000000  45211.000000   \n",
       "mean       0.555838      0.160226      1.359758     15.806419      6.144655   \n",
       "std        0.496878      0.366820      0.897951      8.322476      2.408034   \n",
       "min        0.000000      0.000000      0.000000      1.000000      1.000000   \n",
       "25%        0.000000      0.000000      0.000000      8.000000      5.000000   \n",
       "50%        1.000000      0.000000      2.000000     16.000000      6.000000   \n",
       "75%        1.000000      0.000000      2.000000     21.000000      8.000000   \n",
       "max        1.000000      1.000000      2.000000     31.000000     12.000000   \n",
       "\n",
       "           duration      campaign         pdays      previous  \n",
       "count  45211.000000  45211.000000  45211.000000  45211.000000  \n",
       "mean     234.939307      2.392228      0.253651      0.580323  \n",
       "std      176.749932      1.600111      2.699007      2.303441  \n",
       "min        0.000000      1.000000     -1.000000      0.000000  \n",
       "25%      103.000000      1.000000     -1.000000      0.000000  \n",
       "50%      180.000000      2.000000     -1.000000      0.000000  \n",
       "75%      319.000000      3.000000     -1.000000      0.000000  \n",
       "max      643.000000      6.000000      9.550059    275.000000  "
      ]
     },
     "execution_count": 75,
     "metadata": {},
     "output_type": "execute_result"
    }
   ],
   "source": [
    "df.describe()"
   ]
  },
  {
   "cell_type": "code",
   "execution_count": 76,
   "id": "3fe4284f",
   "metadata": {},
   "outputs": [
    {
     "data": {
      "text/plain": [
       "0      36954\n",
       "1       2772\n",
       "2       2106\n",
       "3       1142\n",
       "4        714\n",
       "5        459\n",
       "6        277\n",
       "7        205\n",
       "8        129\n",
       "9         92\n",
       "10        67\n",
       "11        65\n",
       "12        44\n",
       "13        38\n",
       "15        20\n",
       "14        19\n",
       "17        15\n",
       "16        13\n",
       "19        11\n",
       "20         8\n",
       "23         8\n",
       "18         6\n",
       "22         6\n",
       "24         5\n",
       "27         5\n",
       "21         4\n",
       "29         4\n",
       "25         4\n",
       "30         3\n",
       "38         2\n",
       "37         2\n",
       "26         2\n",
       "28         2\n",
       "51         1\n",
       "275        1\n",
       "58         1\n",
       "32         1\n",
       "40         1\n",
       "55         1\n",
       "35         1\n",
       "41         1\n",
       "Name: previous, dtype: int64"
      ]
     },
     "execution_count": 76,
     "metadata": {},
     "output_type": "execute_result"
    }
   ],
   "source": [
    "df[\"previous\"].value_counts()"
   ]
  },
  {
   "cell_type": "code",
   "execution_count": 77,
   "id": "7065c976",
   "metadata": {},
   "outputs": [
    {
     "data": {
      "text/plain": [
       "<AxesSubplot:xlabel='previous'>"
      ]
     },
     "execution_count": 77,
     "metadata": {},
     "output_type": "execute_result"
    },
    {
     "data": {
      "image/png": "[encoded data removed]",
      "text/plain": [
       "<Figure size 432x288 with 1 Axes>"
      ]
     },
     "metadata": {
      "needs_background": "light"
     },
     "output_type": "display_data"
    }
   ],
   "source": [
    "sns.boxplot(df[\"previous\"])"
   ]
  },
  {
   "cell_type": "code",
   "execution_count": 78,
   "id": "2e9f9eea",
   "metadata": {},
   "outputs": [
    {
     "data": {
      "text/plain": [
       "2.303415570447332"
      ]
     },
     "execution_count": 78,
     "metadata": {},
     "output_type": "execute_result"
    }
   ],
   "source": [
    "arr=df[\"previous\"].values\n",
    "np.std(arr)"
   ]
  },
  {
   "cell_type": "code",
   "execution_count": 79,
   "id": "b179df28",
   "metadata": {},
   "outputs": [
    {
     "name": "stdout",
     "output_type": "stream",
     "text": [
      "outliers >> [11, 16, 10, 10, 12, 18, 9, 21, 8, 11, 9, 8, 14, 12, 8, 11, 15, 14, 11, 8, 9, 8, 10, 9, 8, 12, 10, 14, 9, 8, 11, 26, 37, 16, 8, 13, 8, 15, 8, 25, 13, 8, 8, 20, 9, 10, 11, 8, 9, 8, 27, 8, 8, 8, 9, 16, 12, 15, 8, 13, 13, 8, 9, 8, 27, 10, 17, 13, 9, 23, 38, 11, 8, 8, 29, 18, 24, 8, 9, 25, 14, 17, 8, 51, 10, 275, 9, 14, 8, 13, 9, 8, 23, 14, 13, 10, 9, 11, 12, 16, 9, 20, 8, 24, 13, 8, 9, 13, 15, 11, 12, 18, 9, 9, 8, 8, 29, 13, 27, 15, 8, 10, 9, 27, 14, 9, 13, 9, 15, 9, 9, 12, 12, 8, 13, 8, 12, 9, 17, 15, 16, 15, 22, 10, 11, 25, 8, 8, 8, 9, 12, 8, 9, 13, 16, 8, 11, 24, 8, 20, 15, 11, 9, 10, 15, 9, 8, 8, 19, 8, 21, 19, 9, 10, 9, 9, 9, 18, 13, 9, 12, 12, 10, 8, 13, 8, 9, 15, 10, 12, 11, 14, 9, 9, 8, 8, 11, 9, 9, 15, 23, 11, 12, 17, 15, 14, 8, 23, 12, 9, 20, 20, 12, 9, 11, 11, 17, 30, 8, 11, 11, 13, 9, 11, 8, 8, 9, 11, 11, 8, 12, 11, 19, 9, 29, 8, 12, 10, 9, 19, 10, 17, 12, 8, 10, 11, 9, 11, 12, 9, 11, 18, 11, 15, 10, 12, 30, 9, 8, 22, 11, 10, 13, 8, 16, 13, 8, 17, 9, 9, 22, 10, 8, 9, 17, 8, 22, 10, 11, 24, 23, 9, 10, 11, 10, 11, 11, 8, 8, 11, 13, 38, 12, 8, 13, 12, 10, 8, 8, 10, 10, 14, 10, 9, 19, 21, 10, 8, 11, 23, 27, 17, 12, 8, 15, 29, 12, 8, 10, 58, 8, 12, 24, 18, 9, 13, 9, 16, 9, 13, 22, 8, 11, 10, 25, 9, 9, 15, 28, 8, 11, 11, 13, 8, 14, 32, 19, 13, 13, 15, 8, 9, 8, 10, 8, 10, 15, 21, 8, 10, 9, 11, 14, 19, 8, 16, 26, 11, 10, 9, 10, 10, 17, 10, 13, 8, 11, 12, 11, 8, 8, 13, 16, 19, 8, 20, 8, 8, 12, 8, 10, 8, 12, 8, 17, 11, 8, 8, 8, 11, 37, 8, 9, 19, 17, 9, 11, 10, 9, 40, 10, 9, 13, 9, 10, 8, 9, 12, 9, 20, 8, 8, 8, 13, 9, 9, 15, 9, 11, 10, 10, 11, 8, 13, 9, 10, 28, 8, 12, 8, 11, 9, 9, 8, 17, 11, 8, 11, 11, 8, 10, 8, 8, 10, 10, 10, 10, 8, 8, 9, 9, 9, 9, 11, 9, 12, 8, 9, 12, 9, 8, 10, 17, 13, 19, 19, 10, 30, 8, 9, 10, 11, 9, 8, 8, 55, 9, 22, 10, 10, 14, 8, 8, 8, 8, 17, 11, 9, 12, 13, 9, 11, 10, 23, 8, 8, 8, 9, 23, 8, 10, 10, 15, 9, 11, 35, 8, 10, 14, 8, 20, 10, 10, 8, 10, 8, 9, 14, 14, 11, 11, 8, 11, 9, 8, 13, 8, 9, 12, 41, 11, 12, 11, 13, 10, 8, 14, 16, 12, 9, 12, 9, 12, 12, 8, 13, 14, 16, 11, 10, 14, 12, 10, 11, 10, 11, 11, 13, 10, 8, 12, 8, 10, 13, 13, 12, 8, 16, 8, 12, 8, 11]\n"
     ]
    }
   ],
   "source": [
    "arr=df[\"previous\"].values\n",
    "np.std(arr)\n",
    "# zscore method to detect outliers\n",
    "# z_score=(x-xmean)/std\n",
    "outliers=[]\n",
    "def z_score(arr):\n",
    "    for i in arr:\n",
    "        z_score=(i-0.580323)/2.303441\n",
    "        threshold=3\n",
    "        if z_score>threshold:\n",
    "            outliers.append(i)\n",
    "            \n",
    "    print(\"outliers >>\",outliers)\n",
    "z_score(arr)"
   ]
  },
  {
   "cell_type": "code",
   "execution_count": 80,
   "id": "4ef09c51",
   "metadata": {},
   "outputs": [],
   "source": [
    "q1=df[\"previous\"].quantile(q=0.25)\n",
    "q3=df[\"previous\"].quantile(q=0.75)\n",
    "iqr=q3-q1\n",
    "highertail=q3+1.5*iqr"
   ]
  },
  {
   "cell_type": "code",
   "execution_count": 81,
   "id": "f3f9f5c8",
   "metadata": {},
   "outputs": [],
   "source": [
    "df[\"previous\"]=df[\"previous\"].apply(hand_out)"
   ]
  },
  {
   "cell_type": "code",
   "execution_count": 82,
   "id": "dbae2463",
   "metadata": {},
   "outputs": [
    {
     "data": {
      "text/plain": [
       "<AxesSubplot:xlabel='previous'>"
      ]
     },
     "execution_count": 82,
     "metadata": {},
     "output_type": "execute_result"
    },
    {
     "data": {
      "image/png": "[encoded data removed]",
      "text/plain": [
       "<Figure size 432x288 with 1 Axes>"
      ]
     },
     "metadata": {
      "needs_background": "light"
     },
     "output_type": "display_data"
    }
   ],
   "source": [
    "sns.boxplot(df[\"previous\"])"
   ]
  },
  {
   "cell_type": "code",
   "execution_count": 83,
   "id": "5ae4c688",
   "metadata": {},
   "outputs": [
    {
     "data": {
      "text/plain": [
       "0.0    36954\n",
       "1.0     2772\n",
       "2.0     2106\n",
       "3.0     1142\n",
       "6.0     1064\n",
       "4.0      714\n",
       "5.0      459\n",
       "Name: previous, dtype: int64"
      ]
     },
     "execution_count": 83,
     "metadata": {},
     "output_type": "execute_result"
    }
   ],
   "source": [
    "df[\"previous\"].value_counts()"
   ]
  },
  {
   "cell_type": "markdown",
   "id": "b6e88b4a",
   "metadata": {},
   "source": [
    "# df[\"poutcome\"]"
   ]
  },
  {
   "cell_type": "code",
   "execution_count": 84,
   "id": "bb493d06",
   "metadata": {},
   "outputs": [
    {
     "data": {
      "text/plain": [
       "{'\"unknown\"': 36959, '\"failure\"': 4901, '\"other\"': 1840, '\"success\"': 1511}"
      ]
     },
     "execution_count": 84,
     "metadata": {},
     "output_type": "execute_result"
    }
   ],
   "source": [
    "df[\"poutcome\"].value_counts().to_dict()"
   ]
  },
  {
   "cell_type": "code",
   "execution_count": 85,
   "id": "26689c3e",
   "metadata": {},
   "outputs": [],
   "source": [
    "df[\"poutcome\"].replace({'\"unknown\"':0, '\"failure\"':2, '\"other\"': 1, '\"success\"': 3},inplace=True)"
   ]
  },
  {
   "cell_type": "code",
   "execution_count": 86,
   "id": "4481ea06",
   "metadata": {},
   "outputs": [
    {
     "data": {
      "text/plain": [
       "array([0, 2, 1, 3], dtype=int64)"
      ]
     },
     "execution_count": 86,
     "metadata": {},
     "output_type": "execute_result"
    }
   ],
   "source": [
    "df[\"poutcome\"].unique()"
   ]
  },
  {
   "cell_type": "markdown",
   "id": "2b70b294",
   "metadata": {},
   "source": [
    "# df[\"y\"]"
   ]
  },
  {
   "cell_type": "code",
   "execution_count": 87,
   "id": "0f71aa03",
   "metadata": {},
   "outputs": [
    {
     "data": {
      "text/plain": [
       "{'\"no\"': 39922, '\"yes\"': 5289}"
      ]
     },
     "execution_count": 87,
     "metadata": {},
     "output_type": "execute_result"
    }
   ],
   "source": [
    "df[\"y\"].value_counts().to_dict()"
   ]
  },
  {
   "cell_type": "code",
   "execution_count": 88,
   "id": "a9608f43",
   "metadata": {},
   "outputs": [],
   "source": [
    "df[\"y\"].replace({'\"no\"': 0, '\"yes\"': 1},inplace=True)"
   ]
  },
  {
   "cell_type": "code",
   "execution_count": 89,
   "id": "e84b036a",
   "metadata": {},
   "outputs": [],
   "source": [
    "df=pd.concat([df,df_job],axis=1)    # concating before feature selection"
   ]
  },
  {
   "cell_type": "code",
   "execution_count": 90,
   "id": "196bbb08",
   "metadata": {},
   "outputs": [
    {
     "data": {
      "text/html": [
       "<div>\n",
       "<style scoped>\n",
       "    .dataframe tbody tr th:only-of-type {\n",
       "        vertical-align: middle;\n",
       "    }\n",
       "\n",
       "    .dataframe tbody tr th {\n",
       "        vertical-align: top;\n",
       "    }\n",
       "\n",
       "    .dataframe thead th {\n",
       "        text-align: right;\n",
       "    }\n",
       "</style>\n",
       "<table border=\"1\" class=\"dataframe\">\n",
       "  <thead>\n",
       "    <tr style=\"text-align: right;\">\n",
       "      <th></th>\n",
       "      <th>age</th>\n",
       "      <th>job</th>\n",
       "      <th>marital</th>\n",
       "      <th>education</th>\n",
       "      <th>default</th>\n",
       "      <th>balance</th>\n",
       "      <th>housing</th>\n",
       "      <th>loan</th>\n",
       "      <th>contact</th>\n",
       "      <th>day</th>\n",
       "      <th>...</th>\n",
       "      <th>job_\"entrepreneur\"</th>\n",
       "      <th>job_\"housemaid\"</th>\n",
       "      <th>job_\"management\"</th>\n",
       "      <th>job_\"retired\"</th>\n",
       "      <th>job_\"self-employed\"</th>\n",
       "      <th>job_\"services\"</th>\n",
       "      <th>job_\"student\"</th>\n",
       "      <th>job_\"technician\"</th>\n",
       "      <th>job_\"unemployed\"</th>\n",
       "      <th>job_\"unknown\"</th>\n",
       "    </tr>\n",
       "  </thead>\n",
       "  <tbody>\n",
       "    <tr>\n",
       "      <th>0</th>\n",
       "      <td>58.0</td>\n",
       "      <td>\"management\"</td>\n",
       "      <td>1</td>\n",
       "      <td>3</td>\n",
       "      <td>0</td>\n",
       "      <td>12.892606</td>\n",
       "      <td>1</td>\n",
       "      <td>0</td>\n",
       "      <td>0</td>\n",
       "      <td>5</td>\n",
       "      <td>...</td>\n",
       "      <td>0</td>\n",
       "      <td>0</td>\n",
       "      <td>1</td>\n",
       "      <td>0</td>\n",
       "      <td>0</td>\n",
       "      <td>0</td>\n",
       "      <td>0</td>\n",
       "      <td>0</td>\n",
       "      <td>0</td>\n",
       "      <td>0</td>\n",
       "    </tr>\n",
       "    <tr>\n",
       "      <th>1</th>\n",
       "      <td>44.0</td>\n",
       "      <td>\"technician\"</td>\n",
       "      <td>0</td>\n",
       "      <td>2</td>\n",
       "      <td>0</td>\n",
       "      <td>3.072317</td>\n",
       "      <td>1</td>\n",
       "      <td>0</td>\n",
       "      <td>0</td>\n",
       "      <td>5</td>\n",
       "      <td>...</td>\n",
       "      <td>0</td>\n",
       "      <td>0</td>\n",
       "      <td>0</td>\n",
       "      <td>0</td>\n",
       "      <td>0</td>\n",
       "      <td>0</td>\n",
       "      <td>0</td>\n",
       "      <td>1</td>\n",
       "      <td>0</td>\n",
       "      <td>0</td>\n",
       "    </tr>\n",
       "    <tr>\n",
       "      <th>2</th>\n",
       "      <td>33.0</td>\n",
       "      <td>\"entrepreneur\"</td>\n",
       "      <td>1</td>\n",
       "      <td>2</td>\n",
       "      <td>0</td>\n",
       "      <td>1.259921</td>\n",
       "      <td>1</td>\n",
       "      <td>1</td>\n",
       "      <td>0</td>\n",
       "      <td>5</td>\n",
       "      <td>...</td>\n",
       "      <td>1</td>\n",
       "      <td>0</td>\n",
       "      <td>0</td>\n",
       "      <td>0</td>\n",
       "      <td>0</td>\n",
       "      <td>0</td>\n",
       "      <td>0</td>\n",
       "      <td>0</td>\n",
       "      <td>0</td>\n",
       "      <td>0</td>\n",
       "    </tr>\n",
       "    <tr>\n",
       "      <th>3</th>\n",
       "      <td>47.0</td>\n",
       "      <td>\"blue-collar\"</td>\n",
       "      <td>1</td>\n",
       "      <td>0</td>\n",
       "      <td>0</td>\n",
       "      <td>11.462385</td>\n",
       "      <td>1</td>\n",
       "      <td>0</td>\n",
       "      <td>0</td>\n",
       "      <td>5</td>\n",
       "      <td>...</td>\n",
       "      <td>0</td>\n",
       "      <td>0</td>\n",
       "      <td>0</td>\n",
       "      <td>0</td>\n",
       "      <td>0</td>\n",
       "      <td>0</td>\n",
       "      <td>0</td>\n",
       "      <td>0</td>\n",
       "      <td>0</td>\n",
       "      <td>0</td>\n",
       "    </tr>\n",
       "    <tr>\n",
       "      <th>4</th>\n",
       "      <td>33.0</td>\n",
       "      <td>\"unknown\"</td>\n",
       "      <td>0</td>\n",
       "      <td>0</td>\n",
       "      <td>0</td>\n",
       "      <td>1.000000</td>\n",
       "      <td>0</td>\n",
       "      <td>0</td>\n",
       "      <td>0</td>\n",
       "      <td>5</td>\n",
       "      <td>...</td>\n",
       "      <td>0</td>\n",
       "      <td>0</td>\n",
       "      <td>0</td>\n",
       "      <td>0</td>\n",
       "      <td>0</td>\n",
       "      <td>0</td>\n",
       "      <td>0</td>\n",
       "      <td>0</td>\n",
       "      <td>0</td>\n",
       "      <td>1</td>\n",
       "    </tr>\n",
       "    <tr>\n",
       "      <th>...</th>\n",
       "      <td>...</td>\n",
       "      <td>...</td>\n",
       "      <td>...</td>\n",
       "      <td>...</td>\n",
       "      <td>...</td>\n",
       "      <td>...</td>\n",
       "      <td>...</td>\n",
       "      <td>...</td>\n",
       "      <td>...</td>\n",
       "      <td>...</td>\n",
       "      <td>...</td>\n",
       "      <td>...</td>\n",
       "      <td>...</td>\n",
       "      <td>...</td>\n",
       "      <td>...</td>\n",
       "      <td>...</td>\n",
       "      <td>...</td>\n",
       "      <td>...</td>\n",
       "      <td>...</td>\n",
       "      <td>...</td>\n",
       "      <td>...</td>\n",
       "    </tr>\n",
       "    <tr>\n",
       "      <th>45206</th>\n",
       "      <td>51.0</td>\n",
       "      <td>\"technician\"</td>\n",
       "      <td>1</td>\n",
       "      <td>3</td>\n",
       "      <td>0</td>\n",
       "      <td>9.378887</td>\n",
       "      <td>0</td>\n",
       "      <td>0</td>\n",
       "      <td>2</td>\n",
       "      <td>17</td>\n",
       "      <td>...</td>\n",
       "      <td>0</td>\n",
       "      <td>0</td>\n",
       "      <td>0</td>\n",
       "      <td>0</td>\n",
       "      <td>0</td>\n",
       "      <td>0</td>\n",
       "      <td>0</td>\n",
       "      <td>1</td>\n",
       "      <td>0</td>\n",
       "      <td>0</td>\n",
       "    </tr>\n",
       "    <tr>\n",
       "      <th>45207</th>\n",
       "      <td>70.5</td>\n",
       "      <td>\"retired\"</td>\n",
       "      <td>2</td>\n",
       "      <td>1</td>\n",
       "      <td>0</td>\n",
       "      <td>12.002314</td>\n",
       "      <td>0</td>\n",
       "      <td>0</td>\n",
       "      <td>2</td>\n",
       "      <td>17</td>\n",
       "      <td>...</td>\n",
       "      <td>0</td>\n",
       "      <td>0</td>\n",
       "      <td>0</td>\n",
       "      <td>1</td>\n",
       "      <td>0</td>\n",
       "      <td>0</td>\n",
       "      <td>0</td>\n",
       "      <td>0</td>\n",
       "      <td>0</td>\n",
       "      <td>0</td>\n",
       "    </tr>\n",
       "    <tr>\n",
       "      <th>45208</th>\n",
       "      <td>70.5</td>\n",
       "      <td>\"retired\"</td>\n",
       "      <td>1</td>\n",
       "      <td>2</td>\n",
       "      <td>0</td>\n",
       "      <td>17.878816</td>\n",
       "      <td>0</td>\n",
       "      <td>0</td>\n",
       "      <td>2</td>\n",
       "      <td>17</td>\n",
       "      <td>...</td>\n",
       "      <td>0</td>\n",
       "      <td>0</td>\n",
       "      <td>0</td>\n",
       "      <td>1</td>\n",
       "      <td>0</td>\n",
       "      <td>0</td>\n",
       "      <td>0</td>\n",
       "      <td>0</td>\n",
       "      <td>0</td>\n",
       "      <td>0</td>\n",
       "    </tr>\n",
       "    <tr>\n",
       "      <th>45209</th>\n",
       "      <td>57.0</td>\n",
       "      <td>\"blue-collar\"</td>\n",
       "      <td>1</td>\n",
       "      <td>2</td>\n",
       "      <td>0</td>\n",
       "      <td>8.741625</td>\n",
       "      <td>0</td>\n",
       "      <td>0</td>\n",
       "      <td>1</td>\n",
       "      <td>17</td>\n",
       "      <td>...</td>\n",
       "      <td>0</td>\n",
       "      <td>0</td>\n",
       "      <td>0</td>\n",
       "      <td>0</td>\n",
       "      <td>0</td>\n",
       "      <td>0</td>\n",
       "      <td>0</td>\n",
       "      <td>0</td>\n",
       "      <td>0</td>\n",
       "      <td>0</td>\n",
       "    </tr>\n",
       "    <tr>\n",
       "      <th>45210</th>\n",
       "      <td>37.0</td>\n",
       "      <td>\"entrepreneur\"</td>\n",
       "      <td>1</td>\n",
       "      <td>2</td>\n",
       "      <td>0</td>\n",
       "      <td>14.375873</td>\n",
       "      <td>0</td>\n",
       "      <td>0</td>\n",
       "      <td>2</td>\n",
       "      <td>17</td>\n",
       "      <td>...</td>\n",
       "      <td>1</td>\n",
       "      <td>0</td>\n",
       "      <td>0</td>\n",
       "      <td>0</td>\n",
       "      <td>0</td>\n",
       "      <td>0</td>\n",
       "      <td>0</td>\n",
       "      <td>0</td>\n",
       "      <td>0</td>\n",
       "      <td>0</td>\n",
       "    </tr>\n",
       "  </tbody>\n",
       "</table>\n",
       "<p>45211 rows × 29 columns</p>\n",
       "</div>"
      ],
      "text/plain": [
       "        age             job  marital  education  default    balance  housing  \\\n",
       "0      58.0    \"management\"        1          3        0  12.892606        1   \n",
       "1      44.0    \"technician\"        0          2        0   3.072317        1   \n",
       "2      33.0  \"entrepreneur\"        1          2        0   1.259921        1   \n",
       "3      47.0   \"blue-collar\"        1          0        0  11.462385        1   \n",
       "4      33.0       \"unknown\"        0          0        0   1.000000        0   \n",
       "...     ...             ...      ...        ...      ...        ...      ...   \n",
       "45206  51.0    \"technician\"        1          3        0   9.378887        0   \n",
       "45207  70.5       \"retired\"        2          1        0  12.002314        0   \n",
       "45208  70.5       \"retired\"        1          2        0  17.878816        0   \n",
       "45209  57.0   \"blue-collar\"        1          2        0   8.741625        0   \n",
       "45210  37.0  \"entrepreneur\"        1          2        0  14.375873        0   \n",
       "\n",
       "       loan  contact  day  ...  job_\"entrepreneur\"  job_\"housemaid\"  \\\n",
       "0         0        0    5  ...                   0                0   \n",
       "1         0        0    5  ...                   0                0   \n",
       "2         1        0    5  ...                   1                0   \n",
       "3         0        0    5  ...                   0                0   \n",
       "4         0        0    5  ...                   0                0   \n",
       "...     ...      ...  ...  ...                 ...              ...   \n",
       "45206     0        2   17  ...                   0                0   \n",
       "45207     0        2   17  ...                   0                0   \n",
       "45208     0        2   17  ...                   0                0   \n",
       "45209     0        1   17  ...                   0                0   \n",
       "45210     0        2   17  ...                   1                0   \n",
       "\n",
       "       job_\"management\"  job_\"retired\"  job_\"self-employed\"  job_\"services\"  \\\n",
       "0                     1              0                    0               0   \n",
       "1                     0              0                    0               0   \n",
       "2                     0              0                    0               0   \n",
       "3                     0              0                    0               0   \n",
       "4                     0              0                    0               0   \n",
       "...                 ...            ...                  ...             ...   \n",
       "45206                 0              0                    0               0   \n",
       "45207                 0              1                    0               0   \n",
       "45208                 0              1                    0               0   \n",
       "45209                 0              0                    0               0   \n",
       "45210                 0              0                    0               0   \n",
       "\n",
       "       job_\"student\"  job_\"technician\"  job_\"unemployed\"  job_\"unknown\"  \n",
       "0                  0                 0                 0              0  \n",
       "1                  0                 1                 0              0  \n",
       "2                  0                 0                 0              0  \n",
       "3                  0                 0                 0              0  \n",
       "4                  0                 0                 0              1  \n",
       "...              ...               ...               ...            ...  \n",
       "45206              0                 1                 0              0  \n",
       "45207              0                 0                 0              0  \n",
       "45208              0                 0                 0              0  \n",
       "45209              0                 0                 0              0  \n",
       "45210              0                 0                 0              0  \n",
       "\n",
       "[45211 rows x 29 columns]"
      ]
     },
     "execution_count": 90,
     "metadata": {},
     "output_type": "execute_result"
    }
   ],
   "source": [
    "df"
   ]
  },
  {
   "cell_type": "markdown",
   "id": "28f47b51",
   "metadata": {},
   "source": [
    "# feature selection"
   ]
  },
  {
   "cell_type": "code",
   "execution_count": 91,
   "id": "72d1e406",
   "metadata": {},
   "outputs": [],
   "source": [
    "df.drop(\"job\",axis=1,inplace=True)"
   ]
  },
  {
   "cell_type": "code",
   "execution_count": 92,
   "id": "da1b01d4",
   "metadata": {},
   "outputs": [],
   "source": [
    "x=df.drop(\"y\",axis=1)\n",
    "y=df[\"y\"]"
   ]
  },
  {
   "cell_type": "raw",
   "id": "41c2b3ed",
   "metadata": {},
   "source": [
    "1. Filter Method(Before model training): Rank \n",
    "    1. Correlation:\n",
    "        1.1 Pearson Correlation Coefficient(Cont vs Cont)\n",
    "        1.2 Spearman Correlation Coefficient(Cont vs Cont)\n",
    "        1.3 Kendall Correlation Coefficient (Cat vs Cont)\n",
    "        \n",
    "    2. Information Gain (Mutual Information) # decesion tree   \n",
    "    3. Fishers Score     ( )\n",
    "    4. Missing Value Ratio\n",
    "    5. Variance Threshold Method\n",
    "    6. Chi-Square Test(Cat vs Cat)\n",
    "    7. ANOVA Test \n",
    "    8. Mean Absolute difference(MAD)\n",
    "    \n",
    "2. Wrapper Method(At the time of model training):\n",
    "    * It uses Machine Learning Models to find to best subset of features\n",
    "    1. Forward Feature Selection\n",
    "    2. Backward Feature Elimination\n",
    "    3. Exhastive Feature Selection\n",
    "    4. Recursive Feature Selection\n",
    "\n",
    "3. Embedded Method((After model training)):\n",
    "    1. Random Forest Feature Importance\n",
    "    2. AdaBoost Feature Importance\n",
    "    3. Regularization (L1 Reg >> Lasso)"
   ]
  },
  {
   "cell_type": "code",
   "execution_count": 93,
   "id": "f173d2ff",
   "metadata": {
    "scrolled": false
   },
   "outputs": [
    {
     "data": {
      "text/html": [
       "<div>\n",
       "<style scoped>\n",
       "    .dataframe tbody tr th:only-of-type {\n",
       "        vertical-align: middle;\n",
       "    }\n",
       "\n",
       "    .dataframe tbody tr th {\n",
       "        vertical-align: top;\n",
       "    }\n",
       "\n",
       "    .dataframe thead th {\n",
       "        text-align: right;\n",
       "    }\n",
       "</style>\n",
       "<table border=\"1\" class=\"dataframe\">\n",
       "  <thead>\n",
       "    <tr style=\"text-align: right;\">\n",
       "      <th></th>\n",
       "      <th>age</th>\n",
       "      <th>marital</th>\n",
       "      <th>education</th>\n",
       "      <th>default</th>\n",
       "      <th>balance</th>\n",
       "      <th>housing</th>\n",
       "      <th>loan</th>\n",
       "      <th>contact</th>\n",
       "      <th>day</th>\n",
       "      <th>month</th>\n",
       "      <th>...</th>\n",
       "      <th>job_\"entrepreneur\"</th>\n",
       "      <th>job_\"housemaid\"</th>\n",
       "      <th>job_\"management\"</th>\n",
       "      <th>job_\"retired\"</th>\n",
       "      <th>job_\"self-employed\"</th>\n",
       "      <th>job_\"services\"</th>\n",
       "      <th>job_\"student\"</th>\n",
       "      <th>job_\"technician\"</th>\n",
       "      <th>job_\"unemployed\"</th>\n",
       "      <th>job_\"unknown\"</th>\n",
       "    </tr>\n",
       "  </thead>\n",
       "  <tbody>\n",
       "    <tr>\n",
       "      <th>age</th>\n",
       "      <td>1.000000</td>\n",
       "      <td>0.354624</td>\n",
       "      <td>-0.129618</td>\n",
       "      <td>-0.012156</td>\n",
       "      <td>0.065242</td>\n",
       "      <td>-0.127814</td>\n",
       "      <td>-0.003907</td>\n",
       "      <td>-0.042067</td>\n",
       "      <td>-0.006681</td>\n",
       "      <td>0.084304</td>\n",
       "      <td>...</td>\n",
       "      <td>0.026350</td>\n",
       "      <td>0.073169</td>\n",
       "      <td>-0.009932</td>\n",
       "      <td>0.280986</td>\n",
       "      <td>-0.003545</td>\n",
       "      <td>-0.048831</td>\n",
       "      <td>-0.171681</td>\n",
       "      <td>-0.047986</td>\n",
       "      <td>0.004252</td>\n",
       "      <td>0.040665</td>\n",
       "    </tr>\n",
       "    <tr>\n",
       "      <th>marital</th>\n",
       "      <td>0.354624</td>\n",
       "      <td>1.000000</td>\n",
       "      <td>-0.102885</td>\n",
       "      <td>0.005420</td>\n",
       "      <td>-0.015796</td>\n",
       "      <td>0.016421</td>\n",
       "      <td>0.046691</td>\n",
       "      <td>-0.039829</td>\n",
       "      <td>0.004938</td>\n",
       "      <td>0.048972</td>\n",
       "      <td>...</td>\n",
       "      <td>0.039740</td>\n",
       "      <td>0.055163</td>\n",
       "      <td>-0.023405</td>\n",
       "      <td>0.114479</td>\n",
       "      <td>-0.006790</td>\n",
       "      <td>0.004461</td>\n",
       "      <td>-0.182997</td>\n",
       "      <td>-0.043170</td>\n",
       "      <td>-0.003458</td>\n",
       "      <td>0.000174</td>\n",
       "    </tr>\n",
       "    <tr>\n",
       "      <th>education</th>\n",
       "      <td>-0.129618</td>\n",
       "      <td>-0.102885</td>\n",
       "      <td>1.000000</td>\n",
       "      <td>-0.010342</td>\n",
       "      <td>0.045667</td>\n",
       "      <td>-0.055316</td>\n",
       "      <td>-0.009730</td>\n",
       "      <td>0.149344</td>\n",
       "      <td>0.019956</td>\n",
       "      <td>0.068847</td>\n",
       "      <td>...</td>\n",
       "      <td>0.047904</td>\n",
       "      <td>-0.106959</td>\n",
       "      <td>0.479879</td>\n",
       "      <td>-0.102459</td>\n",
       "      <td>0.084517</td>\n",
       "      <td>-0.084465</td>\n",
       "      <td>-0.023375</td>\n",
       "      <td>0.053387</td>\n",
       "      <td>-0.022397</td>\n",
       "      <td>-0.069877</td>\n",
       "    </tr>\n",
       "    <tr>\n",
       "      <th>default</th>\n",
       "      <td>-0.012156</td>\n",
       "      <td>0.005420</td>\n",
       "      <td>-0.010342</td>\n",
       "      <td>1.000000</td>\n",
       "      <td>-0.137371</td>\n",
       "      <td>-0.006025</td>\n",
       "      <td>0.077234</td>\n",
       "      <td>-0.013291</td>\n",
       "      <td>0.008087</td>\n",
       "      <td>0.017822</td>\n",
       "      <td>...</td>\n",
       "      <td>0.026281</td>\n",
       "      <td>-0.000359</td>\n",
       "      <td>-0.002655</td>\n",
       "      <td>-0.011290</td>\n",
       "      <td>0.004107</td>\n",
       "      <td>0.000068</td>\n",
       "      <td>-0.016222</td>\n",
       "      <td>-0.003089</td>\n",
       "      <td>0.006470</td>\n",
       "      <td>-0.006669</td>\n",
       "    </tr>\n",
       "    <tr>\n",
       "      <th>balance</th>\n",
       "      <td>0.065242</td>\n",
       "      <td>-0.015796</td>\n",
       "      <td>0.045667</td>\n",
       "      <td>-0.137371</td>\n",
       "      <td>1.000000</td>\n",
       "      <td>-0.055928</td>\n",
       "      <td>-0.105618</td>\n",
       "      <td>0.027321</td>\n",
       "      <td>0.001242</td>\n",
       "      <td>0.036846</td>\n",
       "      <td>...</td>\n",
       "      <td>-0.008734</td>\n",
       "      <td>-0.000650</td>\n",
       "      <td>0.051741</td>\n",
       "      <td>0.048887</td>\n",
       "      <td>0.014199</td>\n",
       "      <td>-0.039589</td>\n",
       "      <td>0.016532</td>\n",
       "      <td>-0.012831</td>\n",
       "      <td>0.012009</td>\n",
       "      <td>0.016066</td>\n",
       "    </tr>\n",
       "    <tr>\n",
       "      <th>housing</th>\n",
       "      <td>-0.127814</td>\n",
       "      <td>0.016421</td>\n",
       "      <td>-0.055316</td>\n",
       "      <td>-0.006025</td>\n",
       "      <td>-0.055928</td>\n",
       "      <td>1.000000</td>\n",
       "      <td>0.041323</td>\n",
       "      <td>-0.173807</td>\n",
       "      <td>-0.022951</td>\n",
       "      <td>-0.230901</td>\n",
       "      <td>...</td>\n",
       "      <td>0.010600</td>\n",
       "      <td>-0.079380</td>\n",
       "      <td>-0.063382</td>\n",
       "      <td>-0.156633</td>\n",
       "      <td>-0.027319</td>\n",
       "      <td>0.070435</td>\n",
       "      <td>-0.085066</td>\n",
       "      <td>-0.012823</td>\n",
       "      <td>-0.048229</td>\n",
       "      <td>-0.075023</td>\n",
       "    </tr>\n",
       "    <tr>\n",
       "      <th>loan</th>\n",
       "      <td>-0.003907</td>\n",
       "      <td>0.046691</td>\n",
       "      <td>-0.009730</td>\n",
       "      <td>0.077234</td>\n",
       "      <td>-0.105618</td>\n",
       "      <td>0.041323</td>\n",
       "      <td>1.000000</td>\n",
       "      <td>0.011631</td>\n",
       "      <td>0.010147</td>\n",
       "      <td>0.025957</td>\n",
       "      <td>...</td>\n",
       "      <td>0.039808</td>\n",
       "      <td>-0.017234</td>\n",
       "      <td>-0.038904</td>\n",
       "      <td>-0.014861</td>\n",
       "      <td>-0.007882</td>\n",
       "      <td>0.035575</td>\n",
       "      <td>-0.058503</td>\n",
       "      <td>0.014798</td>\n",
       "      <td>-0.035961</td>\n",
       "      <td>-0.031943</td>\n",
       "    </tr>\n",
       "    <tr>\n",
       "      <th>contact</th>\n",
       "      <td>-0.042067</td>\n",
       "      <td>-0.039829</td>\n",
       "      <td>0.149344</td>\n",
       "      <td>-0.013291</td>\n",
       "      <td>0.027321</td>\n",
       "      <td>-0.173807</td>\n",
       "      <td>0.011631</td>\n",
       "      <td>1.000000</td>\n",
       "      <td>0.022262</td>\n",
       "      <td>0.168456</td>\n",
       "      <td>...</td>\n",
       "      <td>-0.003197</td>\n",
       "      <td>-0.009170</td>\n",
       "      <td>0.098973</td>\n",
       "      <td>-0.002304</td>\n",
       "      <td>0.015506</td>\n",
       "      <td>-0.033739</td>\n",
       "      <td>0.033994</td>\n",
       "      <td>0.051305</td>\n",
       "      <td>0.014837</td>\n",
       "      <td>-0.027673</td>\n",
       "    </tr>\n",
       "    <tr>\n",
       "      <th>day</th>\n",
       "      <td>-0.006681</td>\n",
       "      <td>0.004938</td>\n",
       "      <td>0.019956</td>\n",
       "      <td>0.008087</td>\n",
       "      <td>0.001242</td>\n",
       "      <td>-0.022951</td>\n",
       "      <td>0.010147</td>\n",
       "      <td>0.022262</td>\n",
       "      <td>1.000000</td>\n",
       "      <td>0.084200</td>\n",
       "      <td>...</td>\n",
       "      <td>-0.000470</td>\n",
       "      <td>0.003602</td>\n",
       "      <td>0.017078</td>\n",
       "      <td>-0.009866</td>\n",
       "      <td>0.005215</td>\n",
       "      <td>-0.005955</td>\n",
       "      <td>-0.014156</td>\n",
       "      <td>0.026889</td>\n",
       "      <td>-0.006140</td>\n",
       "      <td>-0.009470</td>\n",
       "    </tr>\n",
       "    <tr>\n",
       "      <th>month</th>\n",
       "      <td>0.084304</td>\n",
       "      <td>0.048972</td>\n",
       "      <td>0.068847</td>\n",
       "      <td>0.017822</td>\n",
       "      <td>0.036846</td>\n",
       "      <td>-0.230901</td>\n",
       "      <td>0.025957</td>\n",
       "      <td>0.168456</td>\n",
       "      <td>0.084200</td>\n",
       "      <td>1.000000</td>\n",
       "      <td>...</td>\n",
       "      <td>0.016979</td>\n",
       "      <td>0.042149</td>\n",
       "      <td>0.079617</td>\n",
       "      <td>0.030313</td>\n",
       "      <td>0.022415</td>\n",
       "      <td>-0.041366</td>\n",
       "      <td>-0.018996</td>\n",
       "      <td>0.047808</td>\n",
       "      <td>-0.031335</td>\n",
       "      <td>0.016679</td>\n",
       "    </tr>\n",
       "    <tr>\n",
       "      <th>duration</th>\n",
       "      <td>-0.022558</td>\n",
       "      <td>-0.013684</td>\n",
       "      <td>-0.003266</td>\n",
       "      <td>-0.005607</td>\n",
       "      <td>0.028577</td>\n",
       "      <td>0.004227</td>\n",
       "      <td>-0.010856</td>\n",
       "      <td>0.029540</td>\n",
       "      <td>-0.039363</td>\n",
       "      <td>-0.032444</td>\n",
       "      <td>...</td>\n",
       "      <td>-0.000956</td>\n",
       "      <td>-0.013426</td>\n",
       "      <td>-0.014987</td>\n",
       "      <td>0.029777</td>\n",
       "      <td>0.002494</td>\n",
       "      <td>0.005036</td>\n",
       "      <td>-0.000033</td>\n",
       "      <td>-0.009495</td>\n",
       "      <td>0.015412</td>\n",
       "      <td>-0.006416</td>\n",
       "    </tr>\n",
       "    <tr>\n",
       "      <th>campaign</th>\n",
       "      <td>0.028378</td>\n",
       "      <td>0.026785</td>\n",
       "      <td>0.003354</td>\n",
       "      <td>0.012643</td>\n",
       "      <td>-0.022575</td>\n",
       "      <td>-0.034554</td>\n",
       "      <td>0.001229</td>\n",
       "      <td>-0.006394</td>\n",
       "      <td>0.104367</td>\n",
       "      <td>0.084225</td>\n",
       "      <td>...</td>\n",
       "      <td>0.005283</td>\n",
       "      <td>0.013439</td>\n",
       "      <td>0.020600</td>\n",
       "      <td>-0.028834</td>\n",
       "      <td>0.004164</td>\n",
       "      <td>-0.008461</td>\n",
       "      <td>-0.024564</td>\n",
       "      <td>0.024745</td>\n",
       "      <td>-0.019897</td>\n",
       "      <td>0.008296</td>\n",
       "    </tr>\n",
       "    <tr>\n",
       "      <th>pdays</th>\n",
       "      <td>-0.013677</td>\n",
       "      <td>-0.023614</td>\n",
       "      <td>0.027115</td>\n",
       "      <td>-0.036344</td>\n",
       "      <td>0.054180</td>\n",
       "      <td>0.077341</td>\n",
       "      <td>-0.028243</td>\n",
       "      <td>0.260481</td>\n",
       "      <td>-0.072813</td>\n",
       "      <td>-0.096385</td>\n",
       "      <td>...</td>\n",
       "      <td>-0.014128</td>\n",
       "      <td>-0.026783</td>\n",
       "      <td>0.007757</td>\n",
       "      <td>0.013103</td>\n",
       "      <td>-0.004109</td>\n",
       "      <td>-0.006067</td>\n",
       "      <td>0.039873</td>\n",
       "      <td>-0.008291</td>\n",
       "      <td>-0.008937</td>\n",
       "      <td>-0.014328</td>\n",
       "    </tr>\n",
       "    <tr>\n",
       "      <th>previous</th>\n",
       "      <td>-0.009494</td>\n",
       "      <td>-0.023891</td>\n",
       "      <td>0.035536</td>\n",
       "      <td>-0.037936</td>\n",
       "      <td>0.062893</td>\n",
       "      <td>0.059872</td>\n",
       "      <td>-0.029675</td>\n",
       "      <td>0.262314</td>\n",
       "      <td>-0.070460</td>\n",
       "      <td>-0.090102</td>\n",
       "      <td>...</td>\n",
       "      <td>-0.014103</td>\n",
       "      <td>-0.024986</td>\n",
       "      <td>0.014718</td>\n",
       "      <td>0.018817</td>\n",
       "      <td>-0.001786</td>\n",
       "      <td>-0.010362</td>\n",
       "      <td>0.043739</td>\n",
       "      <td>-0.006125</td>\n",
       "      <td>-0.008941</td>\n",
       "      <td>-0.013432</td>\n",
       "    </tr>\n",
       "    <tr>\n",
       "      <th>poutcome</th>\n",
       "      <td>-0.008401</td>\n",
       "      <td>-0.024785</td>\n",
       "      <td>0.037546</td>\n",
       "      <td>-0.039007</td>\n",
       "      <td>0.065987</td>\n",
       "      <td>0.053503</td>\n",
       "      <td>-0.033448</td>\n",
       "      <td>0.267307</td>\n",
       "      <td>-0.071219</td>\n",
       "      <td>-0.088300</td>\n",
       "      <td>...</td>\n",
       "      <td>-0.014782</td>\n",
       "      <td>-0.024819</td>\n",
       "      <td>0.014648</td>\n",
       "      <td>0.022821</td>\n",
       "      <td>-0.001952</td>\n",
       "      <td>-0.011804</td>\n",
       "      <td>0.045250</td>\n",
       "      <td>-0.006788</td>\n",
       "      <td>-0.006545</td>\n",
       "      <td>-0.012611</td>\n",
       "    </tr>\n",
       "    <tr>\n",
       "      <th>y</th>\n",
       "      <td>-0.007243</td>\n",
       "      <td>-0.047310</td>\n",
       "      <td>0.057267</td>\n",
       "      <td>-0.022419</td>\n",
       "      <td>0.082138</td>\n",
       "      <td>-0.139173</td>\n",
       "      <td>-0.068185</td>\n",
       "      <td>0.141518</td>\n",
       "      <td>-0.024566</td>\n",
       "      <td>0.010886</td>\n",
       "      <td>...</td>\n",
       "      <td>-0.019662</td>\n",
       "      <td>-0.015195</td>\n",
       "      <td>0.032919</td>\n",
       "      <td>0.079245</td>\n",
       "      <td>0.000855</td>\n",
       "      <td>-0.027864</td>\n",
       "      <td>0.076897</td>\n",
       "      <td>-0.008970</td>\n",
       "      <td>0.020390</td>\n",
       "      <td>0.000267</td>\n",
       "    </tr>\n",
       "    <tr>\n",
       "      <th>job_\"admin.\"</th>\n",
       "      <td>-0.040632</td>\n",
       "      <td>-0.016498</td>\n",
       "      <td>-0.043376</td>\n",
       "      <td>-0.010037</td>\n",
       "      <td>-0.020256</td>\n",
       "      <td>0.043046</td>\n",
       "      <td>0.030781</td>\n",
       "      <td>-0.001463</td>\n",
       "      <td>-0.009584</td>\n",
       "      <td>-0.038216</td>\n",
       "      <td>...</td>\n",
       "      <td>-0.066273</td>\n",
       "      <td>-0.060349</td>\n",
       "      <td>-0.184835</td>\n",
       "      <td>-0.082511</td>\n",
       "      <td>-0.068364</td>\n",
       "      <td>-0.114309</td>\n",
       "      <td>-0.052308</td>\n",
       "      <td>-0.161505</td>\n",
       "      <td>-0.061907</td>\n",
       "      <td>-0.028774</td>\n",
       "    </tr>\n",
       "    <tr>\n",
       "      <th>job_\"blue-collar\"</th>\n",
       "      <td>-0.018833</td>\n",
       "      <td>0.040031</td>\n",
       "      <td>-0.361430</td>\n",
       "      <td>0.010341</td>\n",
       "      <td>-0.037990</td>\n",
       "      <td>0.177475</td>\n",
       "      <td>0.018291</td>\n",
       "      <td>-0.132918</td>\n",
       "      <td>-0.018836</td>\n",
       "      <td>-0.097718</td>\n",
       "      <td>...</td>\n",
       "      <td>-0.096585</td>\n",
       "      <td>-0.087951</td>\n",
       "      <td>-0.269376</td>\n",
       "      <td>-0.120251</td>\n",
       "      <td>-0.099633</td>\n",
       "      <td>-0.166592</td>\n",
       "      <td>-0.076234</td>\n",
       "      <td>-0.235376</td>\n",
       "      <td>-0.090223</td>\n",
       "      <td>-0.041935</td>\n",
       "    </tr>\n",
       "    <tr>\n",
       "      <th>job_\"entrepreneur\"</th>\n",
       "      <td>0.026350</td>\n",
       "      <td>0.039740</td>\n",
       "      <td>0.047904</td>\n",
       "      <td>0.026281</td>\n",
       "      <td>-0.008734</td>\n",
       "      <td>0.010600</td>\n",
       "      <td>0.039808</td>\n",
       "      <td>-0.003197</td>\n",
       "      <td>-0.000470</td>\n",
       "      <td>0.016979</td>\n",
       "      <td>...</td>\n",
       "      <td>1.000000</td>\n",
       "      <td>-0.030969</td>\n",
       "      <td>-0.094850</td>\n",
       "      <td>-0.042342</td>\n",
       "      <td>-0.035082</td>\n",
       "      <td>-0.058659</td>\n",
       "      <td>-0.026843</td>\n",
       "      <td>-0.082878</td>\n",
       "      <td>-0.031768</td>\n",
       "      <td>-0.014766</td>\n",
       "    </tr>\n",
       "    <tr>\n",
       "      <th>job_\"housemaid\"</th>\n",
       "      <td>0.073169</td>\n",
       "      <td>0.055163</td>\n",
       "      <td>-0.106959</td>\n",
       "      <td>-0.000359</td>\n",
       "      <td>-0.000650</td>\n",
       "      <td>-0.079380</td>\n",
       "      <td>-0.017234</td>\n",
       "      <td>-0.009170</td>\n",
       "      <td>0.003602</td>\n",
       "      <td>0.042149</td>\n",
       "      <td>...</td>\n",
       "      <td>-0.030969</td>\n",
       "      <td>1.000000</td>\n",
       "      <td>-0.086372</td>\n",
       "      <td>-0.038557</td>\n",
       "      <td>-0.031946</td>\n",
       "      <td>-0.053416</td>\n",
       "      <td>-0.024443</td>\n",
       "      <td>-0.075470</td>\n",
       "      <td>-0.028929</td>\n",
       "      <td>-0.013446</td>\n",
       "    </tr>\n",
       "    <tr>\n",
       "      <th>job_\"management\"</th>\n",
       "      <td>-0.009932</td>\n",
       "      <td>-0.023405</td>\n",
       "      <td>0.479879</td>\n",
       "      <td>-0.002655</td>\n",
       "      <td>0.051741</td>\n",
       "      <td>-0.063382</td>\n",
       "      <td>-0.038904</td>\n",
       "      <td>0.098973</td>\n",
       "      <td>0.017078</td>\n",
       "      <td>0.079617</td>\n",
       "      <td>...</td>\n",
       "      <td>-0.094850</td>\n",
       "      <td>-0.086372</td>\n",
       "      <td>1.000000</td>\n",
       "      <td>-0.118091</td>\n",
       "      <td>-0.097843</td>\n",
       "      <td>-0.163600</td>\n",
       "      <td>-0.074864</td>\n",
       "      <td>-0.231148</td>\n",
       "      <td>-0.088602</td>\n",
       "      <td>-0.041182</td>\n",
       "    </tr>\n",
       "    <tr>\n",
       "      <th>job_\"retired\"</th>\n",
       "      <td>0.280986</td>\n",
       "      <td>0.114479</td>\n",
       "      <td>-0.102459</td>\n",
       "      <td>-0.011290</td>\n",
       "      <td>0.048887</td>\n",
       "      <td>-0.156633</td>\n",
       "      <td>-0.014861</td>\n",
       "      <td>-0.002304</td>\n",
       "      <td>-0.009866</td>\n",
       "      <td>0.030313</td>\n",
       "      <td>...</td>\n",
       "      <td>-0.042342</td>\n",
       "      <td>-0.038557</td>\n",
       "      <td>-0.118091</td>\n",
       "      <td>1.000000</td>\n",
       "      <td>-0.043678</td>\n",
       "      <td>-0.073032</td>\n",
       "      <td>-0.033420</td>\n",
       "      <td>-0.103185</td>\n",
       "      <td>-0.039552</td>\n",
       "      <td>-0.018384</td>\n",
       "    </tr>\n",
       "    <tr>\n",
       "      <th>job_\"self-employed\"</th>\n",
       "      <td>-0.003545</td>\n",
       "      <td>-0.006790</td>\n",
       "      <td>0.084517</td>\n",
       "      <td>0.004107</td>\n",
       "      <td>0.014199</td>\n",
       "      <td>-0.027319</td>\n",
       "      <td>-0.007882</td>\n",
       "      <td>0.015506</td>\n",
       "      <td>0.005215</td>\n",
       "      <td>0.022415</td>\n",
       "      <td>...</td>\n",
       "      <td>-0.035082</td>\n",
       "      <td>-0.031946</td>\n",
       "      <td>-0.097843</td>\n",
       "      <td>-0.043678</td>\n",
       "      <td>1.000000</td>\n",
       "      <td>-0.060510</td>\n",
       "      <td>-0.027690</td>\n",
       "      <td>-0.085494</td>\n",
       "      <td>-0.032771</td>\n",
       "      <td>-0.015232</td>\n",
       "    </tr>\n",
       "    <tr>\n",
       "      <th>job_\"services\"</th>\n",
       "      <td>-0.048831</td>\n",
       "      <td>0.004461</td>\n",
       "      <td>-0.084465</td>\n",
       "      <td>0.000068</td>\n",
       "      <td>-0.039589</td>\n",
       "      <td>0.070435</td>\n",
       "      <td>0.035575</td>\n",
       "      <td>-0.033739</td>\n",
       "      <td>-0.005955</td>\n",
       "      <td>-0.041366</td>\n",
       "      <td>...</td>\n",
       "      <td>-0.058659</td>\n",
       "      <td>-0.053416</td>\n",
       "      <td>-0.163600</td>\n",
       "      <td>-0.073032</td>\n",
       "      <td>-0.060510</td>\n",
       "      <td>1.000000</td>\n",
       "      <td>-0.046299</td>\n",
       "      <td>-0.142951</td>\n",
       "      <td>-0.054795</td>\n",
       "      <td>-0.025468</td>\n",
       "    </tr>\n",
       "    <tr>\n",
       "      <th>job_\"student\"</th>\n",
       "      <td>-0.171681</td>\n",
       "      <td>-0.182997</td>\n",
       "      <td>-0.023375</td>\n",
       "      <td>-0.016222</td>\n",
       "      <td>0.016532</td>\n",
       "      <td>-0.085066</td>\n",
       "      <td>-0.058503</td>\n",
       "      <td>0.033994</td>\n",
       "      <td>-0.014156</td>\n",
       "      <td>-0.018996</td>\n",
       "      <td>...</td>\n",
       "      <td>-0.026843</td>\n",
       "      <td>-0.024443</td>\n",
       "      <td>-0.074864</td>\n",
       "      <td>-0.033420</td>\n",
       "      <td>-0.027690</td>\n",
       "      <td>-0.046299</td>\n",
       "      <td>1.000000</td>\n",
       "      <td>-0.065415</td>\n",
       "      <td>-0.025075</td>\n",
       "      <td>-0.011655</td>\n",
       "    </tr>\n",
       "    <tr>\n",
       "      <th>job_\"technician\"</th>\n",
       "      <td>-0.047986</td>\n",
       "      <td>-0.043170</td>\n",
       "      <td>0.053387</td>\n",
       "      <td>-0.003089</td>\n",
       "      <td>-0.012831</td>\n",
       "      <td>-0.012823</td>\n",
       "      <td>0.014798</td>\n",
       "      <td>0.051305</td>\n",
       "      <td>0.026889</td>\n",
       "      <td>0.047808</td>\n",
       "      <td>...</td>\n",
       "      <td>-0.082878</td>\n",
       "      <td>-0.075470</td>\n",
       "      <td>-0.231148</td>\n",
       "      <td>-0.103185</td>\n",
       "      <td>-0.085494</td>\n",
       "      <td>-0.142951</td>\n",
       "      <td>-0.065415</td>\n",
       "      <td>1.000000</td>\n",
       "      <td>-0.077419</td>\n",
       "      <td>-0.035984</td>\n",
       "    </tr>\n",
       "    <tr>\n",
       "      <th>job_\"unemployed\"</th>\n",
       "      <td>0.004252</td>\n",
       "      <td>-0.003458</td>\n",
       "      <td>-0.022397</td>\n",
       "      <td>0.006470</td>\n",
       "      <td>0.012009</td>\n",
       "      <td>-0.048229</td>\n",
       "      <td>-0.035961</td>\n",
       "      <td>0.014837</td>\n",
       "      <td>-0.006140</td>\n",
       "      <td>-0.031335</td>\n",
       "      <td>...</td>\n",
       "      <td>-0.031768</td>\n",
       "      <td>-0.028929</td>\n",
       "      <td>-0.088602</td>\n",
       "      <td>-0.039552</td>\n",
       "      <td>-0.032771</td>\n",
       "      <td>-0.054795</td>\n",
       "      <td>-0.025075</td>\n",
       "      <td>-0.077419</td>\n",
       "      <td>1.000000</td>\n",
       "      <td>-0.013793</td>\n",
       "    </tr>\n",
       "    <tr>\n",
       "      <th>job_\"unknown\"</th>\n",
       "      <td>0.040665</td>\n",
       "      <td>0.000174</td>\n",
       "      <td>-0.069877</td>\n",
       "      <td>-0.006669</td>\n",
       "      <td>0.016066</td>\n",
       "      <td>-0.075023</td>\n",
       "      <td>-0.031943</td>\n",
       "      <td>-0.027673</td>\n",
       "      <td>-0.009470</td>\n",
       "      <td>0.016679</td>\n",
       "      <td>...</td>\n",
       "      <td>-0.014766</td>\n",
       "      <td>-0.013446</td>\n",
       "      <td>-0.041182</td>\n",
       "      <td>-0.018384</td>\n",
       "      <td>-0.015232</td>\n",
       "      <td>-0.025468</td>\n",
       "      <td>-0.011655</td>\n",
       "      <td>-0.035984</td>\n",
       "      <td>-0.013793</td>\n",
       "      <td>1.000000</td>\n",
       "    </tr>\n",
       "  </tbody>\n",
       "</table>\n",
       "<p>28 rows × 28 columns</p>\n",
       "</div>"
      ],
      "text/plain": [
       "                          age   marital  education   default   balance  \\\n",
       "age                  1.000000  0.354624  -0.129618 -0.012156  0.065242   \n",
       "marital              0.354624  1.000000  -0.102885  0.005420 -0.015796   \n",
       "education           -0.129618 -0.102885   1.000000 -0.010342  0.045667   \n",
       "default             -0.012156  0.005420  -0.010342  1.000000 -0.137371   \n",
       "balance              0.065242 -0.015796   0.045667 -0.137371  1.000000   \n",
       "housing             -0.127814  0.016421  -0.055316 -0.006025 -0.055928   \n",
       "loan                -0.003907  0.046691  -0.009730  0.077234 -0.105618   \n",
       "contact             -0.042067 -0.039829   0.149344 -0.013291  0.027321   \n",
       "day                 -0.006681  0.004938   0.019956  0.008087  0.001242   \n",
       "month                0.084304  0.048972   0.068847  0.017822  0.036846   \n",
       "duration            -0.022558 -0.013684  -0.003266 -0.005607  0.028577   \n",
       "campaign             0.028378  0.026785   0.003354  0.012643 -0.022575   \n",
       "pdays               -0.013677 -0.023614   0.027115 -0.036344  0.054180   \n",
       "previous            -0.009494 -0.023891   0.035536 -0.037936  0.062893   \n",
       "poutcome            -0.008401 -0.024785   0.037546 -0.039007  0.065987   \n",
       "y                   -0.007243 -0.047310   0.057267 -0.022419  0.082138   \n",
       "job_\"admin.\"        -0.040632 -0.016498  -0.043376 -0.010037 -0.020256   \n",
       "job_\"blue-collar\"   -0.018833  0.040031  -0.361430  0.010341 -0.037990   \n",
       "job_\"entrepreneur\"   0.026350  0.039740   0.047904  0.026281 -0.008734   \n",
       "job_\"housemaid\"      0.073169  0.055163  -0.106959 -0.000359 -0.000650   \n",
       "job_\"management\"    -0.009932 -0.023405   0.479879 -0.002655  0.051741   \n",
       "job_\"retired\"        0.280986  0.114479  -0.102459 -0.011290  0.048887   \n",
       "job_\"self-employed\" -0.003545 -0.006790   0.084517  0.004107  0.014199   \n",
       "job_\"services\"      -0.048831  0.004461  -0.084465  0.000068 -0.039589   \n",
       "job_\"student\"       -0.171681 -0.182997  -0.023375 -0.016222  0.016532   \n",
       "job_\"technician\"    -0.047986 -0.043170   0.053387 -0.003089 -0.012831   \n",
       "job_\"unemployed\"     0.004252 -0.003458  -0.022397  0.006470  0.012009   \n",
       "job_\"unknown\"        0.040665  0.000174  -0.069877 -0.006669  0.016066   \n",
       "\n",
       "                      housing      loan   contact       day     month  ...  \\\n",
       "age                 -0.127814 -0.003907 -0.042067 -0.006681  0.084304  ...   \n",
       "marital              0.016421  0.046691 -0.039829  0.004938  0.048972  ...   \n",
       "education           -0.055316 -0.009730  0.149344  0.019956  0.068847  ...   \n",
       "default             -0.006025  0.077234 -0.013291  0.008087  0.017822  ...   \n",
       "balance             -0.055928 -0.105618  0.027321  0.001242  0.036846  ...   \n",
       "housing              1.000000  0.041323 -0.173807 -0.022951 -0.230901  ...   \n",
       "loan                 0.041323  1.000000  0.011631  0.010147  0.025957  ...   \n",
       "contact             -0.173807  0.011631  1.000000  0.022262  0.168456  ...   \n",
       "day                 -0.022951  0.010147  0.022262  1.000000  0.084200  ...   \n",
       "month               -0.230901  0.025957  0.168456  0.084200  1.000000  ...   \n",
       "duration             0.004227 -0.010856  0.029540 -0.039363 -0.032444  ...   \n",
       "campaign            -0.034554  0.001229 -0.006394  0.104367  0.084225  ...   \n",
       "pdays                0.077341 -0.028243  0.260481 -0.072813 -0.096385  ...   \n",
       "previous             0.059872 -0.029675  0.262314 -0.070460 -0.090102  ...   \n",
       "poutcome             0.053503 -0.033448  0.267307 -0.071219 -0.088300  ...   \n",
       "y                   -0.139173 -0.068185  0.141518 -0.024566  0.010886  ...   \n",
       "job_\"admin.\"         0.043046  0.030781 -0.001463 -0.009584 -0.038216  ...   \n",
       "job_\"blue-collar\"    0.177475  0.018291 -0.132918 -0.018836 -0.097718  ...   \n",
       "job_\"entrepreneur\"   0.010600  0.039808 -0.003197 -0.000470  0.016979  ...   \n",
       "job_\"housemaid\"     -0.079380 -0.017234 -0.009170  0.003602  0.042149  ...   \n",
       "job_\"management\"    -0.063382 -0.038904  0.098973  0.017078  0.079617  ...   \n",
       "job_\"retired\"       -0.156633 -0.014861 -0.002304 -0.009866  0.030313  ...   \n",
       "job_\"self-employed\" -0.027319 -0.007882  0.015506  0.005215  0.022415  ...   \n",
       "job_\"services\"       0.070435  0.035575 -0.033739 -0.005955 -0.041366  ...   \n",
       "job_\"student\"       -0.085066 -0.058503  0.033994 -0.014156 -0.018996  ...   \n",
       "job_\"technician\"    -0.012823  0.014798  0.051305  0.026889  0.047808  ...   \n",
       "job_\"unemployed\"    -0.048229 -0.035961  0.014837 -0.006140 -0.031335  ...   \n",
       "job_\"unknown\"       -0.075023 -0.031943 -0.027673 -0.009470  0.016679  ...   \n",
       "\n",
       "                     job_\"entrepreneur\"  job_\"housemaid\"  job_\"management\"  \\\n",
       "age                            0.026350         0.073169         -0.009932   \n",
       "marital                        0.039740         0.055163         -0.023405   \n",
       "education                      0.047904        -0.106959          0.479879   \n",
       "default                        0.026281        -0.000359         -0.002655   \n",
       "balance                       -0.008734        -0.000650          0.051741   \n",
       "housing                        0.010600        -0.079380         -0.063382   \n",
       "loan                           0.039808        -0.017234         -0.038904   \n",
       "contact                       -0.003197        -0.009170          0.098973   \n",
       "day                           -0.000470         0.003602          0.017078   \n",
       "month                          0.016979         0.042149          0.079617   \n",
       "duration                      -0.000956        -0.013426         -0.014987   \n",
       "campaign                       0.005283         0.013439          0.020600   \n",
       "pdays                         -0.014128        -0.026783          0.007757   \n",
       "previous                      -0.014103        -0.024986          0.014718   \n",
       "poutcome                      -0.014782        -0.024819          0.014648   \n",
       "y                             -0.019662        -0.015195          0.032919   \n",
       "job_\"admin.\"                  -0.066273        -0.060349         -0.184835   \n",
       "job_\"blue-collar\"             -0.096585        -0.087951         -0.269376   \n",
       "job_\"entrepreneur\"             1.000000        -0.030969         -0.094850   \n",
       "job_\"housemaid\"               -0.030969         1.000000         -0.086372   \n",
       "job_\"management\"              -0.094850        -0.086372          1.000000   \n",
       "job_\"retired\"                 -0.042342        -0.038557         -0.118091   \n",
       "job_\"self-employed\"           -0.035082        -0.031946         -0.097843   \n",
       "job_\"services\"                -0.058659        -0.053416         -0.163600   \n",
       "job_\"student\"                 -0.026843        -0.024443         -0.074864   \n",
       "job_\"technician\"              -0.082878        -0.075470         -0.231148   \n",
       "job_\"unemployed\"              -0.031768        -0.028929         -0.088602   \n",
       "job_\"unknown\"                 -0.014766        -0.013446         -0.041182   \n",
       "\n",
       "                     job_\"retired\"  job_\"self-employed\"  job_\"services\"  \\\n",
       "age                       0.280986            -0.003545       -0.048831   \n",
       "marital                   0.114479            -0.006790        0.004461   \n",
       "education                -0.102459             0.084517       -0.084465   \n",
       "default                  -0.011290             0.004107        0.000068   \n",
       "balance                   0.048887             0.014199       -0.039589   \n",
       "housing                  -0.156633            -0.027319        0.070435   \n",
       "loan                     -0.014861            -0.007882        0.035575   \n",
       "contact                  -0.002304             0.015506       -0.033739   \n",
       "day                      -0.009866             0.005215       -0.005955   \n",
       "month                     0.030313             0.022415       -0.041366   \n",
       "duration                  0.029777             0.002494        0.005036   \n",
       "campaign                 -0.028834             0.004164       -0.008461   \n",
       "pdays                     0.013103            -0.004109       -0.006067   \n",
       "previous                  0.018817            -0.001786       -0.010362   \n",
       "poutcome                  0.022821            -0.001952       -0.011804   \n",
       "y                         0.079245             0.000855       -0.027864   \n",
       "job_\"admin.\"             -0.082511            -0.068364       -0.114309   \n",
       "job_\"blue-collar\"        -0.120251            -0.099633       -0.166592   \n",
       "job_\"entrepreneur\"       -0.042342            -0.035082       -0.058659   \n",
       "job_\"housemaid\"          -0.038557            -0.031946       -0.053416   \n",
       "job_\"management\"         -0.118091            -0.097843       -0.163600   \n",
       "job_\"retired\"             1.000000            -0.043678       -0.073032   \n",
       "job_\"self-employed\"      -0.043678             1.000000       -0.060510   \n",
       "job_\"services\"           -0.073032            -0.060510        1.000000   \n",
       "job_\"student\"            -0.033420            -0.027690       -0.046299   \n",
       "job_\"technician\"         -0.103185            -0.085494       -0.142951   \n",
       "job_\"unemployed\"         -0.039552            -0.032771       -0.054795   \n",
       "job_\"unknown\"            -0.018384            -0.015232       -0.025468   \n",
       "\n",
       "                     job_\"student\"  job_\"technician\"  job_\"unemployed\"  \\\n",
       "age                      -0.171681         -0.047986          0.004252   \n",
       "marital                  -0.182997         -0.043170         -0.003458   \n",
       "education                -0.023375          0.053387         -0.022397   \n",
       "default                  -0.016222         -0.003089          0.006470   \n",
       "balance                   0.016532         -0.012831          0.012009   \n",
       "housing                  -0.085066         -0.012823         -0.048229   \n",
       "loan                     -0.058503          0.014798         -0.035961   \n",
       "contact                   0.033994          0.051305          0.014837   \n",
       "day                      -0.014156          0.026889         -0.006140   \n",
       "month                    -0.018996          0.047808         -0.031335   \n",
       "duration                 -0.000033         -0.009495          0.015412   \n",
       "campaign                 -0.024564          0.024745         -0.019897   \n",
       "pdays                     0.039873         -0.008291         -0.008937   \n",
       "previous                  0.043739         -0.006125         -0.008941   \n",
       "poutcome                  0.045250         -0.006788         -0.006545   \n",
       "y                         0.076897         -0.008970          0.020390   \n",
       "job_\"admin.\"             -0.052308         -0.161505         -0.061907   \n",
       "job_\"blue-collar\"        -0.076234         -0.235376         -0.090223   \n",
       "job_\"entrepreneur\"       -0.026843         -0.082878         -0.031768   \n",
       "job_\"housemaid\"          -0.024443         -0.075470         -0.028929   \n",
       "job_\"management\"         -0.074864         -0.231148         -0.088602   \n",
       "job_\"retired\"            -0.033420         -0.103185         -0.039552   \n",
       "job_\"self-employed\"      -0.027690         -0.085494         -0.032771   \n",
       "job_\"services\"           -0.046299         -0.142951         -0.054795   \n",
       "job_\"student\"             1.000000         -0.065415         -0.025075   \n",
       "job_\"technician\"         -0.065415          1.000000         -0.077419   \n",
       "job_\"unemployed\"         -0.025075         -0.077419          1.000000   \n",
       "job_\"unknown\"            -0.011655         -0.035984         -0.013793   \n",
       "\n",
       "                     job_\"unknown\"  \n",
       "age                       0.040665  \n",
       "marital                   0.000174  \n",
       "education                -0.069877  \n",
       "default                  -0.006669  \n",
       "balance                   0.016066  \n",
       "housing                  -0.075023  \n",
       "loan                     -0.031943  \n",
       "contact                  -0.027673  \n",
       "day                      -0.009470  \n",
       "month                     0.016679  \n",
       "duration                 -0.006416  \n",
       "campaign                  0.008296  \n",
       "pdays                    -0.014328  \n",
       "previous                 -0.013432  \n",
       "poutcome                 -0.012611  \n",
       "y                         0.000267  \n",
       "job_\"admin.\"             -0.028774  \n",
       "job_\"blue-collar\"        -0.041935  \n",
       "job_\"entrepreneur\"       -0.014766  \n",
       "job_\"housemaid\"          -0.013446  \n",
       "job_\"management\"         -0.041182  \n",
       "job_\"retired\"            -0.018384  \n",
       "job_\"self-employed\"      -0.015232  \n",
       "job_\"services\"           -0.025468  \n",
       "job_\"student\"            -0.011655  \n",
       "job_\"technician\"         -0.035984  \n",
       "job_\"unemployed\"         -0.013793  \n",
       "job_\"unknown\"             1.000000  \n",
       "\n",
       "[28 rows x 28 columns]"
      ]
     },
     "execution_count": 93,
     "metadata": {},
     "output_type": "execute_result"
    }
   ],
   "source": [
    "df.corr(method = 'kendall') # correlation"
   ]
  },
  {
   "cell_type": "markdown",
   "id": "62068c59",
   "metadata": {},
   "source": [
    "# model selection"
   ]
  },
  {
   "cell_type": "code",
   "execution_count": 94,
   "id": "45fd68d2",
   "metadata": {},
   "outputs": [],
   "source": [
    "from sklearn.linear_model import LogisticRegression  # parametric alogrithm\n",
    "from sklearn.neighbors import KNeighborsClassifier   # distance based ,non parametric algorithm\n",
    "from sklearn.tree import DecisionTreeClassifier      # tree based algorithm\n",
    "from sklearn.ensemble import RandomForestClassifier\n",
    "from sklearn.ensemble import AdaBoostClassifier\n",
    "from sklearn.naive_bayes import GaussianNB           # \n",
    "from sklearn.svm import SVC"
   ]
  },
  {
   "cell_type": "markdown",
   "id": "ff9fef1e",
   "metadata": {},
   "source": [
    "# model splitting"
   ]
  },
  {
   "cell_type": "code",
   "execution_count": 95,
   "id": "0fa70d94",
   "metadata": {},
   "outputs": [],
   "source": [
    "x=df.drop(\"y\",axis=1)\n",
    "y=df[\"y\"]"
   ]
  },
  {
   "cell_type": "markdown",
   "id": "04547541",
   "metadata": {},
   "source": [
    "# feature scaling"
   ]
  },
  {
   "cell_type": "raw",
   "id": "c108beac",
   "metadata": {},
   "source": [
    "there are four types of feature scaling\n",
    "\n",
    "1. Normaliazation\n",
    "2. Standardization\n",
    "3. Robust Scaler\n",
    "4. power transforamtion"
   ]
  },
  {
   "cell_type": "code",
   "execution_count": 96,
   "id": "30b9d76d",
   "metadata": {},
   "outputs": [
    {
     "data": {
      "text/plain": [
       "array([[ 1.64811715,  0.27576178,  1.20648448, ..., -0.4494137 ,\n",
       "        -0.17226632, -0.08006853],\n",
       "       [ 0.30128731, -1.3683719 , -0.07771493, ...,  2.22512133,\n",
       "        -0.17226632, -0.08006853],\n",
       "       [-0.75693615,  0.27576178, -0.07771493, ..., -0.4494137 ,\n",
       "        -0.17226632, -0.08006853],\n",
       "       ...,\n",
       "       [ 2.8506438 ,  0.27576178, -0.07771493, ..., -0.4494137 ,\n",
       "        -0.17226632, -0.08006853],\n",
       "       [ 1.55191502,  0.27576178, -0.07771493, ..., -0.4494137 ,\n",
       "        -0.17226632, -0.08006853],\n",
       "       [-0.37212762,  0.27576178, -0.07771493, ..., -0.4494137 ,\n",
       "        -0.17226632, -0.08006853]])"
      ]
     },
     "execution_count": 96,
     "metadata": {},
     "output_type": "execute_result"
    }
   ],
   "source": [
    "# we use standardization is here bcoz of its robust to outliers\n",
    "\n",
    "std=StandardScaler()\n",
    "std_d=std.fit_transform(x)\n",
    "std_d"
   ]
  },
  {
   "cell_type": "code",
   "execution_count": 97,
   "id": "70dc88fa",
   "metadata": {},
   "outputs": [
    {
     "data": {
      "text/html": [
       "<div>\n",
       "<style scoped>\n",
       "    .dataframe tbody tr th:only-of-type {\n",
       "        vertical-align: middle;\n",
       "    }\n",
       "\n",
       "    .dataframe tbody tr th {\n",
       "        vertical-align: top;\n",
       "    }\n",
       "\n",
       "    .dataframe thead th {\n",
       "        text-align: right;\n",
       "    }\n",
       "</style>\n",
       "<table border=\"1\" class=\"dataframe\">\n",
       "  <thead>\n",
       "    <tr style=\"text-align: right;\">\n",
       "      <th></th>\n",
       "      <th>age</th>\n",
       "      <th>marital</th>\n",
       "      <th>education</th>\n",
       "      <th>default</th>\n",
       "      <th>balance</th>\n",
       "      <th>housing</th>\n",
       "      <th>loan</th>\n",
       "      <th>contact</th>\n",
       "      <th>day</th>\n",
       "      <th>month</th>\n",
       "      <th>...</th>\n",
       "      <th>job_\"entrepreneur\"</th>\n",
       "      <th>job_\"housemaid\"</th>\n",
       "      <th>job_\"management\"</th>\n",
       "      <th>job_\"retired\"</th>\n",
       "      <th>job_\"self-employed\"</th>\n",
       "      <th>job_\"services\"</th>\n",
       "      <th>job_\"student\"</th>\n",
       "      <th>job_\"technician\"</th>\n",
       "      <th>job_\"unemployed\"</th>\n",
       "      <th>job_\"unknown\"</th>\n",
       "    </tr>\n",
       "  </thead>\n",
       "  <tbody>\n",
       "    <tr>\n",
       "      <th>0</th>\n",
       "      <td>1.648117</td>\n",
       "      <td>0.275762</td>\n",
       "      <td>1.206484</td>\n",
       "      <td>-0.13549</td>\n",
       "      <td>0.825528</td>\n",
       "      <td>0.893915</td>\n",
       "      <td>-0.436803</td>\n",
       "      <td>-1.514306</td>\n",
       "      <td>-1.298476</td>\n",
       "      <td>-0.475354</td>\n",
       "      <td>...</td>\n",
       "      <td>-0.184415</td>\n",
       "      <td>-0.16793</td>\n",
       "      <td>1.944270</td>\n",
       "      <td>-0.229600</td>\n",
       "      <td>-0.190234</td>\n",
       "      <td>-0.318082</td>\n",
       "      <td>-0.145557</td>\n",
       "      <td>-0.449414</td>\n",
       "      <td>-0.172266</td>\n",
       "      <td>-0.080069</td>\n",
       "    </tr>\n",
       "    <tr>\n",
       "      <th>1</th>\n",
       "      <td>0.301287</td>\n",
       "      <td>-1.368372</td>\n",
       "      <td>-0.077715</td>\n",
       "      <td>-0.13549</td>\n",
       "      <td>-0.665625</td>\n",
       "      <td>0.893915</td>\n",
       "      <td>-0.436803</td>\n",
       "      <td>-1.514306</td>\n",
       "      <td>-1.298476</td>\n",
       "      <td>-0.475354</td>\n",
       "      <td>...</td>\n",
       "      <td>-0.184415</td>\n",
       "      <td>-0.16793</td>\n",
       "      <td>-0.514332</td>\n",
       "      <td>-0.229600</td>\n",
       "      <td>-0.190234</td>\n",
       "      <td>-0.318082</td>\n",
       "      <td>-0.145557</td>\n",
       "      <td>2.225121</td>\n",
       "      <td>-0.172266</td>\n",
       "      <td>-0.080069</td>\n",
       "    </tr>\n",
       "    <tr>\n",
       "      <th>2</th>\n",
       "      <td>-0.756936</td>\n",
       "      <td>0.275762</td>\n",
       "      <td>-0.077715</td>\n",
       "      <td>-0.13549</td>\n",
       "      <td>-0.940826</td>\n",
       "      <td>0.893915</td>\n",
       "      <td>2.289359</td>\n",
       "      <td>-1.514306</td>\n",
       "      <td>-1.298476</td>\n",
       "      <td>-0.475354</td>\n",
       "      <td>...</td>\n",
       "      <td>5.422561</td>\n",
       "      <td>-0.16793</td>\n",
       "      <td>-0.514332</td>\n",
       "      <td>-0.229600</td>\n",
       "      <td>-0.190234</td>\n",
       "      <td>-0.318082</td>\n",
       "      <td>-0.145557</td>\n",
       "      <td>-0.449414</td>\n",
       "      <td>-0.172266</td>\n",
       "      <td>-0.080069</td>\n",
       "    </tr>\n",
       "    <tr>\n",
       "      <th>3</th>\n",
       "      <td>0.589894</td>\n",
       "      <td>0.275762</td>\n",
       "      <td>-2.646114</td>\n",
       "      <td>-0.13549</td>\n",
       "      <td>0.608357</td>\n",
       "      <td>0.893915</td>\n",
       "      <td>-0.436803</td>\n",
       "      <td>-1.514306</td>\n",
       "      <td>-1.298476</td>\n",
       "      <td>-0.475354</td>\n",
       "      <td>...</td>\n",
       "      <td>-0.184415</td>\n",
       "      <td>-0.16793</td>\n",
       "      <td>-0.514332</td>\n",
       "      <td>-0.229600</td>\n",
       "      <td>-0.190234</td>\n",
       "      <td>-0.318082</td>\n",
       "      <td>-0.145557</td>\n",
       "      <td>-0.449414</td>\n",
       "      <td>-0.172266</td>\n",
       "      <td>-0.080069</td>\n",
       "    </tr>\n",
       "    <tr>\n",
       "      <th>4</th>\n",
       "      <td>-0.756936</td>\n",
       "      <td>-1.368372</td>\n",
       "      <td>-2.646114</td>\n",
       "      <td>-0.13549</td>\n",
       "      <td>-0.980294</td>\n",
       "      <td>-1.118674</td>\n",
       "      <td>-0.436803</td>\n",
       "      <td>-1.514306</td>\n",
       "      <td>-1.298476</td>\n",
       "      <td>-0.475354</td>\n",
       "      <td>...</td>\n",
       "      <td>-0.184415</td>\n",
       "      <td>-0.16793</td>\n",
       "      <td>-0.514332</td>\n",
       "      <td>-0.229600</td>\n",
       "      <td>-0.190234</td>\n",
       "      <td>-0.318082</td>\n",
       "      <td>-0.145557</td>\n",
       "      <td>-0.449414</td>\n",
       "      <td>-0.172266</td>\n",
       "      <td>12.489301</td>\n",
       "    </tr>\n",
       "    <tr>\n",
       "      <th>...</th>\n",
       "      <td>...</td>\n",
       "      <td>...</td>\n",
       "      <td>...</td>\n",
       "      <td>...</td>\n",
       "      <td>...</td>\n",
       "      <td>...</td>\n",
       "      <td>...</td>\n",
       "      <td>...</td>\n",
       "      <td>...</td>\n",
       "      <td>...</td>\n",
       "      <td>...</td>\n",
       "      <td>...</td>\n",
       "      <td>...</td>\n",
       "      <td>...</td>\n",
       "      <td>...</td>\n",
       "      <td>...</td>\n",
       "      <td>...</td>\n",
       "      <td>...</td>\n",
       "      <td>...</td>\n",
       "      <td>...</td>\n",
       "      <td>...</td>\n",
       "    </tr>\n",
       "    <tr>\n",
       "      <th>45206</th>\n",
       "      <td>0.974702</td>\n",
       "      <td>0.275762</td>\n",
       "      <td>1.206484</td>\n",
       "      <td>-0.13549</td>\n",
       "      <td>0.291991</td>\n",
       "      <td>-1.118674</td>\n",
       "      <td>-0.436803</td>\n",
       "      <td>0.713012</td>\n",
       "      <td>0.143418</td>\n",
       "      <td>2.016333</td>\n",
       "      <td>...</td>\n",
       "      <td>-0.184415</td>\n",
       "      <td>-0.16793</td>\n",
       "      <td>-0.514332</td>\n",
       "      <td>-0.229600</td>\n",
       "      <td>-0.190234</td>\n",
       "      <td>-0.318082</td>\n",
       "      <td>-0.145557</td>\n",
       "      <td>2.225121</td>\n",
       "      <td>-0.172266</td>\n",
       "      <td>-0.080069</td>\n",
       "    </tr>\n",
       "    <tr>\n",
       "      <th>45207</th>\n",
       "      <td>2.850644</td>\n",
       "      <td>1.919895</td>\n",
       "      <td>-1.361914</td>\n",
       "      <td>-0.13549</td>\n",
       "      <td>0.690343</td>\n",
       "      <td>-1.118674</td>\n",
       "      <td>-0.436803</td>\n",
       "      <td>0.713012</td>\n",
       "      <td>0.143418</td>\n",
       "      <td>2.016333</td>\n",
       "      <td>...</td>\n",
       "      <td>-0.184415</td>\n",
       "      <td>-0.16793</td>\n",
       "      <td>-0.514332</td>\n",
       "      <td>4.355402</td>\n",
       "      <td>-0.190234</td>\n",
       "      <td>-0.318082</td>\n",
       "      <td>-0.145557</td>\n",
       "      <td>-0.449414</td>\n",
       "      <td>-0.172266</td>\n",
       "      <td>-0.080069</td>\n",
       "    </tr>\n",
       "    <tr>\n",
       "      <th>45208</th>\n",
       "      <td>2.850644</td>\n",
       "      <td>0.275762</td>\n",
       "      <td>-0.077715</td>\n",
       "      <td>-0.13549</td>\n",
       "      <td>1.582654</td>\n",
       "      <td>-1.118674</td>\n",
       "      <td>-0.436803</td>\n",
       "      <td>0.713012</td>\n",
       "      <td>0.143418</td>\n",
       "      <td>2.016333</td>\n",
       "      <td>...</td>\n",
       "      <td>-0.184415</td>\n",
       "      <td>-0.16793</td>\n",
       "      <td>-0.514332</td>\n",
       "      <td>4.355402</td>\n",
       "      <td>-0.190234</td>\n",
       "      <td>-0.318082</td>\n",
       "      <td>-0.145557</td>\n",
       "      <td>-0.449414</td>\n",
       "      <td>-0.172266</td>\n",
       "      <td>-0.080069</td>\n",
       "    </tr>\n",
       "    <tr>\n",
       "      <th>45209</th>\n",
       "      <td>1.551915</td>\n",
       "      <td>0.275762</td>\n",
       "      <td>-0.077715</td>\n",
       "      <td>-0.13549</td>\n",
       "      <td>0.195226</td>\n",
       "      <td>-1.118674</td>\n",
       "      <td>-0.436803</td>\n",
       "      <td>-0.400647</td>\n",
       "      <td>0.143418</td>\n",
       "      <td>2.016333</td>\n",
       "      <td>...</td>\n",
       "      <td>-0.184415</td>\n",
       "      <td>-0.16793</td>\n",
       "      <td>-0.514332</td>\n",
       "      <td>-0.229600</td>\n",
       "      <td>-0.190234</td>\n",
       "      <td>-0.318082</td>\n",
       "      <td>-0.145557</td>\n",
       "      <td>-0.449414</td>\n",
       "      <td>-0.172266</td>\n",
       "      <td>-0.080069</td>\n",
       "    </tr>\n",
       "    <tr>\n",
       "      <th>45210</th>\n",
       "      <td>-0.372128</td>\n",
       "      <td>0.275762</td>\n",
       "      <td>-0.077715</td>\n",
       "      <td>-0.13549</td>\n",
       "      <td>1.050753</td>\n",
       "      <td>-1.118674</td>\n",
       "      <td>-0.436803</td>\n",
       "      <td>0.713012</td>\n",
       "      <td>0.143418</td>\n",
       "      <td>2.016333</td>\n",
       "      <td>...</td>\n",
       "      <td>5.422561</td>\n",
       "      <td>-0.16793</td>\n",
       "      <td>-0.514332</td>\n",
       "      <td>-0.229600</td>\n",
       "      <td>-0.190234</td>\n",
       "      <td>-0.318082</td>\n",
       "      <td>-0.145557</td>\n",
       "      <td>-0.449414</td>\n",
       "      <td>-0.172266</td>\n",
       "      <td>-0.080069</td>\n",
       "    </tr>\n",
       "  </tbody>\n",
       "</table>\n",
       "<p>45211 rows × 27 columns</p>\n",
       "</div>"
      ],
      "text/plain": [
       "            age   marital  education  default   balance   housing      loan  \\\n",
       "0      1.648117  0.275762   1.206484 -0.13549  0.825528  0.893915 -0.436803   \n",
       "1      0.301287 -1.368372  -0.077715 -0.13549 -0.665625  0.893915 -0.436803   \n",
       "2     -0.756936  0.275762  -0.077715 -0.13549 -0.940826  0.893915  2.289359   \n",
       "3      0.589894  0.275762  -2.646114 -0.13549  0.608357  0.893915 -0.436803   \n",
       "4     -0.756936 -1.368372  -2.646114 -0.13549 -0.980294 -1.118674 -0.436803   \n",
       "...         ...       ...        ...      ...       ...       ...       ...   \n",
       "45206  0.974702  0.275762   1.206484 -0.13549  0.291991 -1.118674 -0.436803   \n",
       "45207  2.850644  1.919895  -1.361914 -0.13549  0.690343 -1.118674 -0.436803   \n",
       "45208  2.850644  0.275762  -0.077715 -0.13549  1.582654 -1.118674 -0.436803   \n",
       "45209  1.551915  0.275762  -0.077715 -0.13549  0.195226 -1.118674 -0.436803   \n",
       "45210 -0.372128  0.275762  -0.077715 -0.13549  1.050753 -1.118674 -0.436803   \n",
       "\n",
       "        contact       day     month  ...  job_\"entrepreneur\"  job_\"housemaid\"  \\\n",
       "0     -1.514306 -1.298476 -0.475354  ...           -0.184415         -0.16793   \n",
       "1     -1.514306 -1.298476 -0.475354  ...           -0.184415         -0.16793   \n",
       "2     -1.514306 -1.298476 -0.475354  ...            5.422561         -0.16793   \n",
       "3     -1.514306 -1.298476 -0.475354  ...           -0.184415         -0.16793   \n",
       "4     -1.514306 -1.298476 -0.475354  ...           -0.184415         -0.16793   \n",
       "...         ...       ...       ...  ...                 ...              ...   \n",
       "45206  0.713012  0.143418  2.016333  ...           -0.184415         -0.16793   \n",
       "45207  0.713012  0.143418  2.016333  ...           -0.184415         -0.16793   \n",
       "45208  0.713012  0.143418  2.016333  ...           -0.184415         -0.16793   \n",
       "45209 -0.400647  0.143418  2.016333  ...           -0.184415         -0.16793   \n",
       "45210  0.713012  0.143418  2.016333  ...            5.422561         -0.16793   \n",
       "\n",
       "       job_\"management\"  job_\"retired\"  job_\"self-employed\"  job_\"services\"  \\\n",
       "0              1.944270      -0.229600            -0.190234       -0.318082   \n",
       "1             -0.514332      -0.229600            -0.190234       -0.318082   \n",
       "2             -0.514332      -0.229600            -0.190234       -0.318082   \n",
       "3             -0.514332      -0.229600            -0.190234       -0.318082   \n",
       "4             -0.514332      -0.229600            -0.190234       -0.318082   \n",
       "...                 ...            ...                  ...             ...   \n",
       "45206         -0.514332      -0.229600            -0.190234       -0.318082   \n",
       "45207         -0.514332       4.355402            -0.190234       -0.318082   \n",
       "45208         -0.514332       4.355402            -0.190234       -0.318082   \n",
       "45209         -0.514332      -0.229600            -0.190234       -0.318082   \n",
       "45210         -0.514332      -0.229600            -0.190234       -0.318082   \n",
       "\n",
       "       job_\"student\"  job_\"technician\"  job_\"unemployed\"  job_\"unknown\"  \n",
       "0          -0.145557         -0.449414         -0.172266      -0.080069  \n",
       "1          -0.145557          2.225121         -0.172266      -0.080069  \n",
       "2          -0.145557         -0.449414         -0.172266      -0.080069  \n",
       "3          -0.145557         -0.449414         -0.172266      -0.080069  \n",
       "4          -0.145557         -0.449414         -0.172266      12.489301  \n",
       "...              ...               ...               ...            ...  \n",
       "45206      -0.145557          2.225121         -0.172266      -0.080069  \n",
       "45207      -0.145557         -0.449414         -0.172266      -0.080069  \n",
       "45208      -0.145557         -0.449414         -0.172266      -0.080069  \n",
       "45209      -0.145557         -0.449414         -0.172266      -0.080069  \n",
       "45210      -0.145557         -0.449414         -0.172266      -0.080069  \n",
       "\n",
       "[45211 rows x 27 columns]"
      ]
     },
     "execution_count": 97,
     "metadata": {},
     "output_type": "execute_result"
    }
   ],
   "source": [
    "std_df=pd.DataFrame(std_d,columns=x.columns)\n",
    "std_df"
   ]
  },
  {
   "cell_type": "markdown",
   "id": "4063747b",
   "metadata": {},
   "source": [
    "# standarized data splittig"
   ]
  },
  {
   "cell_type": "code",
   "execution_count": 98,
   "id": "07f6a34c",
   "metadata": {},
   "outputs": [],
   "source": [
    "x=std_df\n",
    "y=df[\"y\"]\n",
    "\n",
    "x_train,x_test,y_train,y_test=train_test_split(x,y,test_size=0.25,random_state=41)"
   ]
  },
  {
   "cell_type": "markdown",
   "id": "e85bce5a",
   "metadata": {},
   "source": [
    "# model training"
   ]
  },
  {
   "cell_type": "markdown",
   "id": "14369629",
   "metadata": {},
   "source": [
    "# Logistic regression"
   ]
  },
  {
   "cell_type": "code",
   "execution_count": 99,
   "id": "65deeb8e",
   "metadata": {},
   "outputs": [
    {
     "data": {
      "text/html": [
       "<style>#sk-container-id-1 {color: black;background-color: white;}#sk-container-id-1 pre{padding: 0;}#sk-container-id-1 div.sk-toggleable {background-color: white;}#sk-container-id-1 label.sk-toggleable__label {cursor: pointer;display: block;width: 100%;margin-bottom: 0;padding: 0.3em;box-sizing: border-box;text-align: center;}#sk-container-id-1 label.sk-toggleable__label-arrow:before {content: \"▸\";float: left;margin-right: 0.25em;color: #696969;}#sk-container-id-1 label.sk-toggleable__label-arrow:hover:before {color: black;}#sk-container-id-1 div.sk-estimator:hover label.sk-toggleable__label-arrow:before {color: black;}#sk-container-id-1 div.sk-toggleable__content {max-height: 0;max-width: 0;overflow: hidden;text-align: left;background-color: #f0f8ff;}#sk-container-id-1 div.sk-toggleable__content pre {margin: 0.2em;color: black;border-radius: 0.25em;background-color: #f0f8ff;}#sk-container-id-1 input.sk-toggleable__control:checked~div.sk-toggleable__content {max-height: 200px;max-width: 100%;overflow: auto;}#sk-container-id-1 input.sk-toggleable__control:checked~label.sk-toggleable__label-arrow:before {content: \"▾\";}#sk-container-id-1 div.sk-estimator input.sk-toggleable__control:checked~label.sk-toggleable__label {background-color: #d4ebff;}#sk-container-id-1 div.sk-label input.sk-toggleable__control:checked~label.sk-toggleable__label {background-color: #d4ebff;}#sk-container-id-1 input.sk-hidden--visually {border: 0;clip: rect(1px 1px 1px 1px);clip: rect(1px, 1px, 1px, 1px);height: 1px;margin: -1px;overflow: hidden;padding: 0;position: absolute;width: 1px;}#sk-container-id-1 div.sk-estimator {font-family: monospace;background-color: #f0f8ff;border: 1px dotted black;border-radius: 0.25em;box-sizing: border-box;margin-bottom: 0.5em;}#sk-container-id-1 div.sk-estimator:hover {background-color: #d4ebff;}#sk-container-id-1 div.sk-parallel-item::after {content: \"\";width: 100%;border-bottom: 1px solid gray;flex-grow: 1;}#sk-container-id-1 div.sk-label:hover label.sk-toggleable__label {background-color: #d4ebff;}#sk-container-id-1 div.sk-serial::before {content: \"\";position: absolute;border-left: 1px solid gray;box-sizing: border-box;top: 0;bottom: 0;left: 50%;z-index: 0;}#sk-container-id-1 div.sk-serial {display: flex;flex-direction: column;align-items: center;background-color: white;padding-right: 0.2em;padding-left: 0.2em;position: relative;}#sk-container-id-1 div.sk-item {position: relative;z-index: 1;}#sk-container-id-1 div.sk-parallel {display: flex;align-items: stretch;justify-content: center;background-color: white;position: relative;}#sk-container-id-1 div.sk-item::before, #sk-container-id-1 div.sk-parallel-item::before {content: \"\";position: absolute;border-left: 1px solid gray;box-sizing: border-box;top: 0;bottom: 0;left: 50%;z-index: -1;}#sk-container-id-1 div.sk-parallel-item {display: flex;flex-direction: column;z-index: 1;position: relative;background-color: white;}#sk-container-id-1 div.sk-parallel-item:first-child::after {align-self: flex-end;width: 50%;}#sk-container-id-1 div.sk-parallel-item:last-child::after {align-self: flex-start;width: 50%;}#sk-container-id-1 div.sk-parallel-item:only-child::after {width: 0;}#sk-container-id-1 div.sk-dashed-wrapped {border: 1px dashed gray;margin: 0 0.4em 0.5em 0.4em;box-sizing: border-box;padding-bottom: 0.4em;background-color: white;}#sk-container-id-1 div.sk-label label {font-family: monospace;font-weight: bold;display: inline-block;line-height: 1.2em;}#sk-container-id-1 div.sk-label-container {text-align: center;}#sk-container-id-1 div.sk-container {/* jupyter's `normalize.less` sets `[hidden] { display: none; }` but bootstrap.min.css set `[hidden] { display: none !important; }` so we also need the `!important` here to be able to override the default hidden behavior on the sphinx rendered scikit-learn.org. See: https://github.com/scikit-learn/scikit-learn/issues/21755 */display: inline-block !important;position: relative;}#sk-container-id-1 div.sk-text-repr-fallback {display: none;}</style><div id=\"sk-container-id-1\" class=\"sk-top-container\"><div class=\"sk-text-repr-fallback\"><pre>LogisticRegression()</pre><b>In a Jupyter environment, please rerun this cell to show the HTML representation or trust the notebook. <br />On GitHub, the HTML representation is unable to render, please try loading this page with nbviewer.org.</b></div><div class=\"sk-container\" hidden><div class=\"sk-item\"><div class=\"sk-estimator sk-toggleable\"><input class=\"sk-toggleable__control sk-hidden--visually\" id=\"sk-estimator-id-1\" type=\"checkbox\" checked><label for=\"sk-estimator-id-1\" class=\"sk-toggleable__label sk-toggleable__label-arrow\">LogisticRegression</label><div class=\"sk-toggleable__content\"><pre>LogisticRegression()</pre></div></div></div></div></div>"
      ],
      "text/plain": [
       "LogisticRegression()"
      ]
     },
     "execution_count": 99,
     "metadata": {},
     "output_type": "execute_result"
    }
   ],
   "source": [
    "log_model=LogisticRegression()\n",
    "log_model.fit(x_train,y_train)"
   ]
  },
  {
   "cell_type": "code",
   "execution_count": 100,
   "id": "2149fdf1",
   "metadata": {},
   "outputs": [
    {
     "name": "stdout",
     "output_type": "stream",
     "text": [
      "******************** Testing Data Evaluation ********************\n",
      "confusion matrix :\n",
      " [[9600  340]\n",
      " [ 926  437]]\n",
      "classification report :\n",
      "               precision    recall  f1-score   support\n",
      "\n",
      "           0       0.91      0.97      0.94      9940\n",
      "           1       0.56      0.32      0.41      1363\n",
      "\n",
      "    accuracy                           0.89     11303\n",
      "   macro avg       0.74      0.64      0.67     11303\n",
      "weighted avg       0.87      0.89      0.87     11303\n",
      "\n",
      "******************** Training Data Evaluation ********************\n",
      "confusion matrix :\n",
      " [[29165   817]\n",
      " [ 2688  1238]]\n",
      "classification report :\n",
      "               precision    recall  f1-score   support\n",
      "\n",
      "           0       0.92      0.97      0.94     29982\n",
      "           1       0.60      0.32      0.41      3926\n",
      "\n",
      "    accuracy                           0.90     33908\n",
      "   macro avg       0.76      0.64      0.68     33908\n",
      "weighted avg       0.88      0.90      0.88     33908\n",
      "\n"
     ]
    }
   ],
   "source": [
    "# prediction and evaluation\n",
    "\n",
    "#testing data evaluation\n",
    "print(\"*\"*20,\"Testing Data Evaluation\",\"*\"*20)\n",
    "\n",
    "y_pred=log_model.predict(x_test)\n",
    "\n",
    "cnf=confusion_matrix(y_test,y_pred)\n",
    "print(\"confusion matrix :\\n\",cnf)\n",
    "\n",
    "clsr=classification_report(y_test,y_pred)\n",
    "print(\"classification report :\\n\",clsr)\n",
    "\n",
    "\n",
    "#training data evaluation\n",
    "print(\"*\"*20,\"Training Data Evaluation\",\"*\"*20)\n",
    "\n",
    "y_pred_train=log_model.predict(x_train)\n",
    "\n",
    "cnf=confusion_matrix(y_train,y_pred_train)\n",
    "print(\"confusion matrix :\\n\",cnf)\n",
    "\n",
    "clsr=classification_report(y_train,y_pred_train)\n",
    "print(\"classification report :\\n\",clsr)"
   ]
  },
  {
   "cell_type": "markdown",
   "id": "1f419d87",
   "metadata": {},
   "source": [
    "# K-Nearest Neighbours classifier"
   ]
  },
  {
   "cell_type": "code",
   "execution_count": 101,
   "id": "b70df072",
   "metadata": {},
   "outputs": [
    {
     "data": {
      "text/html": [
       "<style>#sk-container-id-2 {color: black;background-color: white;}#sk-container-id-2 pre{padding: 0;}#sk-container-id-2 div.sk-toggleable {background-color: white;}#sk-container-id-2 label.sk-toggleable__label {cursor: pointer;display: block;width: 100%;margin-bottom: 0;padding: 0.3em;box-sizing: border-box;text-align: center;}#sk-container-id-2 label.sk-toggleable__label-arrow:before {content: \"▸\";float: left;margin-right: 0.25em;color: #696969;}#sk-container-id-2 label.sk-toggleable__label-arrow:hover:before {color: black;}#sk-container-id-2 div.sk-estimator:hover label.sk-toggleable__label-arrow:before {color: black;}#sk-container-id-2 div.sk-toggleable__content {max-height: 0;max-width: 0;overflow: hidden;text-align: left;background-color: #f0f8ff;}#sk-container-id-2 div.sk-toggleable__content pre {margin: 0.2em;color: black;border-radius: 0.25em;background-color: #f0f8ff;}#sk-container-id-2 input.sk-toggleable__control:checked~div.sk-toggleable__content {max-height: 200px;max-width: 100%;overflow: auto;}#sk-container-id-2 input.sk-toggleable__control:checked~label.sk-toggleable__label-arrow:before {content: \"▾\";}#sk-container-id-2 div.sk-estimator input.sk-toggleable__control:checked~label.sk-toggleable__label {background-color: #d4ebff;}#sk-container-id-2 div.sk-label input.sk-toggleable__control:checked~label.sk-toggleable__label {background-color: #d4ebff;}#sk-container-id-2 input.sk-hidden--visually {border: 0;clip: rect(1px 1px 1px 1px);clip: rect(1px, 1px, 1px, 1px);height: 1px;margin: -1px;overflow: hidden;padding: 0;position: absolute;width: 1px;}#sk-container-id-2 div.sk-estimator {font-family: monospace;background-color: #f0f8ff;border: 1px dotted black;border-radius: 0.25em;box-sizing: border-box;margin-bottom: 0.5em;}#sk-container-id-2 div.sk-estimator:hover {background-color: #d4ebff;}#sk-container-id-2 div.sk-parallel-item::after {content: \"\";width: 100%;border-bottom: 1px solid gray;flex-grow: 1;}#sk-container-id-2 div.sk-label:hover label.sk-toggleable__label {background-color: #d4ebff;}#sk-container-id-2 div.sk-serial::before {content: \"\";position: absolute;border-left: 1px solid gray;box-sizing: border-box;top: 0;bottom: 0;left: 50%;z-index: 0;}#sk-container-id-2 div.sk-serial {display: flex;flex-direction: column;align-items: center;background-color: white;padding-right: 0.2em;padding-left: 0.2em;position: relative;}#sk-container-id-2 div.sk-item {position: relative;z-index: 1;}#sk-container-id-2 div.sk-parallel {display: flex;align-items: stretch;justify-content: center;background-color: white;position: relative;}#sk-container-id-2 div.sk-item::before, #sk-container-id-2 div.sk-parallel-item::before {content: \"\";position: absolute;border-left: 1px solid gray;box-sizing: border-box;top: 0;bottom: 0;left: 50%;z-index: -1;}#sk-container-id-2 div.sk-parallel-item {display: flex;flex-direction: column;z-index: 1;position: relative;background-color: white;}#sk-container-id-2 div.sk-parallel-item:first-child::after {align-self: flex-end;width: 50%;}#sk-container-id-2 div.sk-parallel-item:last-child::after {align-self: flex-start;width: 50%;}#sk-container-id-2 div.sk-parallel-item:only-child::after {width: 0;}#sk-container-id-2 div.sk-dashed-wrapped {border: 1px dashed gray;margin: 0 0.4em 0.5em 0.4em;box-sizing: border-box;padding-bottom: 0.4em;background-color: white;}#sk-container-id-2 div.sk-label label {font-family: monospace;font-weight: bold;display: inline-block;line-height: 1.2em;}#sk-container-id-2 div.sk-label-container {text-align: center;}#sk-container-id-2 div.sk-container {/* jupyter's `normalize.less` sets `[hidden] { display: none; }` but bootstrap.min.css set `[hidden] { display: none !important; }` so we also need the `!important` here to be able to override the default hidden behavior on the sphinx rendered scikit-learn.org. See: https://github.com/scikit-learn/scikit-learn/issues/21755 */display: inline-block !important;position: relative;}#sk-container-id-2 div.sk-text-repr-fallback {display: none;}</style><div id=\"sk-container-id-2\" class=\"sk-top-container\"><div class=\"sk-text-repr-fallback\"><pre>KNeighborsClassifier()</pre><b>In a Jupyter environment, please rerun this cell to show the HTML representation or trust the notebook. <br />On GitHub, the HTML representation is unable to render, please try loading this page with nbviewer.org.</b></div><div class=\"sk-container\" hidden><div class=\"sk-item\"><div class=\"sk-estimator sk-toggleable\"><input class=\"sk-toggleable__control sk-hidden--visually\" id=\"sk-estimator-id-2\" type=\"checkbox\" checked><label for=\"sk-estimator-id-2\" class=\"sk-toggleable__label sk-toggleable__label-arrow\">KNeighborsClassifier</label><div class=\"sk-toggleable__content\"><pre>KNeighborsClassifier()</pre></div></div></div></div></div>"
      ],
      "text/plain": [
       "KNeighborsClassifier()"
      ]
     },
     "execution_count": 101,
     "metadata": {},
     "output_type": "execute_result"
    }
   ],
   "source": [
    "knn_model=KNeighborsClassifier()\n",
    "knn_model.fit(x_train,y_train)"
   ]
  },
  {
   "cell_type": "code",
   "execution_count": 102,
   "id": "347cb522",
   "metadata": {},
   "outputs": [
    {
     "name": "stdout",
     "output_type": "stream",
     "text": [
      "******************** Testing Data Evaluation ********************\n",
      "confusion matrix :\n",
      " [[9601  339]\n",
      " [ 964  399]]\n",
      "classification report :\n",
      "               precision    recall  f1-score   support\n",
      "\n",
      "           0       0.91      0.97      0.94      9940\n",
      "           1       0.54      0.29      0.38      1363\n",
      "\n",
      "    accuracy                           0.88     11303\n",
      "   macro avg       0.72      0.63      0.66     11303\n",
      "weighted avg       0.86      0.88      0.87     11303\n",
      "\n",
      "******************** Training Data Evaluation ********************\n",
      "confusion matrix :\n",
      " [[29429   553]\n",
      " [ 2203  1723]]\n",
      "classification report :\n",
      "               precision    recall  f1-score   support\n",
      "\n",
      "           0       0.93      0.98      0.96     29982\n",
      "           1       0.76      0.44      0.56      3926\n",
      "\n",
      "    accuracy                           0.92     33908\n",
      "   macro avg       0.84      0.71      0.76     33908\n",
      "weighted avg       0.91      0.92      0.91     33908\n",
      "\n"
     ]
    }
   ],
   "source": [
    "# prediction and evaluation\n",
    "\n",
    "#testing data evaluation\n",
    "print(\"*\"*20,\"Testing Data Evaluation\",\"*\"*20)\n",
    "\n",
    "y_pred=knn_model.predict(x_test)\n",
    "\n",
    "cnf=confusion_matrix(y_test,y_pred)\n",
    "print(\"confusion matrix :\\n\",cnf)\n",
    "\n",
    "clsr=classification_report(y_test,y_pred)\n",
    "print(\"classification report :\\n\",clsr)\n",
    "\n",
    "\n",
    "#training data evaluation\n",
    "print(\"*\"*20,\"Training Data Evaluation\",\"*\"*20)\n",
    "\n",
    "y_pred_train=knn_model.predict(x_train)\n",
    "\n",
    "cnf=confusion_matrix(y_train,y_pred_train)\n",
    "print(\"confusion matrix :\\n\",cnf)\n",
    "\n",
    "clsr=classification_report(y_train,y_pred_train)\n",
    "print(\"classification report :\\n\",clsr)"
   ]
  },
  {
   "cell_type": "markdown",
   "id": "d77dca17",
   "metadata": {},
   "source": [
    "# Normal Dataset splitting"
   ]
  },
  {
   "cell_type": "code",
   "execution_count": 103,
   "id": "ca26246e",
   "metadata": {},
   "outputs": [],
   "source": [
    "x=df.drop(\"y\",axis=1)\n",
    "y=df['y']\n",
    "\n",
    "x_train,x_test,y_train,y_test=train_test_split(x,y,random_state=41,test_size=0.25)"
   ]
  },
  {
   "cell_type": "markdown",
   "id": "91dc641b",
   "metadata": {},
   "source": [
    "# Decesion Tree"
   ]
  },
  {
   "cell_type": "code",
   "execution_count": 115,
   "id": "d007b4a8",
   "metadata": {},
   "outputs": [
    {
     "data": {
      "text/plain": [
       "DecisionTreeClassifier()"
      ]
     },
     "execution_count": 115,
     "metadata": {},
     "output_type": "execute_result"
    }
   ],
   "source": [
    "dcs_model=DecisionTreeClassifier()\n",
    "dcs_model.fit(x_train,y_train)"
   ]
  },
  {
   "cell_type": "code",
   "execution_count": 116,
   "id": "8bea39fe",
   "metadata": {},
   "outputs": [
    {
     "name": "stdout",
     "output_type": "stream",
     "text": [
      "******************** Testing Data Evaluation ********************\n",
      "confusion matrix :\n",
      " [[9195  745]\n",
      " [ 713  650]]\n",
      "classification report :\n",
      "               precision    recall  f1-score   support\n",
      "\n",
      "           0       0.93      0.93      0.93      9940\n",
      "           1       0.47      0.48      0.47      1363\n",
      "\n",
      "    accuracy                           0.87     11303\n",
      "   macro avg       0.70      0.70      0.70     11303\n",
      "weighted avg       0.87      0.87      0.87     11303\n",
      "\n",
      "******************** Training Data Evaluation ********************\n",
      "confusion matrix :\n",
      " [[29982     0]\n",
      " [    0  3926]]\n",
      "classification report :\n",
      "               precision    recall  f1-score   support\n",
      "\n",
      "           0       1.00      1.00      1.00     29982\n",
      "           1       1.00      1.00      1.00      3926\n",
      "\n",
      "    accuracy                           1.00     33908\n",
      "   macro avg       1.00      1.00      1.00     33908\n",
      "weighted avg       1.00      1.00      1.00     33908\n",
      "\n"
     ]
    }
   ],
   "source": [
    "# prediction and evaluation\n",
    "\n",
    "#testing data evaluation\n",
    "print(\"*\"*20,\"Testing Data Evaluation\",\"*\"*20)\n",
    "\n",
    "y_pred=dcs_model.predict(x_test)\n",
    "\n",
    "cnf=confusion_matrix(y_test,y_pred)\n",
    "print(\"confusion matrix :\\n\",cnf)\n",
    "\n",
    "clsr=classification_report(y_test,y_pred)\n",
    "print(\"classification report :\\n\",clsr)\n",
    "\n",
    "\n",
    "#training data evaluation\n",
    "print(\"*\"*20,\"Training Data Evaluation\",\"*\"*20)\n",
    "\n",
    "y_pred_train=dcs_model.predict(x_train)\n",
    "\n",
    "cnf=confusion_matrix(y_train,y_pred_train)\n",
    "print(\"confusion matrix :\\n\",cnf)\n",
    "\n",
    "clsr=classification_report(y_train,y_pred_train)\n",
    "print(\"classification report :\\n\",clsr)"
   ]
  },
  {
   "cell_type": "markdown",
   "id": "3e28f9d3",
   "metadata": {},
   "source": [
    "## hyperparameter tunning"
   ]
  },
  {
   "cell_type": "code",
   "execution_count": 117,
   "id": "3a6b27dd",
   "metadata": {},
   "outputs": [
    {
     "ename": "KeyboardInterrupt",
     "evalue": "",
     "output_type": "error",
     "traceback": [
      "\u001b[1;31m---------------------------------------------------------------------------\u001b[0m",
      "\u001b[1;31mKeyboardInterrupt\u001b[0m                         Traceback (most recent call last)",
      "\u001b[1;32mC:\\Users\\SHIVAM~1\\AppData\\Local\\Temp/ipykernel_23380/3451590900.py\u001b[0m in \u001b[0;36m<module>\u001b[1;34m\u001b[0m\n\u001b[0;32m      7\u001b[0m \u001b[1;33m\u001b[0m\u001b[0m\n\u001b[0;32m      8\u001b[0m \u001b[0mgscv_dcs_model\u001b[0m\u001b[1;33m=\u001b[0m\u001b[0mGridSearchCV\u001b[0m\u001b[1;33m(\u001b[0m\u001b[0mdt_model\u001b[0m\u001b[1;33m,\u001b[0m\u001b[0mhyp\u001b[0m\u001b[1;33m,\u001b[0m\u001b[0mcv\u001b[0m\u001b[1;33m=\u001b[0m\u001b[1;36m5\u001b[0m\u001b[1;33m)\u001b[0m\u001b[1;33m\u001b[0m\u001b[1;33m\u001b[0m\u001b[0m\n\u001b[1;32m----> 9\u001b[1;33m \u001b[0mgscv_dcs_model\u001b[0m\u001b[1;33m.\u001b[0m\u001b[0mfit\u001b[0m\u001b[1;33m(\u001b[0m\u001b[0mx_train\u001b[0m\u001b[1;33m,\u001b[0m\u001b[0my_train\u001b[0m\u001b[1;33m)\u001b[0m\u001b[1;33m\u001b[0m\u001b[1;33m\u001b[0m\u001b[0m\n\u001b[0m",
      "\u001b[1;32m~\\anaconda3\\lib\\site-packages\\sklearn\\model_selection\\_search.py\u001b[0m in \u001b[0;36mfit\u001b[1;34m(self, X, y, groups, **fit_params)\u001b[0m\n\u001b[0;32m    889\u001b[0m                 \u001b[1;32mreturn\u001b[0m \u001b[0mresults\u001b[0m\u001b[1;33m\u001b[0m\u001b[1;33m\u001b[0m\u001b[0m\n\u001b[0;32m    890\u001b[0m \u001b[1;33m\u001b[0m\u001b[0m\n\u001b[1;32m--> 891\u001b[1;33m             \u001b[0mself\u001b[0m\u001b[1;33m.\u001b[0m\u001b[0m_run_search\u001b[0m\u001b[1;33m(\u001b[0m\u001b[0mevaluate_candidates\u001b[0m\u001b[1;33m)\u001b[0m\u001b[1;33m\u001b[0m\u001b[1;33m\u001b[0m\u001b[0m\n\u001b[0m\u001b[0;32m    892\u001b[0m \u001b[1;33m\u001b[0m\u001b[0m\n\u001b[0;32m    893\u001b[0m             \u001b[1;31m# multimetric is determined here because in the case of a callable\u001b[0m\u001b[1;33m\u001b[0m\u001b[1;33m\u001b[0m\u001b[0m\n",
      "\u001b[1;32m~\\anaconda3\\lib\\site-packages\\sklearn\\model_selection\\_search.py\u001b[0m in \u001b[0;36m_run_search\u001b[1;34m(self, evaluate_candidates)\u001b[0m\n\u001b[0;32m   1390\u001b[0m     \u001b[1;32mdef\u001b[0m \u001b[0m_run_search\u001b[0m\u001b[1;33m(\u001b[0m\u001b[0mself\u001b[0m\u001b[1;33m,\u001b[0m \u001b[0mevaluate_candidates\u001b[0m\u001b[1;33m)\u001b[0m\u001b[1;33m:\u001b[0m\u001b[1;33m\u001b[0m\u001b[1;33m\u001b[0m\u001b[0m\n\u001b[0;32m   1391\u001b[0m         \u001b[1;34m\"\"\"Search all candidates in param_grid\"\"\"\u001b[0m\u001b[1;33m\u001b[0m\u001b[1;33m\u001b[0m\u001b[0m\n\u001b[1;32m-> 1392\u001b[1;33m         \u001b[0mevaluate_candidates\u001b[0m\u001b[1;33m(\u001b[0m\u001b[0mParameterGrid\u001b[0m\u001b[1;33m(\u001b[0m\u001b[0mself\u001b[0m\u001b[1;33m.\u001b[0m\u001b[0mparam_grid\u001b[0m\u001b[1;33m)\u001b[0m\u001b[1;33m)\u001b[0m\u001b[1;33m\u001b[0m\u001b[1;33m\u001b[0m\u001b[0m\n\u001b[0m\u001b[0;32m   1393\u001b[0m \u001b[1;33m\u001b[0m\u001b[0m\n\u001b[0;32m   1394\u001b[0m \u001b[1;33m\u001b[0m\u001b[0m\n",
      "\u001b[1;32m~\\anaconda3\\lib\\site-packages\\sklearn\\model_selection\\_search.py\u001b[0m in \u001b[0;36mevaluate_candidates\u001b[1;34m(candidate_params, cv, more_results)\u001b[0m\n\u001b[0;32m    836\u001b[0m                     )\n\u001b[0;32m    837\u001b[0m \u001b[1;33m\u001b[0m\u001b[0m\n\u001b[1;32m--> 838\u001b[1;33m                 out = parallel(\n\u001b[0m\u001b[0;32m    839\u001b[0m                     delayed(_fit_and_score)(\n\u001b[0;32m    840\u001b[0m                         \u001b[0mclone\u001b[0m\u001b[1;33m(\u001b[0m\u001b[0mbase_estimator\u001b[0m\u001b[1;33m)\u001b[0m\u001b[1;33m,\u001b[0m\u001b[1;33m\u001b[0m\u001b[1;33m\u001b[0m\u001b[0m\n",
      "\u001b[1;32m~\\anaconda3\\lib\\site-packages\\joblib\\parallel.py\u001b[0m in \u001b[0;36m__call__\u001b[1;34m(self, iterable)\u001b[0m\n\u001b[0;32m   1042\u001b[0m                 \u001b[0mself\u001b[0m\u001b[1;33m.\u001b[0m\u001b[0m_iterating\u001b[0m \u001b[1;33m=\u001b[0m \u001b[0mself\u001b[0m\u001b[1;33m.\u001b[0m\u001b[0m_original_iterator\u001b[0m \u001b[1;32mis\u001b[0m \u001b[1;32mnot\u001b[0m \u001b[1;32mNone\u001b[0m\u001b[1;33m\u001b[0m\u001b[1;33m\u001b[0m\u001b[0m\n\u001b[0;32m   1043\u001b[0m \u001b[1;33m\u001b[0m\u001b[0m\n\u001b[1;32m-> 1044\u001b[1;33m             \u001b[1;32mwhile\u001b[0m \u001b[0mself\u001b[0m\u001b[1;33m.\u001b[0m\u001b[0mdispatch_one_batch\u001b[0m\u001b[1;33m(\u001b[0m\u001b[0miterator\u001b[0m\u001b[1;33m)\u001b[0m\u001b[1;33m:\u001b[0m\u001b[1;33m\u001b[0m\u001b[1;33m\u001b[0m\u001b[0m\n\u001b[0m\u001b[0;32m   1045\u001b[0m                 \u001b[1;32mpass\u001b[0m\u001b[1;33m\u001b[0m\u001b[1;33m\u001b[0m\u001b[0m\n\u001b[0;32m   1046\u001b[0m \u001b[1;33m\u001b[0m\u001b[0m\n",
      "\u001b[1;32m~\\anaconda3\\lib\\site-packages\\joblib\\parallel.py\u001b[0m in \u001b[0;36mdispatch_one_batch\u001b[1;34m(self, iterator)\u001b[0m\n\u001b[0;32m    857\u001b[0m                 \u001b[1;32mreturn\u001b[0m \u001b[1;32mFalse\u001b[0m\u001b[1;33m\u001b[0m\u001b[1;33m\u001b[0m\u001b[0m\n\u001b[0;32m    858\u001b[0m             \u001b[1;32melse\u001b[0m\u001b[1;33m:\u001b[0m\u001b[1;33m\u001b[0m\u001b[1;33m\u001b[0m\u001b[0m\n\u001b[1;32m--> 859\u001b[1;33m                 \u001b[0mself\u001b[0m\u001b[1;33m.\u001b[0m\u001b[0m_dispatch\u001b[0m\u001b[1;33m(\u001b[0m\u001b[0mtasks\u001b[0m\u001b[1;33m)\u001b[0m\u001b[1;33m\u001b[0m\u001b[1;33m\u001b[0m\u001b[0m\n\u001b[0m\u001b[0;32m    860\u001b[0m                 \u001b[1;32mreturn\u001b[0m \u001b[1;32mTrue\u001b[0m\u001b[1;33m\u001b[0m\u001b[1;33m\u001b[0m\u001b[0m\n\u001b[0;32m    861\u001b[0m \u001b[1;33m\u001b[0m\u001b[0m\n",
      "\u001b[1;32m~\\anaconda3\\lib\\site-packages\\joblib\\parallel.py\u001b[0m in \u001b[0;36m_dispatch\u001b[1;34m(self, batch)\u001b[0m\n\u001b[0;32m    775\u001b[0m         \u001b[1;32mwith\u001b[0m \u001b[0mself\u001b[0m\u001b[1;33m.\u001b[0m\u001b[0m_lock\u001b[0m\u001b[1;33m:\u001b[0m\u001b[1;33m\u001b[0m\u001b[1;33m\u001b[0m\u001b[0m\n\u001b[0;32m    776\u001b[0m             \u001b[0mjob_idx\u001b[0m \u001b[1;33m=\u001b[0m \u001b[0mlen\u001b[0m\u001b[1;33m(\u001b[0m\u001b[0mself\u001b[0m\u001b[1;33m.\u001b[0m\u001b[0m_jobs\u001b[0m\u001b[1;33m)\u001b[0m\u001b[1;33m\u001b[0m\u001b[1;33m\u001b[0m\u001b[0m\n\u001b[1;32m--> 777\u001b[1;33m             \u001b[0mjob\u001b[0m \u001b[1;33m=\u001b[0m \u001b[0mself\u001b[0m\u001b[1;33m.\u001b[0m\u001b[0m_backend\u001b[0m\u001b[1;33m.\u001b[0m\u001b[0mapply_async\u001b[0m\u001b[1;33m(\u001b[0m\u001b[0mbatch\u001b[0m\u001b[1;33m,\u001b[0m \u001b[0mcallback\u001b[0m\u001b[1;33m=\u001b[0m\u001b[0mcb\u001b[0m\u001b[1;33m)\u001b[0m\u001b[1;33m\u001b[0m\u001b[1;33m\u001b[0m\u001b[0m\n\u001b[0m\u001b[0;32m    778\u001b[0m             \u001b[1;31m# A job can complete so quickly than its callback is\u001b[0m\u001b[1;33m\u001b[0m\u001b[1;33m\u001b[0m\u001b[0m\n\u001b[0;32m    779\u001b[0m             \u001b[1;31m# called before we get here, causing self._jobs to\u001b[0m\u001b[1;33m\u001b[0m\u001b[1;33m\u001b[0m\u001b[0m\n",
      "\u001b[1;32m~\\anaconda3\\lib\\site-packages\\joblib\\_parallel_backends.py\u001b[0m in \u001b[0;36mapply_async\u001b[1;34m(self, func, callback)\u001b[0m\n\u001b[0;32m    206\u001b[0m     \u001b[1;32mdef\u001b[0m \u001b[0mapply_async\u001b[0m\u001b[1;33m(\u001b[0m\u001b[0mself\u001b[0m\u001b[1;33m,\u001b[0m \u001b[0mfunc\u001b[0m\u001b[1;33m,\u001b[0m \u001b[0mcallback\u001b[0m\u001b[1;33m=\u001b[0m\u001b[1;32mNone\u001b[0m\u001b[1;33m)\u001b[0m\u001b[1;33m:\u001b[0m\u001b[1;33m\u001b[0m\u001b[1;33m\u001b[0m\u001b[0m\n\u001b[0;32m    207\u001b[0m         \u001b[1;34m\"\"\"Schedule a func to be run\"\"\"\u001b[0m\u001b[1;33m\u001b[0m\u001b[1;33m\u001b[0m\u001b[0m\n\u001b[1;32m--> 208\u001b[1;33m         \u001b[0mresult\u001b[0m \u001b[1;33m=\u001b[0m \u001b[0mImmediateResult\u001b[0m\u001b[1;33m(\u001b[0m\u001b[0mfunc\u001b[0m\u001b[1;33m)\u001b[0m\u001b[1;33m\u001b[0m\u001b[1;33m\u001b[0m\u001b[0m\n\u001b[0m\u001b[0;32m    209\u001b[0m         \u001b[1;32mif\u001b[0m \u001b[0mcallback\u001b[0m\u001b[1;33m:\u001b[0m\u001b[1;33m\u001b[0m\u001b[1;33m\u001b[0m\u001b[0m\n\u001b[0;32m    210\u001b[0m             \u001b[0mcallback\u001b[0m\u001b[1;33m(\u001b[0m\u001b[0mresult\u001b[0m\u001b[1;33m)\u001b[0m\u001b[1;33m\u001b[0m\u001b[1;33m\u001b[0m\u001b[0m\n",
      "\u001b[1;32m~\\anaconda3\\lib\\site-packages\\joblib\\_parallel_backends.py\u001b[0m in \u001b[0;36m__init__\u001b[1;34m(self, batch)\u001b[0m\n\u001b[0;32m    570\u001b[0m         \u001b[1;31m# Don't delay the application, to avoid keeping the input\u001b[0m\u001b[1;33m\u001b[0m\u001b[1;33m\u001b[0m\u001b[0m\n\u001b[0;32m    571\u001b[0m         \u001b[1;31m# arguments in memory\u001b[0m\u001b[1;33m\u001b[0m\u001b[1;33m\u001b[0m\u001b[0m\n\u001b[1;32m--> 572\u001b[1;33m         \u001b[0mself\u001b[0m\u001b[1;33m.\u001b[0m\u001b[0mresults\u001b[0m \u001b[1;33m=\u001b[0m \u001b[0mbatch\u001b[0m\u001b[1;33m(\u001b[0m\u001b[1;33m)\u001b[0m\u001b[1;33m\u001b[0m\u001b[1;33m\u001b[0m\u001b[0m\n\u001b[0m\u001b[0;32m    573\u001b[0m \u001b[1;33m\u001b[0m\u001b[0m\n\u001b[0;32m    574\u001b[0m     \u001b[1;32mdef\u001b[0m \u001b[0mget\u001b[0m\u001b[1;33m(\u001b[0m\u001b[0mself\u001b[0m\u001b[1;33m)\u001b[0m\u001b[1;33m:\u001b[0m\u001b[1;33m\u001b[0m\u001b[1;33m\u001b[0m\u001b[0m\n",
      "\u001b[1;32m~\\anaconda3\\lib\\site-packages\\joblib\\parallel.py\u001b[0m in \u001b[0;36m__call__\u001b[1;34m(self)\u001b[0m\n\u001b[0;32m    260\u001b[0m         \u001b[1;31m# change the default number of processes to -1\u001b[0m\u001b[1;33m\u001b[0m\u001b[1;33m\u001b[0m\u001b[0m\n\u001b[0;32m    261\u001b[0m         \u001b[1;32mwith\u001b[0m \u001b[0mparallel_backend\u001b[0m\u001b[1;33m(\u001b[0m\u001b[0mself\u001b[0m\u001b[1;33m.\u001b[0m\u001b[0m_backend\u001b[0m\u001b[1;33m,\u001b[0m \u001b[0mn_jobs\u001b[0m\u001b[1;33m=\u001b[0m\u001b[0mself\u001b[0m\u001b[1;33m.\u001b[0m\u001b[0m_n_jobs\u001b[0m\u001b[1;33m)\u001b[0m\u001b[1;33m:\u001b[0m\u001b[1;33m\u001b[0m\u001b[1;33m\u001b[0m\u001b[0m\n\u001b[1;32m--> 262\u001b[1;33m             return [func(*args, **kwargs)\n\u001b[0m\u001b[0;32m    263\u001b[0m                     for func, args, kwargs in self.items]\n\u001b[0;32m    264\u001b[0m \u001b[1;33m\u001b[0m\u001b[0m\n",
      "\u001b[1;32m~\\anaconda3\\lib\\site-packages\\joblib\\parallel.py\u001b[0m in \u001b[0;36m<listcomp>\u001b[1;34m(.0)\u001b[0m\n\u001b[0;32m    260\u001b[0m         \u001b[1;31m# change the default number of processes to -1\u001b[0m\u001b[1;33m\u001b[0m\u001b[1;33m\u001b[0m\u001b[0m\n\u001b[0;32m    261\u001b[0m         \u001b[1;32mwith\u001b[0m \u001b[0mparallel_backend\u001b[0m\u001b[1;33m(\u001b[0m\u001b[0mself\u001b[0m\u001b[1;33m.\u001b[0m\u001b[0m_backend\u001b[0m\u001b[1;33m,\u001b[0m \u001b[0mn_jobs\u001b[0m\u001b[1;33m=\u001b[0m\u001b[0mself\u001b[0m\u001b[1;33m.\u001b[0m\u001b[0m_n_jobs\u001b[0m\u001b[1;33m)\u001b[0m\u001b[1;33m:\u001b[0m\u001b[1;33m\u001b[0m\u001b[1;33m\u001b[0m\u001b[0m\n\u001b[1;32m--> 262\u001b[1;33m             return [func(*args, **kwargs)\n\u001b[0m\u001b[0;32m    263\u001b[0m                     for func, args, kwargs in self.items]\n\u001b[0;32m    264\u001b[0m \u001b[1;33m\u001b[0m\u001b[0m\n",
      "\u001b[1;32m~\\anaconda3\\lib\\site-packages\\sklearn\\utils\\fixes.py\u001b[0m in \u001b[0;36m__call__\u001b[1;34m(self, *args, **kwargs)\u001b[0m\n\u001b[0;32m    209\u001b[0m     \u001b[1;32mdef\u001b[0m \u001b[0m__call__\u001b[0m\u001b[1;33m(\u001b[0m\u001b[0mself\u001b[0m\u001b[1;33m,\u001b[0m \u001b[1;33m*\u001b[0m\u001b[0margs\u001b[0m\u001b[1;33m,\u001b[0m \u001b[1;33m**\u001b[0m\u001b[0mkwargs\u001b[0m\u001b[1;33m)\u001b[0m\u001b[1;33m:\u001b[0m\u001b[1;33m\u001b[0m\u001b[1;33m\u001b[0m\u001b[0m\n\u001b[0;32m    210\u001b[0m         \u001b[1;32mwith\u001b[0m \u001b[0mconfig_context\u001b[0m\u001b[1;33m(\u001b[0m\u001b[1;33m**\u001b[0m\u001b[0mself\u001b[0m\u001b[1;33m.\u001b[0m\u001b[0mconfig\u001b[0m\u001b[1;33m)\u001b[0m\u001b[1;33m:\u001b[0m\u001b[1;33m\u001b[0m\u001b[1;33m\u001b[0m\u001b[0m\n\u001b[1;32m--> 211\u001b[1;33m             \u001b[1;32mreturn\u001b[0m \u001b[0mself\u001b[0m\u001b[1;33m.\u001b[0m\u001b[0mfunction\u001b[0m\u001b[1;33m(\u001b[0m\u001b[1;33m*\u001b[0m\u001b[0margs\u001b[0m\u001b[1;33m,\u001b[0m \u001b[1;33m**\u001b[0m\u001b[0mkwargs\u001b[0m\u001b[1;33m)\u001b[0m\u001b[1;33m\u001b[0m\u001b[1;33m\u001b[0m\u001b[0m\n\u001b[0m\u001b[0;32m    212\u001b[0m \u001b[1;33m\u001b[0m\u001b[0m\n\u001b[0;32m    213\u001b[0m \u001b[1;33m\u001b[0m\u001b[0m\n",
      "\u001b[1;32m~\\anaconda3\\lib\\site-packages\\sklearn\\model_selection\\_validation.py\u001b[0m in \u001b[0;36m_fit_and_score\u001b[1;34m(estimator, X, y, scorer, train, test, verbose, parameters, fit_params, return_train_score, return_parameters, return_n_test_samples, return_times, return_estimator, split_progress, candidate_progress, error_score)\u001b[0m\n\u001b[0;32m    679\u001b[0m             \u001b[0mestimator\u001b[0m\u001b[1;33m.\u001b[0m\u001b[0mfit\u001b[0m\u001b[1;33m(\u001b[0m\u001b[0mX_train\u001b[0m\u001b[1;33m,\u001b[0m \u001b[1;33m**\u001b[0m\u001b[0mfit_params\u001b[0m\u001b[1;33m)\u001b[0m\u001b[1;33m\u001b[0m\u001b[1;33m\u001b[0m\u001b[0m\n\u001b[0;32m    680\u001b[0m         \u001b[1;32melse\u001b[0m\u001b[1;33m:\u001b[0m\u001b[1;33m\u001b[0m\u001b[1;33m\u001b[0m\u001b[0m\n\u001b[1;32m--> 681\u001b[1;33m             \u001b[0mestimator\u001b[0m\u001b[1;33m.\u001b[0m\u001b[0mfit\u001b[0m\u001b[1;33m(\u001b[0m\u001b[0mX_train\u001b[0m\u001b[1;33m,\u001b[0m \u001b[0my_train\u001b[0m\u001b[1;33m,\u001b[0m \u001b[1;33m**\u001b[0m\u001b[0mfit_params\u001b[0m\u001b[1;33m)\u001b[0m\u001b[1;33m\u001b[0m\u001b[1;33m\u001b[0m\u001b[0m\n\u001b[0m\u001b[0;32m    682\u001b[0m \u001b[1;33m\u001b[0m\u001b[0m\n\u001b[0;32m    683\u001b[0m     \u001b[1;32mexcept\u001b[0m \u001b[0mException\u001b[0m\u001b[1;33m:\u001b[0m\u001b[1;33m\u001b[0m\u001b[1;33m\u001b[0m\u001b[0m\n",
      "\u001b[1;32m~\\anaconda3\\lib\\site-packages\\sklearn\\tree\\_classes.py\u001b[0m in \u001b[0;36mfit\u001b[1;34m(self, X, y, sample_weight, check_input, X_idx_sorted)\u001b[0m\n\u001b[0;32m    935\u001b[0m         \"\"\"\n\u001b[0;32m    936\u001b[0m \u001b[1;33m\u001b[0m\u001b[0m\n\u001b[1;32m--> 937\u001b[1;33m         super().fit(\n\u001b[0m\u001b[0;32m    938\u001b[0m             \u001b[0mX\u001b[0m\u001b[1;33m,\u001b[0m\u001b[1;33m\u001b[0m\u001b[1;33m\u001b[0m\u001b[0m\n\u001b[0;32m    939\u001b[0m             \u001b[0my\u001b[0m\u001b[1;33m,\u001b[0m\u001b[1;33m\u001b[0m\u001b[1;33m\u001b[0m\u001b[0m\n",
      "\u001b[1;32m~\\anaconda3\\lib\\site-packages\\sklearn\\tree\\_classes.py\u001b[0m in \u001b[0;36mfit\u001b[1;34m(self, X, y, sample_weight, check_input, X_idx_sorted)\u001b[0m\n\u001b[0;32m    418\u001b[0m             )\n\u001b[0;32m    419\u001b[0m \u001b[1;33m\u001b[0m\u001b[0m\n\u001b[1;32m--> 420\u001b[1;33m         \u001b[0mbuilder\u001b[0m\u001b[1;33m.\u001b[0m\u001b[0mbuild\u001b[0m\u001b[1;33m(\u001b[0m\u001b[0mself\u001b[0m\u001b[1;33m.\u001b[0m\u001b[0mtree_\u001b[0m\u001b[1;33m,\u001b[0m \u001b[0mX\u001b[0m\u001b[1;33m,\u001b[0m \u001b[0my\u001b[0m\u001b[1;33m,\u001b[0m \u001b[0msample_weight\u001b[0m\u001b[1;33m)\u001b[0m\u001b[1;33m\u001b[0m\u001b[1;33m\u001b[0m\u001b[0m\n\u001b[0m\u001b[0;32m    421\u001b[0m \u001b[1;33m\u001b[0m\u001b[0m\n\u001b[0;32m    422\u001b[0m         \u001b[1;32mif\u001b[0m \u001b[0mself\u001b[0m\u001b[1;33m.\u001b[0m\u001b[0mn_outputs_\u001b[0m \u001b[1;33m==\u001b[0m \u001b[1;36m1\u001b[0m \u001b[1;32mand\u001b[0m \u001b[0mis_classifier\u001b[0m\u001b[1;33m(\u001b[0m\u001b[0mself\u001b[0m\u001b[1;33m)\u001b[0m\u001b[1;33m:\u001b[0m\u001b[1;33m\u001b[0m\u001b[1;33m\u001b[0m\u001b[0m\n",
      "\u001b[1;31mKeyboardInterrupt\u001b[0m: "
     ]
    }
   ],
   "source": [
    "dt_model=DecisionTreeClassifier()\n",
    "\n",
    "hyp={\"criterion\":[\"gini\",\"entorpy\"],\n",
    "    \"max_depth\":np.arange(2,20),\n",
    "    \"min_samples_leaf\":np.arange(2,10),\n",
    "    \"min_samples_split\":np.arange(2,15)}\n",
    "\n",
    "gscv_dcs_model=GridSearchCV(dt_model,hyp,cv=5)\n",
    "gscv_dcs_model.fit(x_train,y_train)"
   ]
  },
  {
   "cell_type": "code",
   "execution_count": null,
   "id": "693f17fd",
   "metadata": {},
   "outputs": [],
   "source": [
    "gscv_dcs_model.best_estimator_"
   ]
  },
  {
   "cell_type": "markdown",
   "id": "ed4e3b4e",
   "metadata": {},
   "source": [
    "### after hyperparamter tunning"
   ]
  },
  {
   "cell_type": "code",
   "execution_count": null,
   "id": "7bbf502e",
   "metadata": {},
   "outputs": [],
   "source": [
    "dcs_model1=gscv_dcs_model.best_estimator_\n",
    "dcs_model1.fit(x_train,y_train)"
   ]
  },
  {
   "cell_type": "code",
   "execution_count": null,
   "id": "5d7eac07",
   "metadata": {},
   "outputs": [],
   "source": [
    "# prediction and evaluation\n",
    "\n",
    "#testing data evaluation\n",
    "print(\"*\"*20,\"Testing Data Evaluation\",\"*\"*20)\n",
    "\n",
    "y_pred=dcs_model1.predict(x_test)\n",
    "\n",
    "cnf=confusion_matrix(y_test,y_pred)\n",
    "print(\"confusion matrix :\\n\",cnf)\n",
    "\n",
    "clsr=classification_report(y_test,y_pred)\n",
    "print(\"classification report :\\n\",clsr)\n",
    "\n",
    "\n",
    "#training data evaluation\n",
    "print(\"*\"*20,\"Training Data Evaluation\",\"*\"*20)\n",
    "\n",
    "y_pred_train=dcs_model1.predict(x_train)\n",
    "\n",
    "cnf=confusion_matrix(y_train,y_pred_train)\n",
    "print(\"confusion matrix :\\n\",cnf)\n",
    "\n",
    "clsr=classification_report(y_train,y_pred_train)\n",
    "print(\"classification report :\\n\",clsr)"
   ]
  },
  {
   "cell_type": "markdown",
   "id": "07ae4e8b",
   "metadata": {},
   "source": [
    "# random forest"
   ]
  },
  {
   "cell_type": "code",
   "execution_count": 118,
   "id": "83217e6a",
   "metadata": {},
   "outputs": [
    {
     "data": {
      "text/plain": [
       "RandomForestClassifier()"
      ]
     },
     "execution_count": 118,
     "metadata": {},
     "output_type": "execute_result"
    }
   ],
   "source": [
    "rnd_model=RandomForestClassifier()\n",
    "rnd_model.fit(x_train,y_train)"
   ]
  },
  {
   "cell_type": "code",
   "execution_count": 119,
   "id": "3629834a",
   "metadata": {},
   "outputs": [
    {
     "name": "stdout",
     "output_type": "stream",
     "text": [
      "******************** Testing Data Evaluation ********************\n",
      "confusion matrix :\n",
      " [[9615  325]\n",
      " [ 850  513]]\n",
      "classification report :\n",
      "               precision    recall  f1-score   support\n",
      "\n",
      "           0       0.92      0.97      0.94      9940\n",
      "           1       0.61      0.38      0.47      1363\n",
      "\n",
      "    accuracy                           0.90     11303\n",
      "   macro avg       0.77      0.67      0.70     11303\n",
      "weighted avg       0.88      0.90      0.88     11303\n",
      "\n",
      "******************** Training Data Evaluation ********************\n",
      "confusion matrix :\n",
      " [[29982     0]\n",
      " [    0  3926]]\n",
      "classification report :\n",
      "               precision    recall  f1-score   support\n",
      "\n",
      "           0       1.00      1.00      1.00     29982\n",
      "           1       1.00      1.00      1.00      3926\n",
      "\n",
      "    accuracy                           1.00     33908\n",
      "   macro avg       1.00      1.00      1.00     33908\n",
      "weighted avg       1.00      1.00      1.00     33908\n",
      "\n"
     ]
    }
   ],
   "source": [
    "# prediction and evaluation\n",
    "\n",
    "#testing data evaluation\n",
    "print(\"*\"*20,\"Testing Data Evaluation\",\"*\"*20)\n",
    "\n",
    "y_pred=rnd_model.predict(x_test)\n",
    "\n",
    "cnf=confusion_matrix(y_test,y_pred)\n",
    "print(\"confusion matrix :\\n\",cnf)\n",
    "\n",
    "clsr=classification_report(y_test,y_pred)\n",
    "print(\"classification report :\\n\",clsr)\n",
    "\n",
    "\n",
    "#training data evaluation\n",
    "print(\"*\"*20,\"Training Data Evaluation\",\"*\"*20)\n",
    "\n",
    "y_pred_train=rnd_model.predict(x_train)\n",
    "\n",
    "cnf=confusion_matrix(y_train,y_pred_train)\n",
    "print(\"confusion matrix :\\n\",cnf)\n",
    "\n",
    "clsr=classification_report(y_train,y_pred_train)\n",
    "print(\"classification report :\\n\",clsr)"
   ]
  },
  {
   "cell_type": "markdown",
   "id": "6f7eb478",
   "metadata": {},
   "source": [
    "### hyperparameter tunning"
   ]
  },
  {
   "cell_type": "code",
   "execution_count": 138,
   "id": "eb01faaf",
   "metadata": {},
   "outputs": [
    {
     "data": {
      "text/plain": [
       "RandomizedSearchCV(cv=5, estimator=RandomForestClassifier(),\n",
       "                   param_distributions={'criterion': ['gini', 'entropy'],\n",
       "                                        'max_depth': array([ 2,  3,  4,  5,  6,  7,  8,  9, 10, 11, 12]),\n",
       "                                        'min_samples_leaf': array([2, 3, 4, 5, 6, 7, 8, 9]),\n",
       "                                        'min_samples_split': array([ 2,  3,  4,  5,  6,  7,  8,  9, 10, 11, 12, 13, 14, 15, 16, 17, 18,\n",
       "       19]),\n",
       "                                        'n_estimators': array([ 10,  12,  14,  16,  18,  20,  22,  24,  26,  28,  30,  32,  34,\n",
       "        36,  38,  40,  42,  44,  46,  48,  50,  52,  54,  56,  58,  60,\n",
       "        62,  64,  66,  68,  70,  72,  74,  76,  78,  80,  82,  84,  86,\n",
       "        88,  90,  92,  94,  96,  98, 100, 102, 104, 106, 108, 110, 112,\n",
       "       114, 116, 118, 120, 122, 124, 126, 128, 130, 132, 134, 136, 138,\n",
       "       140, 142, 144, 146, 148, 150, 152, 154, 156, 158, 160, 162, 164,\n",
       "       166, 168, 170, 172, 174, 176, 178, 180, 182, 184, 186, 188, 190,\n",
       "       192, 194, 196, 198])})"
      ]
     },
     "execution_count": 138,
     "metadata": {},
     "output_type": "execute_result"
    }
   ],
   "source": [
    "rd_model=RandomForestClassifier()\n",
    "\n",
    "hyp={\"n_estimators\":np.arange(10,200,2),\n",
    "    \"criterion\":[\"gini\",\"entropy\"],\n",
    "    \"min_samples_split\":np.arange(2,20),\n",
    "    \"min_samples_leaf\":np.arange(2,10),\n",
    "    \"max_depth\":np.arange(2,13)}\n",
    "\n",
    "rnd_rd_model=RandomizedSearchCV(rd_model,hyp,cv=5)\n",
    "rnd_rd_model.fit(x_train,y_train)"
   ]
  },
  {
   "cell_type": "code",
   "execution_count": 140,
   "id": "62230b51",
   "metadata": {},
   "outputs": [
    {
     "data": {
      "text/plain": [
       "RandomForestClassifier(max_depth=12, min_samples_leaf=9, n_estimators=104)"
      ]
     },
     "execution_count": 140,
     "metadata": {},
     "output_type": "execute_result"
    }
   ],
   "source": [
    "rnd_rd_model.best_estimator_"
   ]
  },
  {
   "cell_type": "markdown",
   "id": "22ae75d7",
   "metadata": {},
   "source": [
    "### after hyperparameter tunning"
   ]
  },
  {
   "cell_type": "code",
   "execution_count": 141,
   "id": "5815abc4",
   "metadata": {},
   "outputs": [
    {
     "data": {
      "text/plain": [
       "RandomForestClassifier()"
      ]
     },
     "execution_count": 141,
     "metadata": {},
     "output_type": "execute_result"
    }
   ],
   "source": [
    "rnd_model1=rnd_rd_model.best_estimator_\n",
    "rnd_model.fit(x_train,y_train)"
   ]
  },
  {
   "cell_type": "code",
   "execution_count": 142,
   "id": "550d87eb",
   "metadata": {},
   "outputs": [
    {
     "name": "stdout",
     "output_type": "stream",
     "text": [
      "******************** Testing Data Evaluation ********************\n",
      "confusion matrix :\n",
      " [[9773  167]\n",
      " [1026  337]]\n",
      "classification report :\n",
      "               precision    recall  f1-score   support\n",
      "\n",
      "           0       0.90      0.98      0.94      9940\n",
      "           1       0.67      0.25      0.36      1363\n",
      "\n",
      "    accuracy                           0.89     11303\n",
      "   macro avg       0.79      0.62      0.65     11303\n",
      "weighted avg       0.88      0.89      0.87     11303\n",
      "\n",
      "******************** Training Data Evaluation ********************\n",
      "confusion matrix :\n",
      " [[29749   233]\n",
      " [ 2603  1323]]\n",
      "classification report :\n",
      "               precision    recall  f1-score   support\n",
      "\n",
      "           0       0.92      0.99      0.95     29982\n",
      "           1       0.85      0.34      0.48      3926\n",
      "\n",
      "    accuracy                           0.92     33908\n",
      "   macro avg       0.88      0.66      0.72     33908\n",
      "weighted avg       0.91      0.92      0.90     33908\n",
      "\n"
     ]
    }
   ],
   "source": [
    "# prediction and evaluation\n",
    "\n",
    "#testing data evaluation\n",
    "print(\"*\"*20,\"Testing Data Evaluation\",\"*\"*20)\n",
    "\n",
    "y_pred=rnd_model1.predict(x_test)\n",
    "\n",
    "cnf=confusion_matrix(y_test,y_pred)\n",
    "print(\"confusion matrix :\\n\",cnf)\n",
    "\n",
    "clsr=classification_report(y_test,y_pred)\n",
    "print(\"classification report :\\n\",clsr)\n",
    "\n",
    "\n",
    "#training data evaluation\n",
    "print(\"*\"*20,\"Training Data Evaluation\",\"*\"*20)\n",
    "\n",
    "y_pred_train=rnd_model1.predict(x_train)\n",
    "\n",
    "cnf=confusion_matrix(y_train,y_pred_train)\n",
    "print(\"confusion matrix :\\n\",cnf)\n",
    "\n",
    "clsr=classification_report(y_train,y_pred_train)\n",
    "print(\"classification report :\\n\",clsr)"
   ]
  },
  {
   "cell_type": "code",
   "execution_count": 15,
   "id": "7852919c",
   "metadata": {},
   "outputs": [
    {
     "data": {
      "text/plain": [
       "0.9537172774869109"
      ]
     },
     "execution_count": 15,
     "metadata": {},
     "output_type": "execute_result"
    }
   ],
   "source": [
    "#f1 score                               #0th class\n",
    "(2*0.92*0.99)/(0.92+0.99)"
   ]
  },
  {
   "cell_type": "code",
   "execution_count": 16,
   "id": "7fab8b19",
   "metadata": {},
   "outputs": [
    {
     "data": {
      "text/plain": [
       "0.4857142857142858"
      ]
     },
     "execution_count": 16,
     "metadata": {},
     "output_type": "execute_result"
    }
   ],
   "source": [
    "#f1 score                               #1 th class\n",
    "(2*0.85*0.34)/(0.85+0.34)"
   ]
  },
  {
   "cell_type": "code",
   "execution_count": 8,
   "id": "1bf38e2a",
   "metadata": {},
   "outputs": [
    {
     "data": {
      "text/plain": [
       "29982"
      ]
     },
     "execution_count": 8,
     "metadata": {},
     "output_type": "execute_result"
    }
   ],
   "source": [
    "weighted_avg=(29982*0.92+3926*0.85)/(29982+3926)    # precesion\n",
    "weighted_avg\n",
    "29749+233"
   ]
  },
  {
   "cell_type": "code",
   "execution_count": 9,
   "id": "022b7e15",
   "metadata": {},
   "outputs": [
    {
     "data": {
      "text/plain": [
       "0.9147404742243719"
      ]
     },
     "execution_count": 9,
     "metadata": {},
     "output_type": "execute_result"
    }
   ],
   "source": [
    "weighted=(29982*0.99+3926*0.34)/(29982+3926) \n",
    "weighted"
   ]
  },
  {
   "cell_type": "code",
   "execution_count": 11,
   "id": "2f5150da",
   "metadata": {},
   "outputs": [
    {
     "data": {
      "text/plain": [
       "0.665"
      ]
     },
     "execution_count": 11,
     "metadata": {},
     "output_type": "execute_result"
    }
   ],
   "source": [
    "macro_avg=(0.99+0.34)/2\n",
    "macro_avg"
   ]
  },
  {
   "cell_type": "code",
   "execution_count": null,
   "id": "daf5755c",
   "metadata": {},
   "outputs": [],
   "source": [
    "macro_avg=(0.92+0.85)/2\n",
    "macro_avg"
   ]
  },
  {
   "cell_type": "code",
   "execution_count": null,
   "id": "16dfae6e",
   "metadata": {},
   "outputs": [],
   "source": []
  },
  {
   "cell_type": "markdown",
   "id": "18e7f4a3",
   "metadata": {},
   "source": [
    "# ada_boost"
   ]
  },
  {
   "cell_type": "code",
   "execution_count": 115,
   "id": "f9f557d9",
   "metadata": {},
   "outputs": [
    {
     "data": {
      "text/plain": [
       "AdaBoostClassifier()"
      ]
     },
     "execution_count": 115,
     "metadata": {},
     "output_type": "execute_result"
    }
   ],
   "source": [
    "ada_model=AdaBoostClassifier()\n",
    "ada_model.fit(x_train,y_train)"
   ]
  },
  {
   "cell_type": "code",
   "execution_count": 116,
   "id": "dfca5a51",
   "metadata": {},
   "outputs": [
    {
     "name": "stdout",
     "output_type": "stream",
     "text": [
      "******************** Testing Data Evaluation ********************\n",
      "confusion matrix :\n",
      " [[9575  365]\n",
      " [ 856  507]]\n",
      "classification report :\n",
      "               precision    recall  f1-score   support\n",
      "\n",
      "           0       0.92      0.96      0.94      9940\n",
      "           1       0.58      0.37      0.45      1363\n",
      "\n",
      "    accuracy                           0.89     11303\n",
      "   macro avg       0.75      0.67      0.70     11303\n",
      "weighted avg       0.88      0.89      0.88     11303\n",
      "\n",
      "******************** Training Data Evaluation ********************\n",
      "confusion matrix :\n",
      " [[29106   876]\n",
      " [ 2486  1440]]\n",
      "classification report :\n",
      "               precision    recall  f1-score   support\n",
      "\n",
      "           0       0.92      0.97      0.95     29982\n",
      "           1       0.62      0.37      0.46      3926\n",
      "\n",
      "    accuracy                           0.90     33908\n",
      "   macro avg       0.77      0.67      0.70     33908\n",
      "weighted avg       0.89      0.90      0.89     33908\n",
      "\n"
     ]
    }
   ],
   "source": [
    "# prediction and evaluation\n",
    "\n",
    "#testing data evaluation\n",
    "print(\"*\"*20,\"Testing Data Evaluation\",\"*\"*20)\n",
    "\n",
    "y_pred=ada_model.predict(x_test)\n",
    "\n",
    "cnf=confusion_matrix(y_test,y_pred)\n",
    "print(\"confusion matrix :\\n\",cnf)\n",
    "\n",
    "clsr=classification_report(y_test,y_pred)\n",
    "print(\"classification report :\\n\",clsr)\n",
    "\n",
    "\n",
    "#training data evaluation\n",
    "print(\"*\"*20,\"Training Data Evaluation\",\"*\"*20)\n",
    "\n",
    "y_pred_train=ada_model.predict(x_train)\n",
    "\n",
    "cnf=confusion_matrix(y_train,y_pred_train)\n",
    "print(\"confusion matrix :\\n\",cnf)\n",
    "\n",
    "clsr=classification_report(y_train,y_pred_train)\n",
    "print(\"classification report :\\n\",clsr)"
   ]
  },
  {
   "cell_type": "markdown",
   "id": "8c3c2a7b",
   "metadata": {},
   "source": [
    "### hyperparameter tunning"
   ]
  },
  {
   "cell_type": "code",
   "execution_count": 147,
   "id": "cc3e0ef9",
   "metadata": {},
   "outputs": [
    {
     "data": {
      "text/plain": [
       "RandomizedSearchCV(cv=5, estimator=AdaBoostClassifier(),\n",
       "                   param_distributions={'n_estimators': array([ 10,  11,  12,  13,  14,  15,  16,  17,  18,  19,  20,  21,  22,\n",
       "        23,  24,  25,  26,  27,  28,  29,  30,  31,  32,  33,  34,  35,\n",
       "        36,  37,  38,  39,  40,  41,  42,  43,  44,  45,  46,  47,  48,\n",
       "        49,  50,  51,  52,  53,  54,  55,  56,  57,  58,  59,  60,  61,\n",
       "        62,  63,  64,  65,  66,  67,  68,  69,  70,  71,  72,  73,  74,\n",
       "        75,  76,  77,  78,  79,  80,  81,  82,  83,  84,  85,  86,  87,\n",
       "        88,  89,  90,  91,  92,  93,...\n",
       "       153, 154, 155, 156, 157, 158, 159, 160, 161, 162, 163, 164, 165,\n",
       "       166, 167, 168, 169, 170, 171, 172, 173, 174, 175, 176, 177, 178,\n",
       "       179, 180, 181, 182, 183, 184, 185, 186, 187, 188, 189, 190, 191,\n",
       "       192, 193, 194, 195, 196, 197, 198, 199]),\n",
       "                                        'random_state': array([ 1,  2,  3,  4,  5,  6,  7,  8,  9, 10, 11, 12, 13, 14, 15, 16, 17,\n",
       "       18, 19, 20, 21, 22, 23, 24, 25, 26, 27, 28, 29, 30, 31, 32, 33, 34,\n",
       "       35, 36, 37, 38, 39, 40, 41, 42, 43, 44, 45, 46, 47, 48, 49])})"
      ]
     },
     "execution_count": 147,
     "metadata": {},
     "output_type": "execute_result"
    }
   ],
   "source": [
    "ad_model=AdaBoostClassifier()\n",
    "hyp={\"n_estimators\":np.arange(10,200),\n",
    "    \"random_state\":np.arange(1,50)}\n",
    "\n",
    "gd_ad_model=RandomizedSearchCV(ad_model,hyp,cv=5)\n",
    "gd_ad_model.fit(x_train,y_train)"
   ]
  },
  {
   "cell_type": "code",
   "execution_count": 148,
   "id": "2e74c8e3",
   "metadata": {},
   "outputs": [
    {
     "data": {
      "text/plain": [
       "AdaBoostClassifier(n_estimators=189, random_state=31)"
      ]
     },
     "execution_count": 148,
     "metadata": {},
     "output_type": "execute_result"
    }
   ],
   "source": [
    "gd_ad_model.best_estimator_"
   ]
  },
  {
   "cell_type": "markdown",
   "id": "cc88fcbb",
   "metadata": {},
   "source": [
    "### after Hyperparameter Tunning"
   ]
  },
  {
   "cell_type": "code",
   "execution_count": 151,
   "id": "57a66e3d",
   "metadata": {},
   "outputs": [
    {
     "data": {
      "text/plain": [
       "AdaBoostClassifier(n_estimators=189, random_state=31)"
      ]
     },
     "execution_count": 151,
     "metadata": {},
     "output_type": "execute_result"
    }
   ],
   "source": [
    "ada_model1=gd_ad_model.best_estimator_\n",
    "ada_model1.fit(x_train,y_train)"
   ]
  },
  {
   "cell_type": "code",
   "execution_count": 152,
   "id": "08f0fd78",
   "metadata": {},
   "outputs": [
    {
     "name": "stdout",
     "output_type": "stream",
     "text": [
      "******************** Testing Data Evaluation ********************\n",
      "confusion matrix :\n",
      " [[9597  343]\n",
      " [ 853  510]]\n",
      "classification report :\n",
      "               precision    recall  f1-score   support\n",
      "\n",
      "           0       0.92      0.97      0.94      9940\n",
      "           1       0.60      0.37      0.46      1363\n",
      "\n",
      "    accuracy                           0.89     11303\n",
      "   macro avg       0.76      0.67      0.70     11303\n",
      "weighted avg       0.88      0.89      0.88     11303\n",
      "\n",
      "******************** Training Data Evaluation ********************\n",
      "confusion matrix :\n",
      " [[29141   841]\n",
      " [ 2413  1513]]\n",
      "classification report :\n",
      "               precision    recall  f1-score   support\n",
      "\n",
      "           0       0.92      0.97      0.95     29982\n",
      "           1       0.64      0.39      0.48      3926\n",
      "\n",
      "    accuracy                           0.90     33908\n",
      "   macro avg       0.78      0.68      0.71     33908\n",
      "weighted avg       0.89      0.90      0.89     33908\n",
      "\n"
     ]
    }
   ],
   "source": [
    "# prediction and evaluation\n",
    "\n",
    "#testing data evaluation\n",
    "print(\"*\"*20,\"Testing Data Evaluation\",\"*\"*20)\n",
    "\n",
    "y_pred=ada_model1.predict(x_test)\n",
    "\n",
    "cnf=confusion_matrix(y_test,y_pred)\n",
    "print(\"confusion matrix :\\n\",cnf)\n",
    "\n",
    "clsr=classification_report(y_test,y_pred)\n",
    "print(\"classification report :\\n\",clsr)\n",
    "\n",
    "\n",
    "#training data evaluation\n",
    "print(\"*\"*20,\"Training Data Evaluation\",\"*\"*20)\n",
    "\n",
    "y_pred_train=ada_model1.predict(x_train)\n",
    "\n",
    "cnf=confusion_matrix(y_train,y_pred_train)\n",
    "print(\"confusion matrix :\\n\",cnf)\n",
    "\n",
    "clsr=classification_report(y_train,y_pred_train)\n",
    "print(\"classification report :\\n\",clsr)"
   ]
  },
  {
   "cell_type": "markdown",
   "id": "c528040d",
   "metadata": {},
   "source": [
    "# Naive-bayes"
   ]
  },
  {
   "cell_type": "code",
   "execution_count": 111,
   "id": "5e6025f7",
   "metadata": {},
   "outputs": [
    {
     "data": {
      "text/plain": [
       "GaussianNB()"
      ]
     },
     "execution_count": 111,
     "metadata": {},
     "output_type": "execute_result"
    }
   ],
   "source": [
    "nvb_model=GaussianNB()\n",
    "nvb_model.fit(x_train,y_train)"
   ]
  },
  {
   "cell_type": "code",
   "execution_count": 143,
   "id": "ed59623f",
   "metadata": {},
   "outputs": [
    {
     "name": "stdout",
     "output_type": "stream",
     "text": [
      "******************** Testing Data Evaluation ********************\n",
      "confusion matrix :\n",
      " [[8223 1717]\n",
      " [ 659  704]]\n",
      "classification report :\n",
      "               precision    recall  f1-score   support\n",
      "\n",
      "           0       0.93      0.83      0.87      9940\n",
      "           1       0.29      0.52      0.37      1363\n",
      "\n",
      "    accuracy                           0.79     11303\n",
      "   macro avg       0.61      0.67      0.62     11303\n",
      "weighted avg       0.85      0.79      0.81     11303\n",
      "\n",
      "******************** Training Data Evaluation ********************\n",
      "confusion matrix :\n",
      " [[25030  4952]\n",
      " [ 1924  2002]]\n",
      "classification report :\n",
      "               precision    recall  f1-score   support\n",
      "\n",
      "           0       0.93      0.83      0.88     29982\n",
      "           1       0.29      0.51      0.37      3926\n",
      "\n",
      "    accuracy                           0.80     33908\n",
      "   macro avg       0.61      0.67      0.62     33908\n",
      "weighted avg       0.85      0.80      0.82     33908\n",
      "\n"
     ]
    }
   ],
   "source": [
    "# prediction and evaluation\n",
    "\n",
    "#testing data evaluation\n",
    "print(\"*\"*20,\"Testing Data Evaluation\",\"*\"*20)\n",
    "\n",
    "y_pred=nvb_model.predict(x_test)\n",
    "\n",
    "cnf=confusion_matrix(y_test,y_pred)\n",
    "print(\"confusion matrix :\\n\",cnf)\n",
    "\n",
    "clsr=classification_report(y_test,y_pred)\n",
    "print(\"classification report :\\n\",clsr)\n",
    "\n",
    "\n",
    "#training data evaluation\n",
    "print(\"*\"*20,\"Training Data Evaluation\",\"*\"*20)\n",
    "\n",
    "y_pred_train=nvb_model.predict(x_train)\n",
    "\n",
    "cnf=confusion_matrix(y_train,y_pred_train)\n",
    "print(\"confusion matrix :\\n\",cnf)\n",
    "\n",
    "clsr=classification_report(y_train,y_pred_train)\n",
    "print(\"classification report :\\n\",clsr)"
   ]
  },
  {
   "cell_type": "markdown",
   "id": "1a51d8aa",
   "metadata": {},
   "source": [
    "# SVM"
   ]
  },
  {
   "cell_type": "code",
   "execution_count": 113,
   "id": "2155b34a",
   "metadata": {},
   "outputs": [
    {
     "data": {
      "text/plain": [
       "SVC()"
      ]
     },
     "execution_count": 113,
     "metadata": {},
     "output_type": "execute_result"
    }
   ],
   "source": [
    "svm_model=SVC()\n",
    "svm_model.fit(x_train,y_train)"
   ]
  },
  {
   "cell_type": "code",
   "execution_count": 114,
   "id": "161fb423",
   "metadata": {},
   "outputs": [
    {
     "name": "stdout",
     "output_type": "stream",
     "text": [
      "******************** Testing Data Evaluation ********************\n",
      "confusion matrix :\n",
      " [[9940    0]\n",
      " [1363    0]]\n",
      "classification report :\n",
      "               precision    recall  f1-score   support\n",
      "\n",
      "           0       0.88      1.00      0.94      9940\n",
      "           1       0.00      0.00      0.00      1363\n",
      "\n",
      "    accuracy                           0.88     11303\n",
      "   macro avg       0.44      0.50      0.47     11303\n",
      "weighted avg       0.77      0.88      0.82     11303\n",
      "\n",
      "******************** Training Data Evaluation ********************\n",
      "confusion matrix :\n",
      " [[29982     0]\n",
      " [ 3926     0]]\n",
      "classification report :\n",
      "               precision    recall  f1-score   support\n",
      "\n",
      "           0       0.88      1.00      0.94     29982\n",
      "           1       0.00      0.00      0.00      3926\n",
      "\n",
      "    accuracy                           0.88     33908\n",
      "   macro avg       0.44      0.50      0.47     33908\n",
      "weighted avg       0.78      0.88      0.83     33908\n",
      "\n"
     ]
    }
   ],
   "source": [
    "# prediction and evaluation\n",
    "\n",
    "#testing data evaluation\n",
    "print(\"*\"*20,\"Testing Data Evaluation\",\"*\"*20)\n",
    "\n",
    "y_pred=svm_model.predict(x_test)\n",
    "\n",
    "cnf=confusion_matrix(y_test,y_pred)\n",
    "print(\"confusion matrix :\\n\",cnf)\n",
    "\n",
    "clsr=classification_report(y_test,y_pred)\n",
    "print(\"classification report :\\n\",clsr)\n",
    "\n",
    "\n",
    "#training data evaluation\n",
    "print(\"*\"*20,\"Training Data Evaluation\",\"*\"*20)\n",
    "\n",
    "y_pred_train=svm_model.predict(x_train)\n",
    "\n",
    "cnf=confusion_matrix(y_train,y_pred_train)\n",
    "print(\"confusion matrix :\\n\",cnf)\n",
    "\n",
    "clsr=classification_report(y_train,y_pred_train)\n",
    "print(\"classification report :\\n\",clsr)"
   ]
  },
  {
   "cell_type": "code",
   "execution_count": 18,
   "id": "b420fb5b",
   "metadata": {},
   "outputs": [
    {
     "data": {
      "text/plain": [
       "0.8842161141913413"
      ]
     },
     "execution_count": 18,
     "metadata": {},
     "output_type": "execute_result"
    }
   ],
   "source": [
    "(29982 +0)/(29982 +0+0+3926)"
   ]
  },
  {
   "cell_type": "markdown",
   "id": "1076fd37",
   "metadata": {},
   "source": [
    "## we will prefer random forest bcoz it will give us good accuracy,precesion and recall"
   ]
  },
  {
   "cell_type": "code",
   "execution_count": 120,
   "id": "1a272e1f",
   "metadata": {},
   "outputs": [],
   "source": [
    "pickle.dump(rnd_model,open(\"bank_model.pkl\",\"wb\"))"
   ]
  },
  {
   "cell_type": "code",
   "execution_count": 106,
   "id": "4bd4a605",
   "metadata": {},
   "outputs": [],
   "source": [
    "pickle.dump(x.columns,open(\"columns.pkl\",\"wb\"))"
   ]
  },
  {
   "cell_type": "code",
   "execution_count": null,
   "id": "ddef0fa4",
   "metadata": {},
   "outputs": [],
   "source": []
  },
  {
   "cell_type": "code",
   "execution_count": 227,
   "id": "ac072f6c",
   "metadata": {},
   "outputs": [
    {
     "data": {
      "text/html": [
       "<style>#sk-container-id-3 {color: black;background-color: white;}#sk-container-id-3 pre{padding: 0;}#sk-container-id-3 div.sk-toggleable {background-color: white;}#sk-container-id-3 label.sk-toggleable__label {cursor: pointer;display: block;width: 100%;margin-bottom: 0;padding: 0.3em;box-sizing: border-box;text-align: center;}#sk-container-id-3 label.sk-toggleable__label-arrow:before {content: \"▸\";float: left;margin-right: 0.25em;color: #696969;}#sk-container-id-3 label.sk-toggleable__label-arrow:hover:before {color: black;}#sk-container-id-3 div.sk-estimator:hover label.sk-toggleable__label-arrow:before {color: black;}#sk-container-id-3 div.sk-toggleable__content {max-height: 0;max-width: 0;overflow: hidden;text-align: left;background-color: #f0f8ff;}#sk-container-id-3 div.sk-toggleable__content pre {margin: 0.2em;color: black;border-radius: 0.25em;background-color: #f0f8ff;}#sk-container-id-3 input.sk-toggleable__control:checked~div.sk-toggleable__content {max-height: 200px;max-width: 100%;overflow: auto;}#sk-container-id-3 input.sk-toggleable__control:checked~label.sk-toggleable__label-arrow:before {content: \"▾\";}#sk-container-id-3 div.sk-estimator input.sk-toggleable__control:checked~label.sk-toggleable__label {background-color: #d4ebff;}#sk-container-id-3 div.sk-label input.sk-toggleable__control:checked~label.sk-toggleable__label {background-color: #d4ebff;}#sk-container-id-3 input.sk-hidden--visually {border: 0;clip: rect(1px 1px 1px 1px);clip: rect(1px, 1px, 1px, 1px);height: 1px;margin: -1px;overflow: hidden;padding: 0;position: absolute;width: 1px;}#sk-container-id-3 div.sk-estimator {font-family: monospace;background-color: #f0f8ff;border: 1px dotted black;border-radius: 0.25em;box-sizing: border-box;margin-bottom: 0.5em;}#sk-container-id-3 div.sk-estimator:hover {background-color: #d4ebff;}#sk-container-id-3 div.sk-parallel-item::after {content: \"\";width: 100%;border-bottom: 1px solid gray;flex-grow: 1;}#sk-container-id-3 div.sk-label:hover label.sk-toggleable__label {background-color: #d4ebff;}#sk-container-id-3 div.sk-serial::before {content: \"\";position: absolute;border-left: 1px solid gray;box-sizing: border-box;top: 0;bottom: 0;left: 50%;z-index: 0;}#sk-container-id-3 div.sk-serial {display: flex;flex-direction: column;align-items: center;background-color: white;padding-right: 0.2em;padding-left: 0.2em;position: relative;}#sk-container-id-3 div.sk-item {position: relative;z-index: 1;}#sk-container-id-3 div.sk-parallel {display: flex;align-items: stretch;justify-content: center;background-color: white;position: relative;}#sk-container-id-3 div.sk-item::before, #sk-container-id-3 div.sk-parallel-item::before {content: \"\";position: absolute;border-left: 1px solid gray;box-sizing: border-box;top: 0;bottom: 0;left: 50%;z-index: -1;}#sk-container-id-3 div.sk-parallel-item {display: flex;flex-direction: column;z-index: 1;position: relative;background-color: white;}#sk-container-id-3 div.sk-parallel-item:first-child::after {align-self: flex-end;width: 50%;}#sk-container-id-3 div.sk-parallel-item:last-child::after {align-self: flex-start;width: 50%;}#sk-container-id-3 div.sk-parallel-item:only-child::after {width: 0;}#sk-container-id-3 div.sk-dashed-wrapped {border: 1px dashed gray;margin: 0 0.4em 0.5em 0.4em;box-sizing: border-box;padding-bottom: 0.4em;background-color: white;}#sk-container-id-3 div.sk-label label {font-family: monospace;font-weight: bold;display: inline-block;line-height: 1.2em;}#sk-container-id-3 div.sk-label-container {text-align: center;}#sk-container-id-3 div.sk-container {/* jupyter's `normalize.less` sets `[hidden] { display: none; }` but bootstrap.min.css set `[hidden] { display: none !important; }` so we also need the `!important` here to be able to override the default hidden behavior on the sphinx rendered scikit-learn.org. See: https://github.com/scikit-learn/scikit-learn/issues/21755 */display: inline-block !important;position: relative;}#sk-container-id-3 div.sk-text-repr-fallback {display: none;}</style><div id=\"sk-container-id-3\" class=\"sk-top-container\"><div class=\"sk-text-repr-fallback\"><pre>RandomForestClassifier(max_features=&#x27;auto&#x27;)</pre><b>In a Jupyter environment, please rerun this cell to show the HTML representation or trust the notebook. <br />On GitHub, the HTML representation is unable to render, please try loading this page with nbviewer.org.</b></div><div class=\"sk-container\" hidden><div class=\"sk-item\"><div class=\"sk-estimator sk-toggleable\"><input class=\"sk-toggleable__control sk-hidden--visually\" id=\"sk-estimator-id-3\" type=\"checkbox\" checked><label for=\"sk-estimator-id-3\" class=\"sk-toggleable__label sk-toggleable__label-arrow\">RandomForestClassifier</label><div class=\"sk-toggleable__content\"><pre>RandomForestClassifier(max_features=&#x27;auto&#x27;)</pre></div></div></div></div></div>"
      ],
      "text/plain": [
       "RandomForestClassifier(max_features='auto')"
      ]
     },
     "execution_count": 227,
     "metadata": {},
     "output_type": "execute_result"
    }
   ],
   "source": [
    "model = pickle.load (open(\"D:\\VELOCITY_Class\\practice datasets\\\\bank\\\\artifacts\\\\bank_model.pkl\",\"rb\"))\n"
   ]
  },
  {
   "cell_type": "code",
   "execution_count": 234,
   "id": "8317e4c2",
   "metadata": {},
   "outputs": [
    {
     "data": {
      "text/plain": [
       "Index(['age', 'marital', 'education', 'default', 'balance', 'housing', 'loan',\n",
       "       'contact', 'day', 'month', 'duration', 'campaign', 'pdays', 'previous',\n",
       "       'poutcome', 'job_\"admin.\"', 'job_\"blue-collar\"', 'job_\"entrepreneur\"',\n",
       "       'job_\"housemaid\"', 'job_\"management\"', 'job_\"retired\"',\n",
       "       'job_\"self-employed\"', 'job_\"services\"', 'job_\"student\"',\n",
       "       'job_\"technician\"', 'job_\"unemployed\"', 'job_\"unknown\"'],\n",
       "      dtype='object')"
      ]
     },
     "execution_count": 234,
     "metadata": {},
     "output_type": "execute_result"
    }
   ],
   "source": [
    "model = pickle.load (open(\"D:\\VELOCITY_Class\\practice datasets\\\\bank\\\\artifacts\\\\bank_model.pkl\",\"rb\"))\n",
    "columns = pickle.load(open(\"d:\\VELOCITY_Class\\practice datasets\\\\bank\\\\artifacts\\\\columns.pkl\",\"rb\"))"
   ]
  },
  {
   "cell_type": "code",
   "execution_count": 241,
   "id": "240bc0df",
   "metadata": {},
   "outputs": [
    {
     "data": {
      "text/plain": [
       "'job_\"admin.\"'"
      ]
     },
     "execution_count": 241,
     "metadata": {},
     "output_type": "execute_result"
    }
   ],
   "source": [
    "x.columns[15]"
   ]
  },
  {
   "cell_type": "code",
   "execution_count": 242,
   "id": "c1e4f2cf",
   "metadata": {},
   "outputs": [
    {
     "data": {
      "text/plain": [
       "(45211, 27)"
      ]
     },
     "execution_count": 242,
     "metadata": {},
     "output_type": "execute_result"
    }
   ],
   "source": [
    "x.shape"
   ]
  },
  {
   "cell_type": "code",
   "execution_count": 243,
   "id": "3d834ab5",
   "metadata": {},
   "outputs": [
    {
     "data": {
      "text/plain": [
       "array([0., 0., 0., 0., 0., 0., 0., 0., 0., 0., 0., 0., 0., 0., 0., 0., 0.,\n",
       "       0., 0., 0., 0., 0., 0., 0., 0., 0., 0., 0., 0., 0., 0., 0., 0., 0.,\n",
       "       0., 0., 0., 0., 0., 0., 0., 0., 0., 0., 0., 0., 0., 0., 0., 0., 0.,\n",
       "       0., 0., 0., 0., 0., 0., 0., 0., 0., 0., 0., 0., 0., 0., 0., 0., 0.,\n",
       "       0., 0., 0., 0., 0., 0., 0., 0., 0., 0., 0., 0., 0., 0., 0., 0., 0.,\n",
       "       0., 0., 0., 0., 0., 0., 0., 0., 0., 0., 0., 0., 0., 0., 0., 0., 0.,\n",
       "       0., 0., 0., 0., 0., 0., 0., 0., 0., 0., 0., 0., 0., 0., 0., 0., 0.,\n",
       "       0., 0., 0., 0., 0., 0., 0., 0., 0., 0., 0., 0., 0., 0., 0., 0., 0.,\n",
       "       0., 0., 0., 0., 0., 0., 0., 0., 0., 0., 0., 0., 0., 0., 0., 0., 0.,\n",
       "       0., 0., 0., 0., 0., 0., 0., 0., 0., 0., 0., 0., 0., 0., 0., 0., 0.,\n",
       "       0., 0., 0., 0., 0., 0., 0., 0., 0., 0., 0., 0., 0., 0., 0., 0., 0.,\n",
       "       0., 0., 0., 0., 0., 0., 0., 0., 0., 0., 0., 0., 0., 0., 0., 0., 0.,\n",
       "       0., 0., 0., 0., 0., 0., 0., 0., 0., 0., 0., 0., 0., 0., 0., 0., 0.,\n",
       "       0., 0., 0., 0., 0., 0., 0., 0., 0., 0., 0., 0., 0., 0., 0., 0., 0.,\n",
       "       0., 0., 0., 0., 0., 0., 0., 0., 0., 0., 0., 0., 0., 0., 0., 0.])"
      ]
     },
     "execution_count": 243,
     "metadata": {},
     "output_type": "execute_result"
    }
   ],
   "source": [
    "np.zeros(254)"
   ]
  },
  {
   "cell_type": "code",
   "execution_count": 254,
   "id": "691ed912",
   "metadata": {},
   "outputs": [
    {
     "data": {
      "text/plain": [
       "0    36959\n",
       "2     4901\n",
       "1     1840\n",
       "3     1511\n",
       "Name: poutcome, dtype: int64"
      ]
     },
     "execution_count": 254,
     "metadata": {},
     "output_type": "execute_result"
    }
   ],
   "source": [
    "x[\"poutcome\"].value_counts()"
   ]
  }
 ],
 "metadata": {
  "kernelspec": {
   "display_name": "Python 3 (ipykernel)",
   "language": "python",
   "name": "python3"
  },
  "language_info": {
   "codemirror_mode": {
    "name": "ipython",
    "version": 3
   },
   "file_extension": ".py",
   "mimetype": "text/x-python",
   "name": "python",
   "nbconvert_exporter": "python",
   "pygments_lexer": "ipython3",
   "version": "3.9.7"
  }
 },
 "nbformat": 4,
 "nbformat_minor": 5
}

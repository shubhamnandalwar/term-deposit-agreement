{
 "cells": [
  {
   "cell_type": "code",
   "execution_count": null,
   "id": "ec5c2a7b",
   "metadata": {},
   "outputs": [],
   "source": [
    "# out of them we select 2 lakhs datapoints for poc and"
   ]
  },
  {
   "cell_type": "markdown",
   "id": "48726048",
   "metadata": {},
   "source": [
    "# problem statement"
   ]
  },
  {
   "cell_type": "code",
   "execution_count": null,
   "id": "8e66252c",
   "metadata": {},
   "outputs": [],
   "source": [
    "goal is to build predictive model for the client contacted through the marketing campaign will subscribe a term deposit or not\n",
    "\n",
    "term deposit ?\n",
    "-With a term deposit, you lock away an amount of money for an agreed length of time (the 'term')\n",
    "that means you can't access the money until the term is up. In return, you'll get a guaranteed\n",
    "rate of interest for the term you select, so you'll know exactly what the return on your money will be"
   ]
  },
  {
   "cell_type": "markdown",
   "id": "9347d90b",
   "metadata": {},
   "source": [
    "# data gathering"
   ]
  },
  {
   "cell_type": "code",
   "execution_count": null,
   "id": "0b69f787",
   "metadata": {},
   "outputs": [],
   "source": [
    ">>client provide the data on our company server and the data in semi-structured (json format)\n",
    ">>there will be around 150 key-value pairs , with the help domain expertise we selct only 40 imp features.\n",
    ">> after that i converted into csv \n",
    "\n",
    "our dataset contain 40 features and near 10 milliions rows."
   ]
  },
  {
   "cell_type": "markdown",
   "id": "7cad9dcf",
   "metadata": {},
   "source": [
    "# eda"
   ]
  },
  {
   "cell_type": "code",
   "execution_count": null,
   "id": "fd7d2a83",
   "metadata": {},
   "outputs": [],
   "source": [
    "in eda part we\n",
    "1. first we analyize the data, feature wise\n",
    "2. then we see how each feature is put impact on our traget column and see the graphical representaion.\n",
    "\n",
    "after doing all initial investgation\n",
    "\n",
    "3.we check is the datset contain null values and outiers or not\n",
    "and we found the outiers as well as null values\n",
    "\n",
    "4. by using isna().sum() function we detect the null values and\n",
    "   by using boxplot we visualzie the outiers\n",
    "    \n",
    "so after getting null values and outiers we discuss these things with client,\n",
    "after taking consent of client we filled null values with median\n",
    "and handle outiers using transformation techniques (log transoformation bcoz robust to outiers)\n",
    "\n",
    "5.out of 25 feature 5 are categorical including target column\n",
    ">>the data present in those columns are ordinal except one which is job column\n",
    ">> we transform ordinal data by using label encoding \n",
    ">>we transform that column using one hot encoding\n"
   ]
  },
  {
   "cell_type": "code",
   "execution_count": null,
   "id": "3cea7852",
   "metadata": {},
   "outputs": [],
   "source": [
    "after doing feature engineering we move towards the feature selection\n",
    "\n",
    ">> after doing all feture engineering process we done feature scaleing."
   ]
  },
  {
   "cell_type": "markdown",
   "id": "3001a77d",
   "metadata": {},
   "source": [
    "# feature selection"
   ]
  },
  {
   "cell_type": "code",
   "execution_count": null,
   "id": "f7f5a186",
   "metadata": {},
   "outputs": [],
   "source": [
    "in feature selection we select features by using correlation matrix (default pearson correlation of coefficient,spearman corr,kendall)\n",
    "in feature selction we select only those which R values is greater than 0.6 (and the range is 0 to 1)\n",
    ">>fissherscore\n",
    ">>varience threshold method\n",
    ">>missing value ratio\n"
   ]
  },
  {
   "cell_type": "markdown",
   "id": "ec1e3453",
   "metadata": {},
   "source": [
    "# model building"
   ]
  },
  {
   "cell_type": "code",
   "execution_count": null,
   "id": "42819d3a",
   "metadata": {},
   "outputs": [],
   "source": [
    "we select 5 algorithms for model training\n",
    "1 logistc   (standardized data)      # \n",
    "2. kNN      (standrdized data )\n",
    "3 decesion  (normal)\n",
    "4 random    (normal)\n",
    "\n",
    ">>\n",
    "\n",
    "we get best accuracy on Random forest and client also satisfied with the accuracy ,\n",
    ">> so we finalise this model for predictive purpose"
   ]
  },
  {
   "cell_type": "code",
   "execution_count": 5,
   "id": "33d82504",
   "metadata": {},
   "outputs": [],
   "source": [
    "# api"
   ]
  },
  {
   "cell_type": "code",
   "execution_count": 7,
   "id": "43f113b4",
   "metadata": {},
   "outputs": [],
   "source": [
    "# deployment"
   ]
  },
  {
   "cell_type": "code",
   "execution_count": null,
   "id": "7b05a538",
   "metadata": {},
   "outputs": [],
   "source": [
    "# conclusion"
   ]
  }
 ],
 "metadata": {
  "kernelspec": {
   "display_name": "Python 3 (ipykernel)",
   "language": "python",
   "name": "python3"
  },
  "language_info": {
   "codemirror_mode": {
    "name": "ipython",
    "version": 3
   },
   "file_extension": ".py",
   "mimetype": "text/x-python",
   "name": "python",
   "nbconvert_exporter": "python",
   "pygments_lexer": "ipython3",
   "version": "3.9.7"
  }
 },
 "nbformat": 4,
 "nbformat_minor": 5
}
